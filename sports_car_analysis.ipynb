{
 "cells": [
  {
   "cell_type": "markdown",
   "id": "88967f26",
   "metadata": {
    "ExecuteTime": {
     "end_time": "2024-05-28T20:14:43.579111Z",
     "start_time": "2024-05-28T20:14:43.563487Z"
    }
   },
   "source": [
    "## ***Car Price Data Analysis***\n"
   ]
  },
  {
   "cell_type": "markdown",
   "id": "ca4d7f3b",
   "metadata": {
    "ExecuteTime": {
     "end_time": "2024-05-28T20:16:52.320888Z",
     "start_time": "2024-05-28T20:16:52.305260Z"
    }
   },
   "source": [
    "#### importing libraries"
   ]
  },
  {
   "cell_type": "code",
   "execution_count": 23,
   "id": "5699bfea",
   "metadata": {},
   "outputs": [
    {
     "name": "stdout",
     "output_type": "stream",
     "text": [
      "Requirement already satisfied: seaborn in c:\\users\\laptop\\appdata\\local\\programs\\python\\python311\\lib\\site-packages (0.13.2)\n",
      "Requirement already satisfied: numpy!=1.24.0,>=1.20 in c:\\users\\laptop\\appdata\\roaming\\python\\python311\\site-packages (from seaborn) (1.26.4)\n",
      "Requirement already satisfied: pandas>=1.2 in c:\\users\\laptop\\appdata\\roaming\\python\\python311\\site-packages (from seaborn) (2.2.2)\n",
      "Requirement already satisfied: matplotlib!=3.6.1,>=3.4 in c:\\users\\laptop\\appdata\\local\\programs\\python\\python311\\lib\\site-packages (from seaborn) (3.9.0)\n",
      "Requirement already satisfied: contourpy>=1.0.1 in c:\\users\\laptop\\appdata\\local\\programs\\python\\python311\\lib\\site-packages (from matplotlib!=3.6.1,>=3.4->seaborn) (1.2.1)\n",
      "Requirement already satisfied: cycler>=0.10 in c:\\users\\laptop\\appdata\\local\\programs\\python\\python311\\lib\\site-packages (from matplotlib!=3.6.1,>=3.4->seaborn) (0.12.1)\n",
      "Requirement already satisfied: fonttools>=4.22.0 in c:\\users\\laptop\\appdata\\local\\programs\\python\\python311\\lib\\site-packages (from matplotlib!=3.6.1,>=3.4->seaborn) (4.53.0)\n",
      "Requirement already satisfied: kiwisolver>=1.3.1 in c:\\users\\laptop\\appdata\\local\\programs\\python\\python311\\lib\\site-packages (from matplotlib!=3.6.1,>=3.4->seaborn) (1.4.5)\n",
      "Requirement already satisfied: packaging>=20.0 in c:\\users\\laptop\\appdata\\local\\programs\\python\\python311\\lib\\site-packages (from matplotlib!=3.6.1,>=3.4->seaborn) (24.0)\n",
      "Requirement already satisfied: pillow>=8 in c:\\users\\laptop\\appdata\\roaming\\python\\python311\\site-packages (from matplotlib!=3.6.1,>=3.4->seaborn) (10.3.0)\n",
      "Requirement already satisfied: pyparsing>=2.3.1 in c:\\users\\laptop\\appdata\\local\\programs\\python\\python311\\lib\\site-packages (from matplotlib!=3.6.1,>=3.4->seaborn) (3.1.2)\n",
      "Requirement already satisfied: python-dateutil>=2.7 in c:\\users\\laptop\\appdata\\local\\programs\\python\\python311\\lib\\site-packages (from matplotlib!=3.6.1,>=3.4->seaborn) (2.9.0.post0)\n",
      "Requirement already satisfied: pytz>=2020.1 in c:\\users\\laptop\\appdata\\roaming\\python\\python311\\site-packages (from pandas>=1.2->seaborn) (2024.1)\n",
      "Requirement already satisfied: tzdata>=2022.7 in c:\\users\\laptop\\appdata\\roaming\\python\\python311\\site-packages (from pandas>=1.2->seaborn) (2024.1)\n",
      "Requirement already satisfied: six>=1.5 in c:\\users\\laptop\\appdata\\local\\programs\\python\\python311\\lib\\site-packages (from python-dateutil>=2.7->matplotlib!=3.6.1,>=3.4->seaborn) (1.16.0)\n"
     ]
    }
   ],
   "source": [
    "! pip install seaborn"
   ]
  },
  {
   "cell_type": "code",
   "execution_count": 24,
   "id": "610b96be",
   "metadata": {
    "ExecuteTime": {
     "end_time": "2024-08-10T10:32:40.323256Z",
     "start_time": "2024-08-10T10:32:40.292007Z"
    }
   },
   "outputs": [],
   "source": [
    "import pandas as pd\n",
    "import numpy as np\n",
    "import matplotlib.pyplot as plt\n",
    "import seaborn as sns\n",
    "from matplotlib.pyplot import style\n",
    "style.use('classic')\n",
    "import datetime "
   ]
  },
  {
   "cell_type": "code",
   "execution_count": 25,
   "id": "e5ded148",
   "metadata": {
    "ExecuteTime": {
     "end_time": "2024-08-10T10:32:41.148592Z",
     "start_time": "2024-08-10T10:32:41.137755Z"
    },
    "scrolled": true
   },
   "outputs": [
    {
     "data": {
      "text/plain": [
       "['Solarize_Light2',\n",
       " '_classic_test_patch',\n",
       " '_mpl-gallery',\n",
       " '_mpl-gallery-nogrid',\n",
       " 'bmh',\n",
       " 'classic',\n",
       " 'dark_background',\n",
       " 'fast',\n",
       " 'fivethirtyeight',\n",
       " 'ggplot',\n",
       " 'grayscale',\n",
       " 'seaborn-v0_8',\n",
       " 'seaborn-v0_8-bright',\n",
       " 'seaborn-v0_8-colorblind',\n",
       " 'seaborn-v0_8-dark',\n",
       " 'seaborn-v0_8-dark-palette',\n",
       " 'seaborn-v0_8-darkgrid',\n",
       " 'seaborn-v0_8-deep',\n",
       " 'seaborn-v0_8-muted',\n",
       " 'seaborn-v0_8-notebook',\n",
       " 'seaborn-v0_8-paper',\n",
       " 'seaborn-v0_8-pastel',\n",
       " 'seaborn-v0_8-poster',\n",
       " 'seaborn-v0_8-talk',\n",
       " 'seaborn-v0_8-ticks',\n",
       " 'seaborn-v0_8-white',\n",
       " 'seaborn-v0_8-whitegrid',\n",
       " 'tableau-colorblind10']"
      ]
     },
     "execution_count": 25,
     "metadata": {},
     "output_type": "execute_result"
    }
   ],
   "source": [
    "style.available"
   ]
  },
  {
   "cell_type": "code",
   "execution_count": 26,
   "id": "c3d5cd90",
   "metadata": {
    "ExecuteTime": {
     "end_time": "2024-08-10T10:32:42.262239Z",
     "start_time": "2024-08-10T10:32:42.246592Z"
    }
   },
   "outputs": [],
   "source": [
    "path = \"C:\\\\Users\\\\LAPTOP\\\\Desktop\\\\DATA SCIENCE\\\\Data_set\\\\Sport car price.csv\"\n"
   ]
  },
  {
   "cell_type": "code",
   "execution_count": 27,
   "id": "d0ddf16e",
   "metadata": {
    "ExecuteTime": {
     "end_time": "2024-08-10T10:32:44.012096Z",
     "start_time": "2024-08-10T10:32:43.980846Z"
    }
   },
   "outputs": [],
   "source": [
    "df = pd.read_csv(path)"
   ]
  },
  {
   "cell_type": "code",
   "execution_count": 28,
   "id": "5ecf6686",
   "metadata": {
    "ExecuteTime": {
     "end_time": "2024-08-10T10:32:45.058895Z",
     "start_time": "2024-08-10T10:32:45.027672Z"
    }
   },
   "outputs": [
    {
     "data": {
      "text/plain": [
       "(1007, 8)"
      ]
     },
     "execution_count": 28,
     "metadata": {},
     "output_type": "execute_result"
    }
   ],
   "source": [
    "df.shape"
   ]
  },
  {
   "cell_type": "code",
   "execution_count": 29,
   "id": "81c93401",
   "metadata": {
    "ExecuteTime": {
     "end_time": "2024-08-10T10:32:46.193128Z",
     "start_time": "2024-08-10T10:32:46.177501Z"
    }
   },
   "outputs": [
    {
     "data": {
      "text/plain": [
       "Index(['Car Make', 'Car Model', 'Year', 'Engine Size (L)', 'Horsepower',\n",
       "       'Torque (lb-ft)', '0-60 MPH Time (seconds)', 'Price (in USD)'],\n",
       "      dtype='object')"
      ]
     },
     "execution_count": 29,
     "metadata": {},
     "output_type": "execute_result"
    }
   ],
   "source": [
    "df.columns"
   ]
  },
  {
   "cell_type": "code",
   "execution_count": 30,
   "id": "adcbd1e9",
   "metadata": {
    "ExecuteTime": {
     "end_time": "2024-08-10T10:32:49.233075Z",
     "start_time": "2024-08-10T10:32:49.193399Z"
    }
   },
   "outputs": [
    {
     "name": "stdout",
     "output_type": "stream",
     "text": [
      "<class 'pandas.core.frame.DataFrame'>\n",
      "RangeIndex: 1007 entries, 0 to 1006\n",
      "Data columns (total 8 columns):\n",
      " #   Column                   Non-Null Count  Dtype \n",
      "---  ------                   --------------  ----- \n",
      " 0   Car Make                 1007 non-null   object\n",
      " 1   Car Model                1007 non-null   object\n",
      " 2   Year                     1007 non-null   int64 \n",
      " 3   Engine Size (L)          997 non-null    object\n",
      " 4   Horsepower               1007 non-null   object\n",
      " 5   Torque (lb-ft)           1004 non-null   object\n",
      " 6   0-60 MPH Time (seconds)  1007 non-null   object\n",
      " 7   Price (in USD)           1007 non-null   object\n",
      "dtypes: int64(1), object(7)\n",
      "memory usage: 63.1+ KB\n"
     ]
    }
   ],
   "source": [
    "df.info()"
   ]
  },
  {
   "cell_type": "code",
   "execution_count": 31,
   "id": "73b2d970",
   "metadata": {
    "ExecuteTime": {
     "end_time": "2024-08-10T10:32:51.378053Z",
     "start_time": "2024-08-10T10:32:51.346804Z"
    }
   },
   "outputs": [
    {
     "data": {
      "text/plain": [
       "<bound method NDFrame.describe of          Car Make Car Model  Year Engine Size (L) Horsepower Torque (lb-ft)  \\\n",
       "0         Porsche       911  2022               3        379            331   \n",
       "1     Lamborghini   Huracan  2021             5.2        630            443   \n",
       "2         Ferrari   488 GTB  2022             3.9        661            561   \n",
       "3            Audi        R8  2022             5.2        562            406   \n",
       "4         McLaren      720S  2021               4        710            568   \n",
       "...           ...       ...   ...             ...        ...            ...   \n",
       "1002   Koenigsegg     Jesko  2022               5       1280           1106   \n",
       "1003        Lotus     Evija  2021  Electric Motor       1972           1254   \n",
       "1004      McLaren     Senna  2021               4        789            590   \n",
       "1005       Pagani    Huayra  2021               6        764            738   \n",
       "1006        Rimac    Nevera  2021  Electric Motor       1888           1696   \n",
       "\n",
       "     0-60 MPH Time (seconds) Price (in USD)  \n",
       "0                          4        101,200  \n",
       "1                        2.8        274,390  \n",
       "2                          3        333,750  \n",
       "3                        3.2        142,700  \n",
       "4                        2.7        298,000  \n",
       "...                      ...            ...  \n",
       "1002                     2.5      3,000,000  \n",
       "1003                       2      2,000,000  \n",
       "1004                     2.7      1,000,000  \n",
       "1005                       3      2,600,000  \n",
       "1006                    1.85      2,400,000  \n",
       "\n",
       "[1007 rows x 8 columns]>"
      ]
     },
     "execution_count": 31,
     "metadata": {},
     "output_type": "execute_result"
    }
   ],
   "source": [
    "df.describe"
   ]
  },
  {
   "cell_type": "code",
   "execution_count": 32,
   "id": "07904a71",
   "metadata": {
    "ExecuteTime": {
     "end_time": "2024-08-10T10:32:52.817458Z",
     "start_time": "2024-08-10T10:32:52.777782Z"
    }
   },
   "outputs": [
    {
     "data": {
      "text/html": [
       "<div>\n",
       "<style scoped>\n",
       "    .dataframe tbody tr th:only-of-type {\n",
       "        vertical-align: middle;\n",
       "    }\n",
       "\n",
       "    .dataframe tbody tr th {\n",
       "        vertical-align: top;\n",
       "    }\n",
       "\n",
       "    .dataframe thead th {\n",
       "        text-align: right;\n",
       "    }\n",
       "</style>\n",
       "<table border=\"1\" class=\"dataframe\">\n",
       "  <thead>\n",
       "    <tr style=\"text-align: right;\">\n",
       "      <th></th>\n",
       "      <th>Car Make</th>\n",
       "      <th>Car Model</th>\n",
       "      <th>Year</th>\n",
       "      <th>Engine Size (L)</th>\n",
       "      <th>Horsepower</th>\n",
       "      <th>Torque (lb-ft)</th>\n",
       "      <th>0-60 MPH Time (seconds)</th>\n",
       "      <th>Price (in USD)</th>\n",
       "    </tr>\n",
       "  </thead>\n",
       "  <tbody>\n",
       "    <tr>\n",
       "      <th>0</th>\n",
       "      <td>Porsche</td>\n",
       "      <td>911</td>\n",
       "      <td>2022</td>\n",
       "      <td>3</td>\n",
       "      <td>379</td>\n",
       "      <td>331</td>\n",
       "      <td>4</td>\n",
       "      <td>101,200</td>\n",
       "    </tr>\n",
       "    <tr>\n",
       "      <th>1</th>\n",
       "      <td>Lamborghini</td>\n",
       "      <td>Huracan</td>\n",
       "      <td>2021</td>\n",
       "      <td>5.2</td>\n",
       "      <td>630</td>\n",
       "      <td>443</td>\n",
       "      <td>2.8</td>\n",
       "      <td>274,390</td>\n",
       "    </tr>\n",
       "    <tr>\n",
       "      <th>2</th>\n",
       "      <td>Ferrari</td>\n",
       "      <td>488 GTB</td>\n",
       "      <td>2022</td>\n",
       "      <td>3.9</td>\n",
       "      <td>661</td>\n",
       "      <td>561</td>\n",
       "      <td>3</td>\n",
       "      <td>333,750</td>\n",
       "    </tr>\n",
       "    <tr>\n",
       "      <th>3</th>\n",
       "      <td>Audi</td>\n",
       "      <td>R8</td>\n",
       "      <td>2022</td>\n",
       "      <td>5.2</td>\n",
       "      <td>562</td>\n",
       "      <td>406</td>\n",
       "      <td>3.2</td>\n",
       "      <td>142,700</td>\n",
       "    </tr>\n",
       "    <tr>\n",
       "      <th>4</th>\n",
       "      <td>McLaren</td>\n",
       "      <td>720S</td>\n",
       "      <td>2021</td>\n",
       "      <td>4</td>\n",
       "      <td>710</td>\n",
       "      <td>568</td>\n",
       "      <td>2.7</td>\n",
       "      <td>298,000</td>\n",
       "    </tr>\n",
       "  </tbody>\n",
       "</table>\n",
       "</div>"
      ],
      "text/plain": [
       "      Car Make Car Model  Year Engine Size (L) Horsepower Torque (lb-ft)  \\\n",
       "0      Porsche       911  2022               3        379            331   \n",
       "1  Lamborghini   Huracan  2021             5.2        630            443   \n",
       "2      Ferrari   488 GTB  2022             3.9        661            561   \n",
       "3         Audi        R8  2022             5.2        562            406   \n",
       "4      McLaren      720S  2021               4        710            568   \n",
       "\n",
       "  0-60 MPH Time (seconds) Price (in USD)  \n",
       "0                       4        101,200  \n",
       "1                     2.8        274,390  \n",
       "2                       3        333,750  \n",
       "3                     3.2        142,700  \n",
       "4                     2.7        298,000  "
      ]
     },
     "execution_count": 32,
     "metadata": {},
     "output_type": "execute_result"
    }
   ],
   "source": [
    "df.head()"
   ]
  },
  {
   "cell_type": "markdown",
   "id": "e8924a3f",
   "metadata": {},
   "source": [
    "## EDA and Data  MIning"
   ]
  },
  {
   "cell_type": "code",
   "execution_count": 33,
   "id": "fcf00e42",
   "metadata": {
    "ExecuteTime": {
     "end_time": "2024-08-10T10:33:06.324762Z",
     "start_time": "2024-08-10T10:33:06.293581Z"
    }
   },
   "outputs": [
    {
     "data": {
      "text/plain": [
       "Car Make                    0\n",
       "Car Model                   0\n",
       "Year                        0\n",
       "Engine Size (L)            10\n",
       "Horsepower                  0\n",
       "Torque (lb-ft)              3\n",
       "0-60 MPH Time (seconds)     0\n",
       "Price (in USD)              0\n",
       "dtype: int64"
      ]
     },
     "execution_count": 33,
     "metadata": {},
     "output_type": "execute_result"
    }
   ],
   "source": [
    "df.isnull().sum()"
   ]
  },
  {
   "cell_type": "code",
   "execution_count": 34,
   "id": "77eb102c",
   "metadata": {
    "ExecuteTime": {
     "end_time": "2024-08-10T10:33:08.043418Z",
     "start_time": "2024-08-10T10:33:08.012211Z"
    }
   },
   "outputs": [
    {
     "data": {
      "text/plain": [
       "288"
      ]
     },
     "execution_count": 34,
     "metadata": {},
     "output_type": "execute_result"
    }
   ],
   "source": [
    "df.duplicated().sum()"
   ]
  },
  {
   "cell_type": "code",
   "execution_count": 35,
   "id": "005133f0",
   "metadata": {
    "ExecuteTime": {
     "end_time": "2024-08-10T10:33:11.012784Z",
     "start_time": "2024-08-10T10:33:10.997133Z"
    }
   },
   "outputs": [],
   "source": [
    "df.dropna(inplace=True)"
   ]
  },
  {
   "cell_type": "code",
   "execution_count": 36,
   "id": "2d3f3aa6",
   "metadata": {
    "ExecuteTime": {
     "end_time": "2024-08-10T10:33:13.833568Z",
     "start_time": "2024-08-10T10:33:13.802319Z"
    }
   },
   "outputs": [],
   "source": [
    "df.drop_duplicates(inplace=True)"
   ]
  },
  {
   "cell_type": "code",
   "execution_count": 37,
   "id": "e6ac9046",
   "metadata": {
    "ExecuteTime": {
     "end_time": "2024-08-10T10:33:15.083499Z",
     "start_time": "2024-08-10T10:33:15.052235Z"
    }
   },
   "outputs": [
    {
     "data": {
      "text/plain": [
       "Car Make                   0\n",
       "Car Model                  0\n",
       "Year                       0\n",
       "Engine Size (L)            0\n",
       "Horsepower                 0\n",
       "Torque (lb-ft)             0\n",
       "0-60 MPH Time (seconds)    0\n",
       "Price (in USD)             0\n",
       "dtype: int64"
      ]
     },
     "execution_count": 37,
     "metadata": {},
     "output_type": "execute_result"
    }
   ],
   "source": [
    "null=df.isnull().sum()\n",
    "null"
   ]
  },
  {
   "cell_type": "code",
   "execution_count": 38,
   "id": "3d232fc1",
   "metadata": {
    "ExecuteTime": {
     "end_time": "2024-08-10T10:33:16.883687Z",
     "start_time": "2024-08-10T10:33:16.852441Z"
    }
   },
   "outputs": [
    {
     "data": {
      "text/plain": [
       "0"
      ]
     },
     "execution_count": 38,
     "metadata": {},
     "output_type": "execute_result"
    }
   ],
   "source": [
    "df.duplicated().sum()"
   ]
  },
  {
   "cell_type": "code",
   "execution_count": 39,
   "id": "84fcf43d",
   "metadata": {
    "ExecuteTime": {
     "end_time": "2024-08-10T10:33:21.130106Z",
     "start_time": "2024-08-10T10:33:21.098838Z"
    }
   },
   "outputs": [
    {
     "data": {
      "text/html": [
       "<div>\n",
       "<style scoped>\n",
       "    .dataframe tbody tr th:only-of-type {\n",
       "        vertical-align: middle;\n",
       "    }\n",
       "\n",
       "    .dataframe tbody tr th {\n",
       "        vertical-align: top;\n",
       "    }\n",
       "\n",
       "    .dataframe thead th {\n",
       "        text-align: right;\n",
       "    }\n",
       "</style>\n",
       "<table border=\"1\" class=\"dataframe\">\n",
       "  <thead>\n",
       "    <tr style=\"text-align: right;\">\n",
       "      <th></th>\n",
       "      <th>Car Make</th>\n",
       "      <th>Car Model</th>\n",
       "      <th>Year</th>\n",
       "      <th>Engine Size (L)</th>\n",
       "      <th>Horsepower</th>\n",
       "      <th>Torque (lb-ft)</th>\n",
       "      <th>0-60 MPH Time (seconds)</th>\n",
       "      <th>Price (in USD)</th>\n",
       "    </tr>\n",
       "  </thead>\n",
       "  <tbody>\n",
       "    <tr>\n",
       "      <th>0</th>\n",
       "      <td>Porsche</td>\n",
       "      <td>911</td>\n",
       "      <td>2022</td>\n",
       "      <td>3</td>\n",
       "      <td>379</td>\n",
       "      <td>331</td>\n",
       "      <td>4</td>\n",
       "      <td>101,200</td>\n",
       "    </tr>\n",
       "    <tr>\n",
       "      <th>1</th>\n",
       "      <td>Lamborghini</td>\n",
       "      <td>Huracan</td>\n",
       "      <td>2021</td>\n",
       "      <td>5.2</td>\n",
       "      <td>630</td>\n",
       "      <td>443</td>\n",
       "      <td>2.8</td>\n",
       "      <td>274,390</td>\n",
       "    </tr>\n",
       "    <tr>\n",
       "      <th>2</th>\n",
       "      <td>Ferrari</td>\n",
       "      <td>488 GTB</td>\n",
       "      <td>2022</td>\n",
       "      <td>3.9</td>\n",
       "      <td>661</td>\n",
       "      <td>561</td>\n",
       "      <td>3</td>\n",
       "      <td>333,750</td>\n",
       "    </tr>\n",
       "    <tr>\n",
       "      <th>3</th>\n",
       "      <td>Audi</td>\n",
       "      <td>R8</td>\n",
       "      <td>2022</td>\n",
       "      <td>5.2</td>\n",
       "      <td>562</td>\n",
       "      <td>406</td>\n",
       "      <td>3.2</td>\n",
       "      <td>142,700</td>\n",
       "    </tr>\n",
       "    <tr>\n",
       "      <th>4</th>\n",
       "      <td>McLaren</td>\n",
       "      <td>720S</td>\n",
       "      <td>2021</td>\n",
       "      <td>4</td>\n",
       "      <td>710</td>\n",
       "      <td>568</td>\n",
       "      <td>2.7</td>\n",
       "      <td>298,000</td>\n",
       "    </tr>\n",
       "    <tr>\n",
       "      <th>...</th>\n",
       "      <td>...</td>\n",
       "      <td>...</td>\n",
       "      <td>...</td>\n",
       "      <td>...</td>\n",
       "      <td>...</td>\n",
       "      <td>...</td>\n",
       "      <td>...</td>\n",
       "      <td>...</td>\n",
       "    </tr>\n",
       "    <tr>\n",
       "      <th>999</th>\n",
       "      <td>Nissan</td>\n",
       "      <td>370Z</td>\n",
       "      <td>2021</td>\n",
       "      <td>3.7</td>\n",
       "      <td>332</td>\n",
       "      <td>270</td>\n",
       "      <td>5.1</td>\n",
       "      <td>30,090</td>\n",
       "    </tr>\n",
       "    <tr>\n",
       "      <th>1002</th>\n",
       "      <td>Koenigsegg</td>\n",
       "      <td>Jesko</td>\n",
       "      <td>2022</td>\n",
       "      <td>5</td>\n",
       "      <td>1280</td>\n",
       "      <td>1106</td>\n",
       "      <td>2.5</td>\n",
       "      <td>3,000,000</td>\n",
       "    </tr>\n",
       "    <tr>\n",
       "      <th>1003</th>\n",
       "      <td>Lotus</td>\n",
       "      <td>Evija</td>\n",
       "      <td>2021</td>\n",
       "      <td>Electric Motor</td>\n",
       "      <td>1972</td>\n",
       "      <td>1254</td>\n",
       "      <td>2</td>\n",
       "      <td>2,000,000</td>\n",
       "    </tr>\n",
       "    <tr>\n",
       "      <th>1005</th>\n",
       "      <td>Pagani</td>\n",
       "      <td>Huayra</td>\n",
       "      <td>2021</td>\n",
       "      <td>6</td>\n",
       "      <td>764</td>\n",
       "      <td>738</td>\n",
       "      <td>3</td>\n",
       "      <td>2,600,000</td>\n",
       "    </tr>\n",
       "    <tr>\n",
       "      <th>1006</th>\n",
       "      <td>Rimac</td>\n",
       "      <td>Nevera</td>\n",
       "      <td>2021</td>\n",
       "      <td>Electric Motor</td>\n",
       "      <td>1888</td>\n",
       "      <td>1696</td>\n",
       "      <td>1.85</td>\n",
       "      <td>2,400,000</td>\n",
       "    </tr>\n",
       "  </tbody>\n",
       "</table>\n",
       "<p>707 rows × 8 columns</p>\n",
       "</div>"
      ],
      "text/plain": [
       "         Car Make Car Model  Year Engine Size (L) Horsepower Torque (lb-ft)  \\\n",
       "0         Porsche       911  2022               3        379            331   \n",
       "1     Lamborghini   Huracan  2021             5.2        630            443   \n",
       "2         Ferrari   488 GTB  2022             3.9        661            561   \n",
       "3            Audi        R8  2022             5.2        562            406   \n",
       "4         McLaren      720S  2021               4        710            568   \n",
       "...           ...       ...   ...             ...        ...            ...   \n",
       "999        Nissan      370Z  2021             3.7        332            270   \n",
       "1002   Koenigsegg     Jesko  2022               5       1280           1106   \n",
       "1003        Lotus     Evija  2021  Electric Motor       1972           1254   \n",
       "1005       Pagani    Huayra  2021               6        764            738   \n",
       "1006        Rimac    Nevera  2021  Electric Motor       1888           1696   \n",
       "\n",
       "     0-60 MPH Time (seconds) Price (in USD)  \n",
       "0                          4        101,200  \n",
       "1                        2.8        274,390  \n",
       "2                          3        333,750  \n",
       "3                        3.2        142,700  \n",
       "4                        2.7        298,000  \n",
       "...                      ...            ...  \n",
       "999                      5.1         30,090  \n",
       "1002                     2.5      3,000,000  \n",
       "1003                       2      2,000,000  \n",
       "1005                       3      2,600,000  \n",
       "1006                    1.85      2,400,000  \n",
       "\n",
       "[707 rows x 8 columns]"
      ]
     },
     "execution_count": 39,
     "metadata": {},
     "output_type": "execute_result"
    }
   ],
   "source": [
    "df"
   ]
  },
  {
   "cell_type": "code",
   "execution_count": 40,
   "id": "04aaa46e",
   "metadata": {
    "ExecuteTime": {
     "end_time": "2024-08-10T10:33:27.263791Z",
     "start_time": "2024-08-10T10:33:27.232593Z"
    }
   },
   "outputs": [],
   "source": [
    "df.rename(columns={'0-60 MPH Time (seconds)':'Time','Torque (lb-ft)':'Torque','Price (in USD)':'price'},inplace=True)\n",
    "# col_names = ['Cm','Cmo','Y','Es','HP','T','Tm','p']\n",
    "# df.columns=col_names"
   ]
  },
  {
   "cell_type": "code",
   "execution_count": 41,
   "id": "6e2cf6b0",
   "metadata": {
    "ExecuteTime": {
     "end_time": "2024-08-10T10:33:31.649933Z",
     "start_time": "2024-08-10T10:33:31.603040Z"
    }
   },
   "outputs": [
    {
     "data": {
      "text/html": [
       "<div>\n",
       "<style scoped>\n",
       "    .dataframe tbody tr th:only-of-type {\n",
       "        vertical-align: middle;\n",
       "    }\n",
       "\n",
       "    .dataframe tbody tr th {\n",
       "        vertical-align: top;\n",
       "    }\n",
       "\n",
       "    .dataframe thead th {\n",
       "        text-align: right;\n",
       "    }\n",
       "</style>\n",
       "<table border=\"1\" class=\"dataframe\">\n",
       "  <thead>\n",
       "    <tr style=\"text-align: right;\">\n",
       "      <th></th>\n",
       "      <th>Car Make</th>\n",
       "      <th>Car Model</th>\n",
       "      <th>Year</th>\n",
       "      <th>Engine Size (L)</th>\n",
       "      <th>Horsepower</th>\n",
       "      <th>Torque</th>\n",
       "      <th>Time</th>\n",
       "      <th>price</th>\n",
       "    </tr>\n",
       "  </thead>\n",
       "  <tbody>\n",
       "    <tr>\n",
       "      <th>0</th>\n",
       "      <td>Porsche</td>\n",
       "      <td>911</td>\n",
       "      <td>2022</td>\n",
       "      <td>3</td>\n",
       "      <td>379</td>\n",
       "      <td>331</td>\n",
       "      <td>4</td>\n",
       "      <td>101,200</td>\n",
       "    </tr>\n",
       "    <tr>\n",
       "      <th>1</th>\n",
       "      <td>Lamborghini</td>\n",
       "      <td>Huracan</td>\n",
       "      <td>2021</td>\n",
       "      <td>5.2</td>\n",
       "      <td>630</td>\n",
       "      <td>443</td>\n",
       "      <td>2.8</td>\n",
       "      <td>274,390</td>\n",
       "    </tr>\n",
       "    <tr>\n",
       "      <th>2</th>\n",
       "      <td>Ferrari</td>\n",
       "      <td>488 GTB</td>\n",
       "      <td>2022</td>\n",
       "      <td>3.9</td>\n",
       "      <td>661</td>\n",
       "      <td>561</td>\n",
       "      <td>3</td>\n",
       "      <td>333,750</td>\n",
       "    </tr>\n",
       "    <tr>\n",
       "      <th>3</th>\n",
       "      <td>Audi</td>\n",
       "      <td>R8</td>\n",
       "      <td>2022</td>\n",
       "      <td>5.2</td>\n",
       "      <td>562</td>\n",
       "      <td>406</td>\n",
       "      <td>3.2</td>\n",
       "      <td>142,700</td>\n",
       "    </tr>\n",
       "    <tr>\n",
       "      <th>4</th>\n",
       "      <td>McLaren</td>\n",
       "      <td>720S</td>\n",
       "      <td>2021</td>\n",
       "      <td>4</td>\n",
       "      <td>710</td>\n",
       "      <td>568</td>\n",
       "      <td>2.7</td>\n",
       "      <td>298,000</td>\n",
       "    </tr>\n",
       "    <tr>\n",
       "      <th>...</th>\n",
       "      <td>...</td>\n",
       "      <td>...</td>\n",
       "      <td>...</td>\n",
       "      <td>...</td>\n",
       "      <td>...</td>\n",
       "      <td>...</td>\n",
       "      <td>...</td>\n",
       "      <td>...</td>\n",
       "    </tr>\n",
       "    <tr>\n",
       "      <th>999</th>\n",
       "      <td>Nissan</td>\n",
       "      <td>370Z</td>\n",
       "      <td>2021</td>\n",
       "      <td>3.7</td>\n",
       "      <td>332</td>\n",
       "      <td>270</td>\n",
       "      <td>5.1</td>\n",
       "      <td>30,090</td>\n",
       "    </tr>\n",
       "    <tr>\n",
       "      <th>1002</th>\n",
       "      <td>Koenigsegg</td>\n",
       "      <td>Jesko</td>\n",
       "      <td>2022</td>\n",
       "      <td>5</td>\n",
       "      <td>1280</td>\n",
       "      <td>1106</td>\n",
       "      <td>2.5</td>\n",
       "      <td>3,000,000</td>\n",
       "    </tr>\n",
       "    <tr>\n",
       "      <th>1003</th>\n",
       "      <td>Lotus</td>\n",
       "      <td>Evija</td>\n",
       "      <td>2021</td>\n",
       "      <td>Electric Motor</td>\n",
       "      <td>1972</td>\n",
       "      <td>1254</td>\n",
       "      <td>2</td>\n",
       "      <td>2,000,000</td>\n",
       "    </tr>\n",
       "    <tr>\n",
       "      <th>1005</th>\n",
       "      <td>Pagani</td>\n",
       "      <td>Huayra</td>\n",
       "      <td>2021</td>\n",
       "      <td>6</td>\n",
       "      <td>764</td>\n",
       "      <td>738</td>\n",
       "      <td>3</td>\n",
       "      <td>2,600,000</td>\n",
       "    </tr>\n",
       "    <tr>\n",
       "      <th>1006</th>\n",
       "      <td>Rimac</td>\n",
       "      <td>Nevera</td>\n",
       "      <td>2021</td>\n",
       "      <td>Electric Motor</td>\n",
       "      <td>1888</td>\n",
       "      <td>1696</td>\n",
       "      <td>1.85</td>\n",
       "      <td>2,400,000</td>\n",
       "    </tr>\n",
       "  </tbody>\n",
       "</table>\n",
       "<p>707 rows × 8 columns</p>\n",
       "</div>"
      ],
      "text/plain": [
       "         Car Make Car Model  Year Engine Size (L) Horsepower Torque  Time  \\\n",
       "0         Porsche       911  2022               3        379    331     4   \n",
       "1     Lamborghini   Huracan  2021             5.2        630    443   2.8   \n",
       "2         Ferrari   488 GTB  2022             3.9        661    561     3   \n",
       "3            Audi        R8  2022             5.2        562    406   3.2   \n",
       "4         McLaren      720S  2021               4        710    568   2.7   \n",
       "...           ...       ...   ...             ...        ...    ...   ...   \n",
       "999        Nissan      370Z  2021             3.7        332    270   5.1   \n",
       "1002   Koenigsegg     Jesko  2022               5       1280   1106   2.5   \n",
       "1003        Lotus     Evija  2021  Electric Motor       1972   1254     2   \n",
       "1005       Pagani    Huayra  2021               6        764    738     3   \n",
       "1006        Rimac    Nevera  2021  Electric Motor       1888   1696  1.85   \n",
       "\n",
       "          price  \n",
       "0       101,200  \n",
       "1       274,390  \n",
       "2       333,750  \n",
       "3       142,700  \n",
       "4       298,000  \n",
       "...         ...  \n",
       "999      30,090  \n",
       "1002  3,000,000  \n",
       "1003  2,000,000  \n",
       "1005  2,600,000  \n",
       "1006  2,400,000  \n",
       "\n",
       "[707 rows x 8 columns]"
      ]
     },
     "execution_count": 41,
     "metadata": {},
     "output_type": "execute_result"
    }
   ],
   "source": [
    "df"
   ]
  },
  {
   "cell_type": "code",
   "execution_count": 42,
   "id": "79a6aef1",
   "metadata": {
    "ExecuteTime": {
     "end_time": "2024-08-10T10:33:39.001730Z",
     "start_time": "2024-08-10T10:33:38.986106Z"
    }
   },
   "outputs": [],
   "source": [
    "# replacing the commas in the price col\n",
    "df['price'] = df['price'].str.replace(',','')"
   ]
  },
  {
   "cell_type": "code",
   "execution_count": 43,
   "id": "88799e41",
   "metadata": {
    "ExecuteTime": {
     "end_time": "2024-08-10T10:33:41.121722Z",
     "start_time": "2024-08-10T10:33:41.089724Z"
    }
   },
   "outputs": [
    {
     "data": {
      "text/html": [
       "<div>\n",
       "<style scoped>\n",
       "    .dataframe tbody tr th:only-of-type {\n",
       "        vertical-align: middle;\n",
       "    }\n",
       "\n",
       "    .dataframe tbody tr th {\n",
       "        vertical-align: top;\n",
       "    }\n",
       "\n",
       "    .dataframe thead th {\n",
       "        text-align: right;\n",
       "    }\n",
       "</style>\n",
       "<table border=\"1\" class=\"dataframe\">\n",
       "  <thead>\n",
       "    <tr style=\"text-align: right;\">\n",
       "      <th></th>\n",
       "      <th>Car Make</th>\n",
       "      <th>Car Model</th>\n",
       "      <th>Year</th>\n",
       "      <th>Engine Size (L)</th>\n",
       "      <th>Horsepower</th>\n",
       "      <th>Torque</th>\n",
       "      <th>Time</th>\n",
       "      <th>price</th>\n",
       "    </tr>\n",
       "  </thead>\n",
       "  <tbody>\n",
       "    <tr>\n",
       "      <th>0</th>\n",
       "      <td>Porsche</td>\n",
       "      <td>911</td>\n",
       "      <td>2022</td>\n",
       "      <td>3</td>\n",
       "      <td>379</td>\n",
       "      <td>331</td>\n",
       "      <td>4</td>\n",
       "      <td>101200</td>\n",
       "    </tr>\n",
       "    <tr>\n",
       "      <th>1</th>\n",
       "      <td>Lamborghini</td>\n",
       "      <td>Huracan</td>\n",
       "      <td>2021</td>\n",
       "      <td>5.2</td>\n",
       "      <td>630</td>\n",
       "      <td>443</td>\n",
       "      <td>2.8</td>\n",
       "      <td>274390</td>\n",
       "    </tr>\n",
       "    <tr>\n",
       "      <th>2</th>\n",
       "      <td>Ferrari</td>\n",
       "      <td>488 GTB</td>\n",
       "      <td>2022</td>\n",
       "      <td>3.9</td>\n",
       "      <td>661</td>\n",
       "      <td>561</td>\n",
       "      <td>3</td>\n",
       "      <td>333750</td>\n",
       "    </tr>\n",
       "    <tr>\n",
       "      <th>3</th>\n",
       "      <td>Audi</td>\n",
       "      <td>R8</td>\n",
       "      <td>2022</td>\n",
       "      <td>5.2</td>\n",
       "      <td>562</td>\n",
       "      <td>406</td>\n",
       "      <td>3.2</td>\n",
       "      <td>142700</td>\n",
       "    </tr>\n",
       "    <tr>\n",
       "      <th>4</th>\n",
       "      <td>McLaren</td>\n",
       "      <td>720S</td>\n",
       "      <td>2021</td>\n",
       "      <td>4</td>\n",
       "      <td>710</td>\n",
       "      <td>568</td>\n",
       "      <td>2.7</td>\n",
       "      <td>298000</td>\n",
       "    </tr>\n",
       "    <tr>\n",
       "      <th>...</th>\n",
       "      <td>...</td>\n",
       "      <td>...</td>\n",
       "      <td>...</td>\n",
       "      <td>...</td>\n",
       "      <td>...</td>\n",
       "      <td>...</td>\n",
       "      <td>...</td>\n",
       "      <td>...</td>\n",
       "    </tr>\n",
       "    <tr>\n",
       "      <th>999</th>\n",
       "      <td>Nissan</td>\n",
       "      <td>370Z</td>\n",
       "      <td>2021</td>\n",
       "      <td>3.7</td>\n",
       "      <td>332</td>\n",
       "      <td>270</td>\n",
       "      <td>5.1</td>\n",
       "      <td>30090</td>\n",
       "    </tr>\n",
       "    <tr>\n",
       "      <th>1002</th>\n",
       "      <td>Koenigsegg</td>\n",
       "      <td>Jesko</td>\n",
       "      <td>2022</td>\n",
       "      <td>5</td>\n",
       "      <td>1280</td>\n",
       "      <td>1106</td>\n",
       "      <td>2.5</td>\n",
       "      <td>3000000</td>\n",
       "    </tr>\n",
       "    <tr>\n",
       "      <th>1003</th>\n",
       "      <td>Lotus</td>\n",
       "      <td>Evija</td>\n",
       "      <td>2021</td>\n",
       "      <td>Electric Motor</td>\n",
       "      <td>1972</td>\n",
       "      <td>1254</td>\n",
       "      <td>2</td>\n",
       "      <td>2000000</td>\n",
       "    </tr>\n",
       "    <tr>\n",
       "      <th>1005</th>\n",
       "      <td>Pagani</td>\n",
       "      <td>Huayra</td>\n",
       "      <td>2021</td>\n",
       "      <td>6</td>\n",
       "      <td>764</td>\n",
       "      <td>738</td>\n",
       "      <td>3</td>\n",
       "      <td>2600000</td>\n",
       "    </tr>\n",
       "    <tr>\n",
       "      <th>1006</th>\n",
       "      <td>Rimac</td>\n",
       "      <td>Nevera</td>\n",
       "      <td>2021</td>\n",
       "      <td>Electric Motor</td>\n",
       "      <td>1888</td>\n",
       "      <td>1696</td>\n",
       "      <td>1.85</td>\n",
       "      <td>2400000</td>\n",
       "    </tr>\n",
       "  </tbody>\n",
       "</table>\n",
       "<p>707 rows × 8 columns</p>\n",
       "</div>"
      ],
      "text/plain": [
       "         Car Make Car Model  Year Engine Size (L) Horsepower Torque  Time  \\\n",
       "0         Porsche       911  2022               3        379    331     4   \n",
       "1     Lamborghini   Huracan  2021             5.2        630    443   2.8   \n",
       "2         Ferrari   488 GTB  2022             3.9        661    561     3   \n",
       "3            Audi        R8  2022             5.2        562    406   3.2   \n",
       "4         McLaren      720S  2021               4        710    568   2.7   \n",
       "...           ...       ...   ...             ...        ...    ...   ...   \n",
       "999        Nissan      370Z  2021             3.7        332    270   5.1   \n",
       "1002   Koenigsegg     Jesko  2022               5       1280   1106   2.5   \n",
       "1003        Lotus     Evija  2021  Electric Motor       1972   1254     2   \n",
       "1005       Pagani    Huayra  2021               6        764    738     3   \n",
       "1006        Rimac    Nevera  2021  Electric Motor       1888   1696  1.85   \n",
       "\n",
       "        price  \n",
       "0      101200  \n",
       "1      274390  \n",
       "2      333750  \n",
       "3      142700  \n",
       "4      298000  \n",
       "...       ...  \n",
       "999     30090  \n",
       "1002  3000000  \n",
       "1003  2000000  \n",
       "1005  2600000  \n",
       "1006  2400000  \n",
       "\n",
       "[707 rows x 8 columns]"
      ]
     },
     "execution_count": 43,
     "metadata": {},
     "output_type": "execute_result"
    }
   ],
   "source": [
    "df"
   ]
  },
  {
   "cell_type": "code",
   "execution_count": 44,
   "id": "3c6a3f7e",
   "metadata": {
    "ExecuteTime": {
     "end_time": "2024-08-10T10:33:44.524532Z",
     "start_time": "2024-08-10T10:33:44.477653Z"
    }
   },
   "outputs": [],
   "source": [
    "for i in df.index:\n",
    "    if df.loc[i,'Engine Size (L)']== 'Electric Motor':\n",
    "        df.drop(i,inplace=True)\n",
    "         "
   ]
  },
  {
   "cell_type": "code",
   "execution_count": 45,
   "id": "e1e653f6",
   "metadata": {
    "ExecuteTime": {
     "end_time": "2024-08-10T10:34:00.620393Z",
     "start_time": "2024-08-10T10:34:00.479785Z"
    }
   },
   "outputs": [],
   "source": [
    "\n",
    "df['Engine Size (L)']=df['Engine Size (L)'].apply(pd.to_numeric,errors='coerce')\n",
    "df['Horsepower']=df['Horsepower'].apply(pd.to_numeric,errors='coerce')\n",
    "df['Torque']=df['Torque'].apply(pd.to_numeric,errors='coerce')\n",
    "df['Time']=df['Time'].apply(pd.to_numeric,errors='coerce')\n",
    "df['price']= df['price'].apply(pd.to_numeric)"
   ]
  },
  {
   "cell_type": "code",
   "execution_count": 46,
   "id": "a51ab6c7",
   "metadata": {
    "ExecuteTime": {
     "end_time": "2024-08-10T10:34:02.956783Z",
     "start_time": "2024-08-10T10:34:02.940689Z"
    }
   },
   "outputs": [
    {
     "data": {
      "text/plain": [
       "Car Make            object\n",
       "Car Model           object\n",
       "Year                 int64\n",
       "Engine Size (L)    float64\n",
       "Horsepower         float64\n",
       "Torque             float64\n",
       "Time               float64\n",
       "price                int64\n",
       "dtype: object"
      ]
     },
     "execution_count": 46,
     "metadata": {},
     "output_type": "execute_result"
    }
   ],
   "source": [
    "df.dtypes"
   ]
  },
  {
   "cell_type": "code",
   "execution_count": 47,
   "id": "59f7e605",
   "metadata": {
    "ExecuteTime": {
     "end_time": "2024-08-10T10:34:04.989060Z",
     "start_time": "2024-08-10T10:34:04.942187Z"
    }
   },
   "outputs": [
    {
     "data": {
      "text/html": [
       "<div>\n",
       "<style scoped>\n",
       "    .dataframe tbody tr th:only-of-type {\n",
       "        vertical-align: middle;\n",
       "    }\n",
       "\n",
       "    .dataframe tbody tr th {\n",
       "        vertical-align: top;\n",
       "    }\n",
       "\n",
       "    .dataframe thead th {\n",
       "        text-align: right;\n",
       "    }\n",
       "</style>\n",
       "<table border=\"1\" class=\"dataframe\">\n",
       "  <thead>\n",
       "    <tr style=\"text-align: right;\">\n",
       "      <th></th>\n",
       "      <th>Car Make</th>\n",
       "      <th>Car Model</th>\n",
       "      <th>Year</th>\n",
       "      <th>Engine Size (L)</th>\n",
       "      <th>Horsepower</th>\n",
       "      <th>Torque</th>\n",
       "      <th>Time</th>\n",
       "      <th>price</th>\n",
       "    </tr>\n",
       "  </thead>\n",
       "  <tbody>\n",
       "    <tr>\n",
       "      <th>996</th>\n",
       "      <td>Mercedes-Benz</td>\n",
       "      <td>SLS AMG</td>\n",
       "      <td>2021</td>\n",
       "      <td>6.3</td>\n",
       "      <td>622.0</td>\n",
       "      <td>468.0</td>\n",
       "      <td>3.6</td>\n",
       "      <td>254500</td>\n",
       "    </tr>\n",
       "    <tr>\n",
       "      <th>998</th>\n",
       "      <td>Ford</td>\n",
       "      <td>Mustang</td>\n",
       "      <td>2021</td>\n",
       "      <td>2.3</td>\n",
       "      <td>310.0</td>\n",
       "      <td>350.0</td>\n",
       "      <td>5.3</td>\n",
       "      <td>27205</td>\n",
       "    </tr>\n",
       "    <tr>\n",
       "      <th>999</th>\n",
       "      <td>Nissan</td>\n",
       "      <td>370Z</td>\n",
       "      <td>2021</td>\n",
       "      <td>3.7</td>\n",
       "      <td>332.0</td>\n",
       "      <td>270.0</td>\n",
       "      <td>5.1</td>\n",
       "      <td>30090</td>\n",
       "    </tr>\n",
       "    <tr>\n",
       "      <th>1002</th>\n",
       "      <td>Koenigsegg</td>\n",
       "      <td>Jesko</td>\n",
       "      <td>2022</td>\n",
       "      <td>5.0</td>\n",
       "      <td>1280.0</td>\n",
       "      <td>1106.0</td>\n",
       "      <td>2.5</td>\n",
       "      <td>3000000</td>\n",
       "    </tr>\n",
       "    <tr>\n",
       "      <th>1005</th>\n",
       "      <td>Pagani</td>\n",
       "      <td>Huayra</td>\n",
       "      <td>2021</td>\n",
       "      <td>6.0</td>\n",
       "      <td>764.0</td>\n",
       "      <td>738.0</td>\n",
       "      <td>3.0</td>\n",
       "      <td>2600000</td>\n",
       "    </tr>\n",
       "  </tbody>\n",
       "</table>\n",
       "</div>"
      ],
      "text/plain": [
       "           Car Make Car Model  Year  Engine Size (L)  Horsepower  Torque  \\\n",
       "996   Mercedes-Benz   SLS AMG  2021              6.3       622.0   468.0   \n",
       "998            Ford   Mustang  2021              2.3       310.0   350.0   \n",
       "999          Nissan      370Z  2021              3.7       332.0   270.0   \n",
       "1002     Koenigsegg     Jesko  2022              5.0      1280.0  1106.0   \n",
       "1005         Pagani    Huayra  2021              6.0       764.0   738.0   \n",
       "\n",
       "      Time    price  \n",
       "996    3.6   254500  \n",
       "998    5.3    27205  \n",
       "999    5.1    30090  \n",
       "1002   2.5  3000000  \n",
       "1005   3.0  2600000  "
      ]
     },
     "execution_count": 47,
     "metadata": {},
     "output_type": "execute_result"
    }
   ],
   "source": [
    "df.tail()"
   ]
  },
  {
   "cell_type": "code",
   "execution_count": 48,
   "id": "b7b0d724",
   "metadata": {
    "ExecuteTime": {
     "end_time": "2024-08-10T10:34:14.717388Z",
     "start_time": "2024-08-10T10:34:14.701762Z"
    }
   },
   "outputs": [
    {
     "name": "stdout",
     "output_type": "stream",
     "text": [
      "max_year: 2023  min_year: 1965\n"
     ]
    }
   ],
   "source": [
    "# checking the min and max year\n",
    "max_year = df['Year'].max()\n",
    "min_year = df['Year'].min()\n",
    "print('max_year:',max_year, \"\",'min_year:',min_year)"
   ]
  },
  {
   "cell_type": "code",
   "execution_count": 49,
   "id": "579e9a78",
   "metadata": {
    "ExecuteTime": {
     "end_time": "2024-08-10T10:34:16.105417Z",
     "start_time": "2024-08-10T10:34:16.074217Z"
    }
   },
   "outputs": [
    {
     "data": {
      "text/plain": [
       "datetime.datetime(2024, 12, 11, 18, 25, 2, 79397)"
      ]
     },
     "execution_count": 49,
     "metadata": {},
     "output_type": "execute_result"
    }
   ],
   "source": [
    "#finding the age of the cars using the datetime\n",
    "current_year = datetime.datetime.now()\n",
    "# this returns: year, month, day, hour, minute, second, and microsecond.\n",
    "current_year"
   ]
  },
  {
   "cell_type": "code",
   "execution_count": 50,
   "id": "acf795ba",
   "metadata": {
    "ExecuteTime": {
     "end_time": "2024-08-10T10:34:17.253304Z",
     "start_time": "2024-08-10T10:34:17.222053Z"
    }
   },
   "outputs": [],
   "source": [
    "df['Age'] = current_year.year -df['Year']"
   ]
  },
  {
   "cell_type": "code",
   "execution_count": 51,
   "id": "d1cd9378",
   "metadata": {
    "ExecuteTime": {
     "end_time": "2024-08-10T10:34:45.610645Z",
     "start_time": "2024-08-10T10:34:45.595028Z"
    }
   },
   "outputs": [],
   "source": [
    "# dropping the year since we know the age\n",
    "df = df.drop('Year',axis=1)"
   ]
  },
  {
   "cell_type": "code",
   "execution_count": 52,
   "id": "3e823beb",
   "metadata": {
    "ExecuteTime": {
     "end_time": "2024-08-10T10:34:49.002148Z",
     "start_time": "2024-08-10T10:34:48.962452Z"
    }
   },
   "outputs": [
    {
     "data": {
      "text/html": [
       "<div>\n",
       "<style scoped>\n",
       "    .dataframe tbody tr th:only-of-type {\n",
       "        vertical-align: middle;\n",
       "    }\n",
       "\n",
       "    .dataframe tbody tr th {\n",
       "        vertical-align: top;\n",
       "    }\n",
       "\n",
       "    .dataframe thead th {\n",
       "        text-align: right;\n",
       "    }\n",
       "</style>\n",
       "<table border=\"1\" class=\"dataframe\">\n",
       "  <thead>\n",
       "    <tr style=\"text-align: right;\">\n",
       "      <th></th>\n",
       "      <th>Car Make</th>\n",
       "      <th>Car Model</th>\n",
       "      <th>Engine Size (L)</th>\n",
       "      <th>Horsepower</th>\n",
       "      <th>Torque</th>\n",
       "      <th>Time</th>\n",
       "      <th>price</th>\n",
       "      <th>Age</th>\n",
       "    </tr>\n",
       "  </thead>\n",
       "  <tbody>\n",
       "    <tr>\n",
       "      <th>0</th>\n",
       "      <td>Porsche</td>\n",
       "      <td>911</td>\n",
       "      <td>3.0</td>\n",
       "      <td>379.0</td>\n",
       "      <td>331.0</td>\n",
       "      <td>4.0</td>\n",
       "      <td>101200</td>\n",
       "      <td>2</td>\n",
       "    </tr>\n",
       "    <tr>\n",
       "      <th>1</th>\n",
       "      <td>Lamborghini</td>\n",
       "      <td>Huracan</td>\n",
       "      <td>5.2</td>\n",
       "      <td>630.0</td>\n",
       "      <td>443.0</td>\n",
       "      <td>2.8</td>\n",
       "      <td>274390</td>\n",
       "      <td>3</td>\n",
       "    </tr>\n",
       "    <tr>\n",
       "      <th>2</th>\n",
       "      <td>Ferrari</td>\n",
       "      <td>488 GTB</td>\n",
       "      <td>3.9</td>\n",
       "      <td>661.0</td>\n",
       "      <td>561.0</td>\n",
       "      <td>3.0</td>\n",
       "      <td>333750</td>\n",
       "      <td>2</td>\n",
       "    </tr>\n",
       "    <tr>\n",
       "      <th>3</th>\n",
       "      <td>Audi</td>\n",
       "      <td>R8</td>\n",
       "      <td>5.2</td>\n",
       "      <td>562.0</td>\n",
       "      <td>406.0</td>\n",
       "      <td>3.2</td>\n",
       "      <td>142700</td>\n",
       "      <td>2</td>\n",
       "    </tr>\n",
       "    <tr>\n",
       "      <th>4</th>\n",
       "      <td>McLaren</td>\n",
       "      <td>720S</td>\n",
       "      <td>4.0</td>\n",
       "      <td>710.0</td>\n",
       "      <td>568.0</td>\n",
       "      <td>2.7</td>\n",
       "      <td>298000</td>\n",
       "      <td>3</td>\n",
       "    </tr>\n",
       "    <tr>\n",
       "      <th>...</th>\n",
       "      <td>...</td>\n",
       "      <td>...</td>\n",
       "      <td>...</td>\n",
       "      <td>...</td>\n",
       "      <td>...</td>\n",
       "      <td>...</td>\n",
       "      <td>...</td>\n",
       "      <td>...</td>\n",
       "    </tr>\n",
       "    <tr>\n",
       "      <th>996</th>\n",
       "      <td>Mercedes-Benz</td>\n",
       "      <td>SLS AMG</td>\n",
       "      <td>6.3</td>\n",
       "      <td>622.0</td>\n",
       "      <td>468.0</td>\n",
       "      <td>3.6</td>\n",
       "      <td>254500</td>\n",
       "      <td>3</td>\n",
       "    </tr>\n",
       "    <tr>\n",
       "      <th>998</th>\n",
       "      <td>Ford</td>\n",
       "      <td>Mustang</td>\n",
       "      <td>2.3</td>\n",
       "      <td>310.0</td>\n",
       "      <td>350.0</td>\n",
       "      <td>5.3</td>\n",
       "      <td>27205</td>\n",
       "      <td>3</td>\n",
       "    </tr>\n",
       "    <tr>\n",
       "      <th>999</th>\n",
       "      <td>Nissan</td>\n",
       "      <td>370Z</td>\n",
       "      <td>3.7</td>\n",
       "      <td>332.0</td>\n",
       "      <td>270.0</td>\n",
       "      <td>5.1</td>\n",
       "      <td>30090</td>\n",
       "      <td>3</td>\n",
       "    </tr>\n",
       "    <tr>\n",
       "      <th>1002</th>\n",
       "      <td>Koenigsegg</td>\n",
       "      <td>Jesko</td>\n",
       "      <td>5.0</td>\n",
       "      <td>1280.0</td>\n",
       "      <td>1106.0</td>\n",
       "      <td>2.5</td>\n",
       "      <td>3000000</td>\n",
       "      <td>2</td>\n",
       "    </tr>\n",
       "    <tr>\n",
       "      <th>1005</th>\n",
       "      <td>Pagani</td>\n",
       "      <td>Huayra</td>\n",
       "      <td>6.0</td>\n",
       "      <td>764.0</td>\n",
       "      <td>738.0</td>\n",
       "      <td>3.0</td>\n",
       "      <td>2600000</td>\n",
       "      <td>3</td>\n",
       "    </tr>\n",
       "  </tbody>\n",
       "</table>\n",
       "<p>704 rows × 8 columns</p>\n",
       "</div>"
      ],
      "text/plain": [
       "           Car Make Car Model  Engine Size (L)  Horsepower  Torque  Time  \\\n",
       "0           Porsche       911              3.0       379.0   331.0   4.0   \n",
       "1       Lamborghini   Huracan              5.2       630.0   443.0   2.8   \n",
       "2           Ferrari   488 GTB              3.9       661.0   561.0   3.0   \n",
       "3              Audi        R8              5.2       562.0   406.0   3.2   \n",
       "4           McLaren      720S              4.0       710.0   568.0   2.7   \n",
       "...             ...       ...              ...         ...     ...   ...   \n",
       "996   Mercedes-Benz   SLS AMG              6.3       622.0   468.0   3.6   \n",
       "998            Ford   Mustang              2.3       310.0   350.0   5.3   \n",
       "999          Nissan      370Z              3.7       332.0   270.0   5.1   \n",
       "1002     Koenigsegg     Jesko              5.0      1280.0  1106.0   2.5   \n",
       "1005         Pagani    Huayra              6.0       764.0   738.0   3.0   \n",
       "\n",
       "        price  Age  \n",
       "0      101200    2  \n",
       "1      274390    3  \n",
       "2      333750    2  \n",
       "3      142700    2  \n",
       "4      298000    3  \n",
       "...       ...  ...  \n",
       "996    254500    3  \n",
       "998     27205    3  \n",
       "999     30090    3  \n",
       "1002  3000000    2  \n",
       "1005  2600000    3  \n",
       "\n",
       "[704 rows x 8 columns]"
      ]
     },
     "execution_count": 52,
     "metadata": {},
     "output_type": "execute_result"
    }
   ],
   "source": [
    "df"
   ]
  },
  {
   "cell_type": "code",
   "execution_count": 53,
   "id": "33fb4924",
   "metadata": {
    "ExecuteTime": {
     "end_time": "2024-08-10T10:34:57.297394Z",
     "start_time": "2024-08-10T10:34:57.281769Z"
    }
   },
   "outputs": [
    {
     "name": "stdout",
     "output_type": "stream",
     "text": [
      "Car Make\n",
      "Porsche          67\n",
      "Audi             52\n",
      "McLaren          48\n",
      "Mercedes-Benz    48\n",
      "Lamborghini      44\n",
      "Aston Martin     39\n",
      "Dodge            37\n",
      "Chevrolet        37\n",
      "BMW              36\n",
      "Ferrari          31\n",
      "Nissan           31\n",
      "Bentley          24\n",
      "Lotus            22\n",
      "Ford             22\n",
      "Jaguar           21\n",
      "Maserati         18\n",
      "Alfa Romeo       15\n",
      "Bugatti          15\n",
      "Tesla            14\n",
      "Pagani           11\n",
      "Koenigsegg       10\n",
      "Mercedes-AMG     10\n",
      "Rolls-Royce       9\n",
      "Lexus             9\n",
      "Rimac             8\n",
      "Acura             6\n",
      "W Motors          3\n",
      "Subaru            3\n",
      "Toyota            3\n",
      "Pininfarina       2\n",
      "TVR               2\n",
      "Kia               1\n",
      "Alpine            1\n",
      "Ariel             1\n",
      "Shelby            1\n",
      "Mazda             1\n",
      "Polestar          1\n",
      "Ultima            1\n",
      "Name: count, dtype: int64\n"
     ]
    }
   ],
   "source": [
    "counts =df['Car Make'].value_counts()\n",
    "print(counts)"
   ]
  },
  {
   "cell_type": "code",
   "execution_count": 54,
   "id": "6b8f5be4",
   "metadata": {
    "ExecuteTime": {
     "end_time": "2024-08-10T10:35:12.589931Z",
     "start_time": "2024-08-10T10:35:12.558660Z"
    }
   },
   "outputs": [
    {
     "data": {
      "text/plain": [
       "38"
      ]
     },
     "execution_count": 54,
     "metadata": {},
     "output_type": "execute_result"
    }
   ],
   "source": [
    "# checking the number of unique entries for the car make\n",
    "df['Car Make'].nunique()"
   ]
  },
  {
   "cell_type": "code",
   "execution_count": 60,
   "id": "9edc95a8",
   "metadata": {
    "ExecuteTime": {
     "end_time": "2024-08-10T10:36:54.152839Z",
     "start_time": "2024-08-10T10:36:53.659517Z"
    }
   },
   "outputs": [
    {
     "data": {
      "text/plain": [
       "<Axes: xlabel='count', ylabel='Car Make'>"
      ]
     },
     "execution_count": 60,
     "metadata": {},
     "output_type": "execute_result"
    },
    {
     "data": {
      "image/png": "[encoded data removed]",
      "text/plain": [
       "<Figure size 720x640 with 1 Axes>"
      ]
     },
     "metadata": {},
     "output_type": "display_data"
    }
   ],
   "source": [
    "# draw a graph to show the distribution of the car make\n",
    "fig, ax =plt.subplots(figsize=(9,8))\n",
    "sns .countplot(df['Car Make'])\n"
   ]
  },
  {
   "cell_type": "code",
   "execution_count": 61,
   "id": "8fc3f7a6",
   "metadata": {
    "ExecuteTime": {
     "end_time": "2024-08-10T10:38:06.283047Z",
     "start_time": "2024-08-10T10:38:06.220549Z"
    }
   },
   "outputs": [
    {
     "data": {
      "text/html": [
       "<div>\n",
       "<style scoped>\n",
       "    .dataframe tbody tr th:only-of-type {\n",
       "        vertical-align: middle;\n",
       "    }\n",
       "\n",
       "    .dataframe tbody tr th {\n",
       "        vertical-align: top;\n",
       "    }\n",
       "\n",
       "    .dataframe thead th {\n",
       "        text-align: right;\n",
       "    }\n",
       "</style>\n",
       "<table border=\"1\" class=\"dataframe\">\n",
       "  <thead>\n",
       "    <tr style=\"text-align: right;\">\n",
       "      <th></th>\n",
       "      <th>Car Make</th>\n",
       "      <th>Car Model</th>\n",
       "      <th>Engine Size (L)</th>\n",
       "      <th>Horsepower</th>\n",
       "      <th>Torque</th>\n",
       "      <th>Time</th>\n",
       "      <th>Age</th>\n",
       "      <th>price</th>\n",
       "    </tr>\n",
       "  </thead>\n",
       "  <tbody>\n",
       "    <tr>\n",
       "      <th>0</th>\n",
       "      <td>Porsche</td>\n",
       "      <td>911</td>\n",
       "      <td>3.0</td>\n",
       "      <td>379.0</td>\n",
       "      <td>331.0</td>\n",
       "      <td>4.0</td>\n",
       "      <td>2</td>\n",
       "      <td>101200</td>\n",
       "    </tr>\n",
       "    <tr>\n",
       "      <th>1</th>\n",
       "      <td>Lamborghini</td>\n",
       "      <td>Huracan</td>\n",
       "      <td>5.2</td>\n",
       "      <td>630.0</td>\n",
       "      <td>443.0</td>\n",
       "      <td>2.8</td>\n",
       "      <td>3</td>\n",
       "      <td>274390</td>\n",
       "    </tr>\n",
       "    <tr>\n",
       "      <th>2</th>\n",
       "      <td>Ferrari</td>\n",
       "      <td>488 GTB</td>\n",
       "      <td>3.9</td>\n",
       "      <td>661.0</td>\n",
       "      <td>561.0</td>\n",
       "      <td>3.0</td>\n",
       "      <td>2</td>\n",
       "      <td>333750</td>\n",
       "    </tr>\n",
       "    <tr>\n",
       "      <th>3</th>\n",
       "      <td>Audi</td>\n",
       "      <td>R8</td>\n",
       "      <td>5.2</td>\n",
       "      <td>562.0</td>\n",
       "      <td>406.0</td>\n",
       "      <td>3.2</td>\n",
       "      <td>2</td>\n",
       "      <td>142700</td>\n",
       "    </tr>\n",
       "    <tr>\n",
       "      <th>4</th>\n",
       "      <td>McLaren</td>\n",
       "      <td>720S</td>\n",
       "      <td>4.0</td>\n",
       "      <td>710.0</td>\n",
       "      <td>568.0</td>\n",
       "      <td>2.7</td>\n",
       "      <td>3</td>\n",
       "      <td>298000</td>\n",
       "    </tr>\n",
       "    <tr>\n",
       "      <th>...</th>\n",
       "      <td>...</td>\n",
       "      <td>...</td>\n",
       "      <td>...</td>\n",
       "      <td>...</td>\n",
       "      <td>...</td>\n",
       "      <td>...</td>\n",
       "      <td>...</td>\n",
       "      <td>...</td>\n",
       "    </tr>\n",
       "    <tr>\n",
       "      <th>996</th>\n",
       "      <td>Mercedes-Benz</td>\n",
       "      <td>SLS AMG</td>\n",
       "      <td>6.3</td>\n",
       "      <td>622.0</td>\n",
       "      <td>468.0</td>\n",
       "      <td>3.6</td>\n",
       "      <td>3</td>\n",
       "      <td>254500</td>\n",
       "    </tr>\n",
       "    <tr>\n",
       "      <th>998</th>\n",
       "      <td>Ford</td>\n",
       "      <td>Mustang</td>\n",
       "      <td>2.3</td>\n",
       "      <td>310.0</td>\n",
       "      <td>350.0</td>\n",
       "      <td>5.3</td>\n",
       "      <td>3</td>\n",
       "      <td>27205</td>\n",
       "    </tr>\n",
       "    <tr>\n",
       "      <th>999</th>\n",
       "      <td>Nissan</td>\n",
       "      <td>370Z</td>\n",
       "      <td>3.7</td>\n",
       "      <td>332.0</td>\n",
       "      <td>270.0</td>\n",
       "      <td>5.1</td>\n",
       "      <td>3</td>\n",
       "      <td>30090</td>\n",
       "    </tr>\n",
       "    <tr>\n",
       "      <th>1002</th>\n",
       "      <td>Koenigsegg</td>\n",
       "      <td>Jesko</td>\n",
       "      <td>5.0</td>\n",
       "      <td>1280.0</td>\n",
       "      <td>1106.0</td>\n",
       "      <td>2.5</td>\n",
       "      <td>2</td>\n",
       "      <td>3000000</td>\n",
       "    </tr>\n",
       "    <tr>\n",
       "      <th>1005</th>\n",
       "      <td>Pagani</td>\n",
       "      <td>Huayra</td>\n",
       "      <td>6.0</td>\n",
       "      <td>764.0</td>\n",
       "      <td>738.0</td>\n",
       "      <td>3.0</td>\n",
       "      <td>3</td>\n",
       "      <td>2600000</td>\n",
       "    </tr>\n",
       "  </tbody>\n",
       "</table>\n",
       "<p>704 rows × 8 columns</p>\n",
       "</div>"
      ],
      "text/plain": [
       "           Car Make Car Model  Engine Size (L)  Horsepower  Torque  Time  Age  \\\n",
       "0           Porsche       911              3.0       379.0   331.0   4.0    2   \n",
       "1       Lamborghini   Huracan              5.2       630.0   443.0   2.8    3   \n",
       "2           Ferrari   488 GTB              3.9       661.0   561.0   3.0    2   \n",
       "3              Audi        R8              5.2       562.0   406.0   3.2    2   \n",
       "4           McLaren      720S              4.0       710.0   568.0   2.7    3   \n",
       "...             ...       ...              ...         ...     ...   ...  ...   \n",
       "996   Mercedes-Benz   SLS AMG              6.3       622.0   468.0   3.6    3   \n",
       "998            Ford   Mustang              2.3       310.0   350.0   5.3    3   \n",
       "999          Nissan      370Z              3.7       332.0   270.0   5.1    3   \n",
       "1002     Koenigsegg     Jesko              5.0      1280.0  1106.0   2.5    2   \n",
       "1005         Pagani    Huayra              6.0       764.0   738.0   3.0    3   \n",
       "\n",
       "        price  \n",
       "0      101200  \n",
       "1      274390  \n",
       "2      333750  \n",
       "3      142700  \n",
       "4      298000  \n",
       "...       ...  \n",
       "996    254500  \n",
       "998     27205  \n",
       "999     30090  \n",
       "1002  3000000  \n",
       "1005  2600000  \n",
       "\n",
       "[704 rows x 8 columns]"
      ]
     },
     "execution_count": 61,
     "metadata": {},
     "output_type": "execute_result"
    }
   ],
   "source": [
    "# changing the order of the column arrangement\n",
    "df = df.reindex(columns=['Car Make','Car Model', 'Engine Size (L)', 'Horsepower', 'Torque','Time','Age','price'])\n",
    "df"
   ]
  },
  {
   "cell_type": "code",
   "execution_count": 57,
   "id": "095126c2",
   "metadata": {
    "ExecuteTime": {
     "end_time": "2024-08-10T10:29:36.515056Z",
     "start_time": "2024-08-10T10:29:36.017835Z"
    }
   },
   "outputs": [
    {
     "data": {
      "text/plain": [
       "<Axes: >"
      ]
     },
     "execution_count": 57,
     "metadata": {},
     "output_type": "execute_result"
    },
    {
     "data": {
      "image/png": "[encoded data removed]",
      "text/plain": [
       "<Figure size 640x480 with 2 Axes>"
      ]
     },
     "metadata": {},
     "output_type": "display_data"
    }
   ],
   "source": [
    "sns.heatmap(df.iloc[:,2:])"
   ]
  },
  {
   "cell_type": "markdown",
   "id": "dfa8bf1d",
   "metadata": {},
   "source": [
    "### Machine Learning"
   ]
  },
  {
   "cell_type": "code",
   "execution_count": 63,
   "id": "d5621852",
   "metadata": {
    "ExecuteTime": {
     "end_time": "2024-08-10T10:41:18.978295Z",
     "start_time": "2024-08-10T10:41:18.947054Z"
    }
   },
   "outputs": [
    {
     "data": {
      "text/html": [
       "<div>\n",
       "<style scoped>\n",
       "    .dataframe tbody tr th:only-of-type {\n",
       "        vertical-align: middle;\n",
       "    }\n",
       "\n",
       "    .dataframe tbody tr th {\n",
       "        vertical-align: top;\n",
       "    }\n",
       "\n",
       "    .dataframe thead th {\n",
       "        text-align: right;\n",
       "    }\n",
       "</style>\n",
       "<table border=\"1\" class=\"dataframe\">\n",
       "  <thead>\n",
       "    <tr style=\"text-align: right;\">\n",
       "      <th></th>\n",
       "      <th>Car Make</th>\n",
       "      <th>Car Model</th>\n",
       "      <th>Engine Size (L)</th>\n",
       "      <th>Horsepower</th>\n",
       "      <th>Torque</th>\n",
       "      <th>Time</th>\n",
       "      <th>Age</th>\n",
       "      <th>price</th>\n",
       "    </tr>\n",
       "  </thead>\n",
       "  <tbody>\n",
       "    <tr>\n",
       "      <th>0</th>\n",
       "      <td>Porsche</td>\n",
       "      <td>911</td>\n",
       "      <td>3.0</td>\n",
       "      <td>379.0</td>\n",
       "      <td>331.0</td>\n",
       "      <td>4.0</td>\n",
       "      <td>2</td>\n",
       "      <td>101200</td>\n",
       "    </tr>\n",
       "    <tr>\n",
       "      <th>1</th>\n",
       "      <td>Lamborghini</td>\n",
       "      <td>Huracan</td>\n",
       "      <td>5.2</td>\n",
       "      <td>630.0</td>\n",
       "      <td>443.0</td>\n",
       "      <td>2.8</td>\n",
       "      <td>3</td>\n",
       "      <td>274390</td>\n",
       "    </tr>\n",
       "    <tr>\n",
       "      <th>2</th>\n",
       "      <td>Ferrari</td>\n",
       "      <td>488 GTB</td>\n",
       "      <td>3.9</td>\n",
       "      <td>661.0</td>\n",
       "      <td>561.0</td>\n",
       "      <td>3.0</td>\n",
       "      <td>2</td>\n",
       "      <td>333750</td>\n",
       "    </tr>\n",
       "    <tr>\n",
       "      <th>3</th>\n",
       "      <td>Audi</td>\n",
       "      <td>R8</td>\n",
       "      <td>5.2</td>\n",
       "      <td>562.0</td>\n",
       "      <td>406.0</td>\n",
       "      <td>3.2</td>\n",
       "      <td>2</td>\n",
       "      <td>142700</td>\n",
       "    </tr>\n",
       "    <tr>\n",
       "      <th>4</th>\n",
       "      <td>McLaren</td>\n",
       "      <td>720S</td>\n",
       "      <td>4.0</td>\n",
       "      <td>710.0</td>\n",
       "      <td>568.0</td>\n",
       "      <td>2.7</td>\n",
       "      <td>3</td>\n",
       "      <td>298000</td>\n",
       "    </tr>\n",
       "    <tr>\n",
       "      <th>...</th>\n",
       "      <td>...</td>\n",
       "      <td>...</td>\n",
       "      <td>...</td>\n",
       "      <td>...</td>\n",
       "      <td>...</td>\n",
       "      <td>...</td>\n",
       "      <td>...</td>\n",
       "      <td>...</td>\n",
       "    </tr>\n",
       "    <tr>\n",
       "      <th>996</th>\n",
       "      <td>Mercedes-Benz</td>\n",
       "      <td>SLS AMG</td>\n",
       "      <td>6.3</td>\n",
       "      <td>622.0</td>\n",
       "      <td>468.0</td>\n",
       "      <td>3.6</td>\n",
       "      <td>3</td>\n",
       "      <td>254500</td>\n",
       "    </tr>\n",
       "    <tr>\n",
       "      <th>998</th>\n",
       "      <td>Ford</td>\n",
       "      <td>Mustang</td>\n",
       "      <td>2.3</td>\n",
       "      <td>310.0</td>\n",
       "      <td>350.0</td>\n",
       "      <td>5.3</td>\n",
       "      <td>3</td>\n",
       "      <td>27205</td>\n",
       "    </tr>\n",
       "    <tr>\n",
       "      <th>999</th>\n",
       "      <td>Nissan</td>\n",
       "      <td>370Z</td>\n",
       "      <td>3.7</td>\n",
       "      <td>332.0</td>\n",
       "      <td>270.0</td>\n",
       "      <td>5.1</td>\n",
       "      <td>3</td>\n",
       "      <td>30090</td>\n",
       "    </tr>\n",
       "    <tr>\n",
       "      <th>1002</th>\n",
       "      <td>Koenigsegg</td>\n",
       "      <td>Jesko</td>\n",
       "      <td>5.0</td>\n",
       "      <td>1280.0</td>\n",
       "      <td>1106.0</td>\n",
       "      <td>2.5</td>\n",
       "      <td>2</td>\n",
       "      <td>3000000</td>\n",
       "    </tr>\n",
       "    <tr>\n",
       "      <th>1005</th>\n",
       "      <td>Pagani</td>\n",
       "      <td>Huayra</td>\n",
       "      <td>6.0</td>\n",
       "      <td>764.0</td>\n",
       "      <td>738.0</td>\n",
       "      <td>3.0</td>\n",
       "      <td>3</td>\n",
       "      <td>2600000</td>\n",
       "    </tr>\n",
       "  </tbody>\n",
       "</table>\n",
       "<p>704 rows × 8 columns</p>\n",
       "</div>"
      ],
      "text/plain": [
       "           Car Make Car Model  Engine Size (L)  Horsepower  Torque  Time  Age  \\\n",
       "0           Porsche       911              3.0       379.0   331.0   4.0    2   \n",
       "1       Lamborghini   Huracan              5.2       630.0   443.0   2.8    3   \n",
       "2           Ferrari   488 GTB              3.9       661.0   561.0   3.0    2   \n",
       "3              Audi        R8              5.2       562.0   406.0   3.2    2   \n",
       "4           McLaren      720S              4.0       710.0   568.0   2.7    3   \n",
       "...             ...       ...              ...         ...     ...   ...  ...   \n",
       "996   Mercedes-Benz   SLS AMG              6.3       622.0   468.0   3.6    3   \n",
       "998            Ford   Mustang              2.3       310.0   350.0   5.3    3   \n",
       "999          Nissan      370Z              3.7       332.0   270.0   5.1    3   \n",
       "1002     Koenigsegg     Jesko              5.0      1280.0  1106.0   2.5    2   \n",
       "1005         Pagani    Huayra              6.0       764.0   738.0   3.0    3   \n",
       "\n",
       "        price  \n",
       "0      101200  \n",
       "1      274390  \n",
       "2      333750  \n",
       "3      142700  \n",
       "4      298000  \n",
       "...       ...  \n",
       "996    254500  \n",
       "998     27205  \n",
       "999     30090  \n",
       "1002  3000000  \n",
       "1005  2600000  \n",
       "\n",
       "[704 rows x 8 columns]"
      ]
     },
     "execution_count": 63,
     "metadata": {},
     "output_type": "execute_result"
    }
   ],
   "source": [
    "df"
   ]
  },
  {
   "cell_type": "code",
   "execution_count": 65,
   "id": "a956c8a7",
   "metadata": {},
   "outputs": [
    {
     "data": {
      "text/html": [
       "<div>\n",
       "<style scoped>\n",
       "    .dataframe tbody tr th:only-of-type {\n",
       "        vertical-align: middle;\n",
       "    }\n",
       "\n",
       "    .dataframe tbody tr th {\n",
       "        vertical-align: top;\n",
       "    }\n",
       "\n",
       "    .dataframe thead th {\n",
       "        text-align: right;\n",
       "    }\n",
       "</style>\n",
       "<table border=\"1\" class=\"dataframe\">\n",
       "  <thead>\n",
       "    <tr style=\"text-align: right;\">\n",
       "      <th></th>\n",
       "      <th>Car Make</th>\n",
       "      <th>Engine Size (L)</th>\n",
       "      <th>Horsepower</th>\n",
       "      <th>Torque</th>\n",
       "      <th>Time</th>\n",
       "      <th>Age</th>\n",
       "      <th>price</th>\n",
       "    </tr>\n",
       "  </thead>\n",
       "  <tbody>\n",
       "    <tr>\n",
       "      <th>0</th>\n",
       "      <td>Porsche</td>\n",
       "      <td>3.0</td>\n",
       "      <td>379.0</td>\n",
       "      <td>331.0</td>\n",
       "      <td>4.0</td>\n",
       "      <td>2</td>\n",
       "      <td>101200</td>\n",
       "    </tr>\n",
       "    <tr>\n",
       "      <th>1</th>\n",
       "      <td>Lamborghini</td>\n",
       "      <td>5.2</td>\n",
       "      <td>630.0</td>\n",
       "      <td>443.0</td>\n",
       "      <td>2.8</td>\n",
       "      <td>3</td>\n",
       "      <td>274390</td>\n",
       "    </tr>\n",
       "    <tr>\n",
       "      <th>2</th>\n",
       "      <td>Ferrari</td>\n",
       "      <td>3.9</td>\n",
       "      <td>661.0</td>\n",
       "      <td>561.0</td>\n",
       "      <td>3.0</td>\n",
       "      <td>2</td>\n",
       "      <td>333750</td>\n",
       "    </tr>\n",
       "    <tr>\n",
       "      <th>3</th>\n",
       "      <td>Audi</td>\n",
       "      <td>5.2</td>\n",
       "      <td>562.0</td>\n",
       "      <td>406.0</td>\n",
       "      <td>3.2</td>\n",
       "      <td>2</td>\n",
       "      <td>142700</td>\n",
       "    </tr>\n",
       "    <tr>\n",
       "      <th>4</th>\n",
       "      <td>McLaren</td>\n",
       "      <td>4.0</td>\n",
       "      <td>710.0</td>\n",
       "      <td>568.0</td>\n",
       "      <td>2.7</td>\n",
       "      <td>3</td>\n",
       "      <td>298000</td>\n",
       "    </tr>\n",
       "    <tr>\n",
       "      <th>...</th>\n",
       "      <td>...</td>\n",
       "      <td>...</td>\n",
       "      <td>...</td>\n",
       "      <td>...</td>\n",
       "      <td>...</td>\n",
       "      <td>...</td>\n",
       "      <td>...</td>\n",
       "    </tr>\n",
       "    <tr>\n",
       "      <th>996</th>\n",
       "      <td>Mercedes-Benz</td>\n",
       "      <td>6.3</td>\n",
       "      <td>622.0</td>\n",
       "      <td>468.0</td>\n",
       "      <td>3.6</td>\n",
       "      <td>3</td>\n",
       "      <td>254500</td>\n",
       "    </tr>\n",
       "    <tr>\n",
       "      <th>998</th>\n",
       "      <td>Ford</td>\n",
       "      <td>2.3</td>\n",
       "      <td>310.0</td>\n",
       "      <td>350.0</td>\n",
       "      <td>5.3</td>\n",
       "      <td>3</td>\n",
       "      <td>27205</td>\n",
       "    </tr>\n",
       "    <tr>\n",
       "      <th>999</th>\n",
       "      <td>Nissan</td>\n",
       "      <td>3.7</td>\n",
       "      <td>332.0</td>\n",
       "      <td>270.0</td>\n",
       "      <td>5.1</td>\n",
       "      <td>3</td>\n",
       "      <td>30090</td>\n",
       "    </tr>\n",
       "    <tr>\n",
       "      <th>1002</th>\n",
       "      <td>Koenigsegg</td>\n",
       "      <td>5.0</td>\n",
       "      <td>1280.0</td>\n",
       "      <td>1106.0</td>\n",
       "      <td>2.5</td>\n",
       "      <td>2</td>\n",
       "      <td>3000000</td>\n",
       "    </tr>\n",
       "    <tr>\n",
       "      <th>1005</th>\n",
       "      <td>Pagani</td>\n",
       "      <td>6.0</td>\n",
       "      <td>764.0</td>\n",
       "      <td>738.0</td>\n",
       "      <td>3.0</td>\n",
       "      <td>3</td>\n",
       "      <td>2600000</td>\n",
       "    </tr>\n",
       "  </tbody>\n",
       "</table>\n",
       "<p>704 rows × 7 columns</p>\n",
       "</div>"
      ],
      "text/plain": [
       "           Car Make  Engine Size (L)  Horsepower  Torque  Time  Age    price\n",
       "0           Porsche              3.0       379.0   331.0   4.0    2   101200\n",
       "1       Lamborghini              5.2       630.0   443.0   2.8    3   274390\n",
       "2           Ferrari              3.9       661.0   561.0   3.0    2   333750\n",
       "3              Audi              5.2       562.0   406.0   3.2    2   142700\n",
       "4           McLaren              4.0       710.0   568.0   2.7    3   298000\n",
       "...             ...              ...         ...     ...   ...  ...      ...\n",
       "996   Mercedes-Benz              6.3       622.0   468.0   3.6    3   254500\n",
       "998            Ford              2.3       310.0   350.0   5.3    3    27205\n",
       "999          Nissan              3.7       332.0   270.0   5.1    3    30090\n",
       "1002     Koenigsegg              5.0      1280.0  1106.0   2.5    2  3000000\n",
       "1005         Pagani              6.0       764.0   738.0   3.0    3  2600000\n",
       "\n",
       "[704 rows x 7 columns]"
      ]
     },
     "execution_count": 65,
     "metadata": {},
     "output_type": "execute_result"
    }
   ],
   "source": [
    "df.drop(\"Car Model\",axis=1)"
   ]
  },
  {
   "cell_type": "code",
   "execution_count": 66,
   "id": "43dc860e",
   "metadata": {
    "ExecuteTime": {
     "end_time": "2024-08-10T10:41:28.037489Z",
     "start_time": "2024-08-10T10:41:28.006311Z"
    }
   },
   "outputs": [],
   "source": [
    "from sklearn.preprocessing import OrdinalEncoder\n",
    "oe = OrdinalEncoder()\n",
    "df['Car Make']=oe.fit_transform(df[['Car Make']])"
   ]
  },
  {
   "cell_type": "code",
   "execution_count": null,
   "id": "fced5f7a",
   "metadata": {
    "ExecuteTime": {
     "end_time": "2024-08-10T10:41:52.670281Z",
     "start_time": "2024-08-10T10:41:52.654639Z"
    }
   },
   "outputs": [],
   "source": [
    "# since the scaled df becomes a numpy array you cannot index unless you make it a dataframe\n",
    "\n",
    "# scaled_df = pd.DataFrame(scaled_df)"
   ]
  },
  {
   "cell_type": "code",
   "execution_count": 67,
   "id": "1871e1a4",
   "metadata": {
    "ExecuteTime": {
     "end_time": "2024-08-10T10:41:53.475653Z",
     "start_time": "2024-08-10T10:41:53.444390Z"
    }
   },
   "outputs": [
    {
     "data": {
      "text/plain": [
       "Car Make            0\n",
       "Car Model           0\n",
       "Engine Size (L)    39\n",
       "Horsepower          7\n",
       "Torque              5\n",
       "Time                1\n",
       "Age                 0\n",
       "price               0\n",
       "dtype: int64"
      ]
     },
     "execution_count": 67,
     "metadata": {},
     "output_type": "execute_result"
    }
   ],
   "source": [
    "df.isnull().sum()"
   ]
  },
  {
   "cell_type": "code",
   "execution_count": null,
   "id": "c14379d1",
   "metadata": {
    "ExecuteTime": {
     "end_time": "2024-08-10T10:42:02.696115Z",
     "start_time": "2024-08-10T10:42:02.680490Z"
    }
   },
   "outputs": [],
   "source": [
    "df.dropna(inplace=True)"
   ]
  },
  {
   "cell_type": "code",
   "execution_count": null,
   "id": "86aae978",
   "metadata": {
    "ExecuteTime": {
     "end_time": "2024-08-10T10:42:03.666003Z",
     "start_time": "2024-08-10T10:42:03.641954Z"
    }
   },
   "outputs": [
    {
     "data": {
      "text/plain": [
       "Car Make                    0\n",
       "Car Model                   0\n",
       "Year                        0\n",
       "Engine Size (L)            10\n",
       "Horsepower                  0\n",
       "Torque (lb-ft)              3\n",
       "0-60 MPH Time (seconds)     0\n",
       "Price (in USD)              0\n",
       "dtype: int64"
      ]
     },
     "execution_count": 16,
     "metadata": {},
     "output_type": "execute_result"
    }
   ],
   "source": [
    "df.isnull().sum()\n"
   ]
  },
  {
   "cell_type": "code",
   "execution_count": 68,
   "id": "15b75652",
   "metadata": {
    "ExecuteTime": {
     "end_time": "2024-08-10T10:42:18.183046Z",
     "start_time": "2024-08-10T10:42:18.167408Z"
    }
   },
   "outputs": [],
   "source": [
    "x = df.iloc[:,:6]\n",
    "y = df.iloc[:,-1]"
   ]
  },
  {
   "cell_type": "code",
   "execution_count": null,
   "id": "daaf6ad9",
   "metadata": {
    "ExecuteTime": {
     "end_time": "2024-08-10T10:42:20.112913Z",
     "start_time": "2024-08-10T10:42:20.066066Z"
    }
   },
   "outputs": [
    {
     "data": {
      "text/html": [
       "<div>\n",
       "<style scoped>\n",
       "    .dataframe tbody tr th:only-of-type {\n",
       "        vertical-align: middle;\n",
       "    }\n",
       "\n",
       "    .dataframe tbody tr th {\n",
       "        vertical-align: top;\n",
       "    }\n",
       "\n",
       "    .dataframe thead th {\n",
       "        text-align: right;\n",
       "    }\n",
       "</style>\n",
       "<table border=\"1\" class=\"dataframe\">\n",
       "  <thead>\n",
       "    <tr style=\"text-align: right;\">\n",
       "      <th></th>\n",
       "      <th>Car Make</th>\n",
       "      <th>Car Model</th>\n",
       "      <th>Year</th>\n",
       "      <th>Engine Size (L)</th>\n",
       "      <th>Horsepower</th>\n",
       "      <th>Torque (lb-ft)</th>\n",
       "    </tr>\n",
       "  </thead>\n",
       "  <tbody>\n",
       "    <tr>\n",
       "      <th>0</th>\n",
       "      <td>Porsche</td>\n",
       "      <td>911</td>\n",
       "      <td>2022</td>\n",
       "      <td>3</td>\n",
       "      <td>379</td>\n",
       "      <td>331</td>\n",
       "    </tr>\n",
       "    <tr>\n",
       "      <th>1</th>\n",
       "      <td>Lamborghini</td>\n",
       "      <td>Huracan</td>\n",
       "      <td>2021</td>\n",
       "      <td>5.2</td>\n",
       "      <td>630</td>\n",
       "      <td>443</td>\n",
       "    </tr>\n",
       "    <tr>\n",
       "      <th>2</th>\n",
       "      <td>Ferrari</td>\n",
       "      <td>488 GTB</td>\n",
       "      <td>2022</td>\n",
       "      <td>3.9</td>\n",
       "      <td>661</td>\n",
       "      <td>561</td>\n",
       "    </tr>\n",
       "    <tr>\n",
       "      <th>3</th>\n",
       "      <td>Audi</td>\n",
       "      <td>R8</td>\n",
       "      <td>2022</td>\n",
       "      <td>5.2</td>\n",
       "      <td>562</td>\n",
       "      <td>406</td>\n",
       "    </tr>\n",
       "    <tr>\n",
       "      <th>4</th>\n",
       "      <td>McLaren</td>\n",
       "      <td>720S</td>\n",
       "      <td>2021</td>\n",
       "      <td>4</td>\n",
       "      <td>710</td>\n",
       "      <td>568</td>\n",
       "    </tr>\n",
       "    <tr>\n",
       "      <th>...</th>\n",
       "      <td>...</td>\n",
       "      <td>...</td>\n",
       "      <td>...</td>\n",
       "      <td>...</td>\n",
       "      <td>...</td>\n",
       "      <td>...</td>\n",
       "    </tr>\n",
       "    <tr>\n",
       "      <th>1002</th>\n",
       "      <td>Koenigsegg</td>\n",
       "      <td>Jesko</td>\n",
       "      <td>2022</td>\n",
       "      <td>5</td>\n",
       "      <td>1280</td>\n",
       "      <td>1106</td>\n",
       "    </tr>\n",
       "    <tr>\n",
       "      <th>1003</th>\n",
       "      <td>Lotus</td>\n",
       "      <td>Evija</td>\n",
       "      <td>2021</td>\n",
       "      <td>Electric Motor</td>\n",
       "      <td>1972</td>\n",
       "      <td>1254</td>\n",
       "    </tr>\n",
       "    <tr>\n",
       "      <th>1004</th>\n",
       "      <td>McLaren</td>\n",
       "      <td>Senna</td>\n",
       "      <td>2021</td>\n",
       "      <td>4</td>\n",
       "      <td>789</td>\n",
       "      <td>590</td>\n",
       "    </tr>\n",
       "    <tr>\n",
       "      <th>1005</th>\n",
       "      <td>Pagani</td>\n",
       "      <td>Huayra</td>\n",
       "      <td>2021</td>\n",
       "      <td>6</td>\n",
       "      <td>764</td>\n",
       "      <td>738</td>\n",
       "    </tr>\n",
       "    <tr>\n",
       "      <th>1006</th>\n",
       "      <td>Rimac</td>\n",
       "      <td>Nevera</td>\n",
       "      <td>2021</td>\n",
       "      <td>Electric Motor</td>\n",
       "      <td>1888</td>\n",
       "      <td>1696</td>\n",
       "    </tr>\n",
       "  </tbody>\n",
       "</table>\n",
       "<p>1007 rows × 6 columns</p>\n",
       "</div>"
      ],
      "text/plain": [
       "         Car Make Car Model  Year Engine Size (L) Horsepower Torque (lb-ft)\n",
       "0         Porsche       911  2022               3        379            331\n",
       "1     Lamborghini   Huracan  2021             5.2        630            443\n",
       "2         Ferrari   488 GTB  2022             3.9        661            561\n",
       "3            Audi        R8  2022             5.2        562            406\n",
       "4         McLaren      720S  2021               4        710            568\n",
       "...           ...       ...   ...             ...        ...            ...\n",
       "1002   Koenigsegg     Jesko  2022               5       1280           1106\n",
       "1003        Lotus     Evija  2021  Electric Motor       1972           1254\n",
       "1004      McLaren     Senna  2021               4        789            590\n",
       "1005       Pagani    Huayra  2021               6        764            738\n",
       "1006        Rimac    Nevera  2021  Electric Motor       1888           1696\n",
       "\n",
       "[1007 rows x 6 columns]"
      ]
     },
     "execution_count": 19,
     "metadata": {},
     "output_type": "execute_result"
    }
   ],
   "source": [
    "x"
   ]
  },
  {
   "cell_type": "code",
   "execution_count": null,
   "id": "cefb8d03",
   "metadata": {
    "ExecuteTime": {
     "end_time": "2024-08-10T10:42:29.632235Z",
     "start_time": "2024-08-10T10:42:29.601034Z"
    }
   },
   "outputs": [
    {
     "data": {
      "text/plain": [
       "0         101,200\n",
       "1         274,390\n",
       "2         333,750\n",
       "3         142,700\n",
       "4         298,000\n",
       "          ...    \n",
       "1002    3,000,000\n",
       "1003    2,000,000\n",
       "1004    1,000,000\n",
       "1005    2,600,000\n",
       "1006    2,400,000\n",
       "Name: Price (in USD), Length: 1007, dtype: object"
      ]
     },
     "execution_count": 20,
     "metadata": {},
     "output_type": "execute_result"
    }
   ],
   "source": [
    "y"
   ]
  },
  {
   "cell_type": "markdown",
   "id": "780c784d",
   "metadata": {
    "ExecuteTime": {
     "end_time": "2024-06-02T08:55:24.251687Z",
     "start_time": "2024-06-02T08:55:24.219858Z"
    }
   },
   "source": [
    "<h3>importing models</h3>"
   ]
  },
  {
   "cell_type": "code",
   "execution_count": null,
   "id": "fe514ca9",
   "metadata": {
    "ExecuteTime": {
     "end_time": "2024-08-10T10:42:45.425990Z",
     "start_time": "2024-08-10T10:42:45.379155Z"
    }
   },
   "outputs": [
    {
     "ename": "TypeError",
     "evalue": "ufunc 'isinf' not supported for the input types, and the inputs could not be safely coerced to any supported types according to the casting rule ''safe''",
     "output_type": "error",
     "traceback": [
      "\u001b[1;31m---------------------------------------------------------------------------\u001b[0m",
      "\u001b[1;31mTypeError\u001b[0m                                 Traceback (most recent call last)",
      "Cell \u001b[1;32mIn[21], line 2\u001b[0m\n\u001b[0;32m      1\u001b[0m \u001b[38;5;66;03m# Check for infinite values\u001b[39;00m\n\u001b[1;32m----> 2\u001b[0m \u001b[38;5;28mprint\u001b[39m(\u001b[43mnp\u001b[49m\u001b[38;5;241;43m.\u001b[39;49m\u001b[43misinf\u001b[49m\u001b[43m(\u001b[49m\u001b[43mdf\u001b[49m\u001b[43m)\u001b[49m\u001b[38;5;241m.\u001b[39msum())\n\u001b[0;32m      4\u001b[0m \u001b[38;5;66;03m# Optionally, display the rows with infinite values\u001b[39;00m\n\u001b[0;32m      5\u001b[0m \u001b[38;5;28mprint\u001b[39m(df[np\u001b[38;5;241m.\u001b[39misinf(df)\u001b[38;5;241m.\u001b[39many(axis\u001b[38;5;241m=\u001b[39m\u001b[38;5;241m1\u001b[39m)])\n",
      "File \u001b[1;32m~\\AppData\\Roaming\\Python\\Python311\\site-packages\\pandas\\core\\generic.py:2171\u001b[0m, in \u001b[0;36mNDFrame.__array_ufunc__\u001b[1;34m(self, ufunc, method, *inputs, **kwargs)\u001b[0m\n\u001b[0;32m   2167\u001b[0m \u001b[38;5;129m@final\u001b[39m\n\u001b[0;32m   2168\u001b[0m \u001b[38;5;28;01mdef\u001b[39;00m \u001b[38;5;21m__array_ufunc__\u001b[39m(\n\u001b[0;32m   2169\u001b[0m     \u001b[38;5;28mself\u001b[39m, ufunc: np\u001b[38;5;241m.\u001b[39mufunc, method: \u001b[38;5;28mstr\u001b[39m, \u001b[38;5;241m*\u001b[39minputs: Any, \u001b[38;5;241m*\u001b[39m\u001b[38;5;241m*\u001b[39mkwargs: Any\n\u001b[0;32m   2170\u001b[0m ):\n\u001b[1;32m-> 2171\u001b[0m     \u001b[38;5;28;01mreturn\u001b[39;00m \u001b[43marraylike\u001b[49m\u001b[38;5;241;43m.\u001b[39;49m\u001b[43marray_ufunc\u001b[49m\u001b[43m(\u001b[49m\u001b[38;5;28;43mself\u001b[39;49m\u001b[43m,\u001b[49m\u001b[43m \u001b[49m\u001b[43mufunc\u001b[49m\u001b[43m,\u001b[49m\u001b[43m \u001b[49m\u001b[43mmethod\u001b[49m\u001b[43m,\u001b[49m\u001b[43m \u001b[49m\u001b[38;5;241;43m*\u001b[39;49m\u001b[43minputs\u001b[49m\u001b[43m,\u001b[49m\u001b[43m \u001b[49m\u001b[38;5;241;43m*\u001b[39;49m\u001b[38;5;241;43m*\u001b[39;49m\u001b[43mkwargs\u001b[49m\u001b[43m)\u001b[49m\n",
      "File \u001b[1;32m~\\AppData\\Roaming\\Python\\Python311\\site-packages\\pandas\\core\\arraylike.py:407\u001b[0m, in \u001b[0;36marray_ufunc\u001b[1;34m(self, ufunc, method, *inputs, **kwargs)\u001b[0m\n\u001b[0;32m    402\u001b[0m \u001b[38;5;28;01mif\u001b[39;00m method \u001b[38;5;241m==\u001b[39m \u001b[38;5;124m\"\u001b[39m\u001b[38;5;124m__call__\u001b[39m\u001b[38;5;124m\"\u001b[39m \u001b[38;5;129;01mand\u001b[39;00m \u001b[38;5;129;01mnot\u001b[39;00m kwargs:\n\u001b[0;32m    403\u001b[0m     \u001b[38;5;66;03m# for np.<ufunc>(..) calls\u001b[39;00m\n\u001b[0;32m    404\u001b[0m     \u001b[38;5;66;03m# kwargs cannot necessarily be handled block-by-block, so only\u001b[39;00m\n\u001b[0;32m    405\u001b[0m     \u001b[38;5;66;03m# take this path if there are no kwargs\u001b[39;00m\n\u001b[0;32m    406\u001b[0m     mgr \u001b[38;5;241m=\u001b[39m inputs[\u001b[38;5;241m0\u001b[39m]\u001b[38;5;241m.\u001b[39m_mgr\n\u001b[1;32m--> 407\u001b[0m     result \u001b[38;5;241m=\u001b[39m \u001b[43mmgr\u001b[49m\u001b[38;5;241;43m.\u001b[39;49m\u001b[43mapply\u001b[49m\u001b[43m(\u001b[49m\u001b[38;5;28;43mgetattr\u001b[39;49m\u001b[43m(\u001b[49m\u001b[43mufunc\u001b[49m\u001b[43m,\u001b[49m\u001b[43m \u001b[49m\u001b[43mmethod\u001b[49m\u001b[43m)\u001b[49m\u001b[43m)\u001b[49m\n\u001b[0;32m    408\u001b[0m \u001b[38;5;28;01melse\u001b[39;00m:\n\u001b[0;32m    409\u001b[0m     \u001b[38;5;66;03m# otherwise specific ufunc methods (eg np.<ufunc>.accumulate(..))\u001b[39;00m\n\u001b[0;32m    410\u001b[0m     \u001b[38;5;66;03m# Those can have an axis keyword and thus can't be called block-by-block\u001b[39;00m\n\u001b[0;32m    411\u001b[0m     result \u001b[38;5;241m=\u001b[39m default_array_ufunc(inputs[\u001b[38;5;241m0\u001b[39m], ufunc, method, \u001b[38;5;241m*\u001b[39minputs, \u001b[38;5;241m*\u001b[39m\u001b[38;5;241m*\u001b[39mkwargs)\n",
      "File \u001b[1;32m~\\AppData\\Roaming\\Python\\Python311\\site-packages\\pandas\\core\\internals\\managers.py:361\u001b[0m, in \u001b[0;36mBaseBlockManager.apply\u001b[1;34m(self, f, align_keys, **kwargs)\u001b[0m\n\u001b[0;32m    358\u001b[0m             kwargs[k] \u001b[38;5;241m=\u001b[39m obj[b\u001b[38;5;241m.\u001b[39mmgr_locs\u001b[38;5;241m.\u001b[39mindexer]\n\u001b[0;32m    360\u001b[0m \u001b[38;5;28;01mif\u001b[39;00m \u001b[38;5;28mcallable\u001b[39m(f):\n\u001b[1;32m--> 361\u001b[0m     applied \u001b[38;5;241m=\u001b[39m \u001b[43mb\u001b[49m\u001b[38;5;241;43m.\u001b[39;49m\u001b[43mapply\u001b[49m\u001b[43m(\u001b[49m\u001b[43mf\u001b[49m\u001b[43m,\u001b[49m\u001b[43m \u001b[49m\u001b[38;5;241;43m*\u001b[39;49m\u001b[38;5;241;43m*\u001b[39;49m\u001b[43mkwargs\u001b[49m\u001b[43m)\u001b[49m\n\u001b[0;32m    362\u001b[0m \u001b[38;5;28;01melse\u001b[39;00m:\n\u001b[0;32m    363\u001b[0m     applied \u001b[38;5;241m=\u001b[39m \u001b[38;5;28mgetattr\u001b[39m(b, f)(\u001b[38;5;241m*\u001b[39m\u001b[38;5;241m*\u001b[39mkwargs)\n",
      "File \u001b[1;32m~\\AppData\\Roaming\\Python\\Python311\\site-packages\\pandas\\core\\internals\\blocks.py:393\u001b[0m, in \u001b[0;36mBlock.apply\u001b[1;34m(self, func, **kwargs)\u001b[0m\n\u001b[0;32m    387\u001b[0m \u001b[38;5;129m@final\u001b[39m\n\u001b[0;32m    388\u001b[0m \u001b[38;5;28;01mdef\u001b[39;00m \u001b[38;5;21mapply\u001b[39m(\u001b[38;5;28mself\u001b[39m, func, \u001b[38;5;241m*\u001b[39m\u001b[38;5;241m*\u001b[39mkwargs) \u001b[38;5;241m-\u001b[39m\u001b[38;5;241m>\u001b[39m \u001b[38;5;28mlist\u001b[39m[Block]:\n\u001b[0;32m    389\u001b[0m \u001b[38;5;250m    \u001b[39m\u001b[38;5;124;03m\"\"\"\u001b[39;00m\n\u001b[0;32m    390\u001b[0m \u001b[38;5;124;03m    apply the function to my values; return a block if we are not\u001b[39;00m\n\u001b[0;32m    391\u001b[0m \u001b[38;5;124;03m    one\u001b[39;00m\n\u001b[0;32m    392\u001b[0m \u001b[38;5;124;03m    \"\"\"\u001b[39;00m\n\u001b[1;32m--> 393\u001b[0m     result \u001b[38;5;241m=\u001b[39m \u001b[43mfunc\u001b[49m\u001b[43m(\u001b[49m\u001b[38;5;28;43mself\u001b[39;49m\u001b[38;5;241;43m.\u001b[39;49m\u001b[43mvalues\u001b[49m\u001b[43m,\u001b[49m\u001b[43m \u001b[49m\u001b[38;5;241;43m*\u001b[39;49m\u001b[38;5;241;43m*\u001b[39;49m\u001b[43mkwargs\u001b[49m\u001b[43m)\u001b[49m\n\u001b[0;32m    395\u001b[0m     result \u001b[38;5;241m=\u001b[39m maybe_coerce_values(result)\n\u001b[0;32m    396\u001b[0m     \u001b[38;5;28;01mreturn\u001b[39;00m \u001b[38;5;28mself\u001b[39m\u001b[38;5;241m.\u001b[39m_split_op_result(result)\n",
      "\u001b[1;31mTypeError\u001b[0m: ufunc 'isinf' not supported for the input types, and the inputs could not be safely coerced to any supported types according to the casting rule ''safe''"
     ]
    }
   ],
   "source": [
    "# Check for infinite values\n",
    "print(np.isinf(df).sum())\n",
    "\n",
    "# Optionally, display the rows with infinite values\n",
    "print(df[np.isinf(df).any(axis=1)])\n"
   ]
  },
  {
   "cell_type": "code",
   "execution_count": null,
   "id": "6fe03a86",
   "metadata": {
    "ExecuteTime": {
     "end_time": "2024-08-10T10:42:54.844165Z",
     "start_time": "2024-08-10T10:42:54.828544Z"
    }
   },
   "outputs": [
    {
     "ename": "TypeError",
     "evalue": "'>=' not supported between instances of 'str' and 'float'",
     "output_type": "error",
     "traceback": [
      "\u001b[1;31m---------------------------------------------------------------------------\u001b[0m",
      "\u001b[1;31mTypeError\u001b[0m                                 Traceback (most recent call last)",
      "Cell \u001b[1;32mIn[22], line 2\u001b[0m\n\u001b[0;32m      1\u001b[0m \u001b[38;5;66;03m# Check for extremely large values\u001b[39;00m\n\u001b[1;32m----> 2\u001b[0m \u001b[38;5;28mprint\u001b[39m(\u001b[43mdf\u001b[49m\u001b[38;5;241;43m.\u001b[39;49m\u001b[43mmax\u001b[49m\u001b[43m(\u001b[49m\u001b[43m)\u001b[49m)\n",
      "File \u001b[1;32m~\\AppData\\Roaming\\Python\\Python311\\site-packages\\pandas\\core\\frame.py:11656\u001b[0m, in \u001b[0;36mDataFrame.max\u001b[1;34m(self, axis, skipna, numeric_only, **kwargs)\u001b[0m\n\u001b[0;32m  11648\u001b[0m \u001b[38;5;129m@doc\u001b[39m(make_doc(\u001b[38;5;124m\"\u001b[39m\u001b[38;5;124mmax\u001b[39m\u001b[38;5;124m\"\u001b[39m, ndim\u001b[38;5;241m=\u001b[39m\u001b[38;5;241m2\u001b[39m))\n\u001b[0;32m  11649\u001b[0m \u001b[38;5;28;01mdef\u001b[39;00m \u001b[38;5;21mmax\u001b[39m(\n\u001b[0;32m  11650\u001b[0m     \u001b[38;5;28mself\u001b[39m,\n\u001b[1;32m   (...)\u001b[0m\n\u001b[0;32m  11654\u001b[0m     \u001b[38;5;241m*\u001b[39m\u001b[38;5;241m*\u001b[39mkwargs,\n\u001b[0;32m  11655\u001b[0m ):\n\u001b[1;32m> 11656\u001b[0m     result \u001b[38;5;241m=\u001b[39m \u001b[38;5;28;43msuper\u001b[39;49m\u001b[43m(\u001b[49m\u001b[43m)\u001b[49m\u001b[38;5;241;43m.\u001b[39;49m\u001b[43mmax\u001b[49m\u001b[43m(\u001b[49m\u001b[43maxis\u001b[49m\u001b[43m,\u001b[49m\u001b[43m \u001b[49m\u001b[43mskipna\u001b[49m\u001b[43m,\u001b[49m\u001b[43m \u001b[49m\u001b[43mnumeric_only\u001b[49m\u001b[43m,\u001b[49m\u001b[43m \u001b[49m\u001b[38;5;241;43m*\u001b[39;49m\u001b[38;5;241;43m*\u001b[39;49m\u001b[43mkwargs\u001b[49m\u001b[43m)\u001b[49m\n\u001b[0;32m  11657\u001b[0m     \u001b[38;5;28;01mif\u001b[39;00m \u001b[38;5;28misinstance\u001b[39m(result, Series):\n\u001b[0;32m  11658\u001b[0m         result \u001b[38;5;241m=\u001b[39m result\u001b[38;5;241m.\u001b[39m__finalize__(\u001b[38;5;28mself\u001b[39m, method\u001b[38;5;241m=\u001b[39m\u001b[38;5;124m\"\u001b[39m\u001b[38;5;124mmax\u001b[39m\u001b[38;5;124m\"\u001b[39m)\n",
      "File \u001b[1;32m~\\AppData\\Roaming\\Python\\Python311\\site-packages\\pandas\\core\\generic.py:12404\u001b[0m, in \u001b[0;36mNDFrame.max\u001b[1;34m(self, axis, skipna, numeric_only, **kwargs)\u001b[0m\n\u001b[0;32m  12397\u001b[0m \u001b[38;5;28;01mdef\u001b[39;00m \u001b[38;5;21mmax\u001b[39m(\n\u001b[0;32m  12398\u001b[0m     \u001b[38;5;28mself\u001b[39m,\n\u001b[0;32m  12399\u001b[0m     axis: Axis \u001b[38;5;241m|\u001b[39m \u001b[38;5;28;01mNone\u001b[39;00m \u001b[38;5;241m=\u001b[39m \u001b[38;5;241m0\u001b[39m,\n\u001b[1;32m   (...)\u001b[0m\n\u001b[0;32m  12402\u001b[0m     \u001b[38;5;241m*\u001b[39m\u001b[38;5;241m*\u001b[39mkwargs,\n\u001b[0;32m  12403\u001b[0m ):\n\u001b[1;32m> 12404\u001b[0m     \u001b[38;5;28;01mreturn\u001b[39;00m \u001b[38;5;28;43mself\u001b[39;49m\u001b[38;5;241;43m.\u001b[39;49m\u001b[43m_stat_function\u001b[49m\u001b[43m(\u001b[49m\n\u001b[0;32m  12405\u001b[0m \u001b[43m        \u001b[49m\u001b[38;5;124;43m\"\u001b[39;49m\u001b[38;5;124;43mmax\u001b[39;49m\u001b[38;5;124;43m\"\u001b[39;49m\u001b[43m,\u001b[49m\n\u001b[0;32m  12406\u001b[0m \u001b[43m        \u001b[49m\u001b[43mnanops\u001b[49m\u001b[38;5;241;43m.\u001b[39;49m\u001b[43mnanmax\u001b[49m\u001b[43m,\u001b[49m\n\u001b[0;32m  12407\u001b[0m \u001b[43m        \u001b[49m\u001b[43maxis\u001b[49m\u001b[43m,\u001b[49m\n\u001b[0;32m  12408\u001b[0m \u001b[43m        \u001b[49m\u001b[43mskipna\u001b[49m\u001b[43m,\u001b[49m\n\u001b[0;32m  12409\u001b[0m \u001b[43m        \u001b[49m\u001b[43mnumeric_only\u001b[49m\u001b[43m,\u001b[49m\n\u001b[0;32m  12410\u001b[0m \u001b[43m        \u001b[49m\u001b[38;5;241;43m*\u001b[39;49m\u001b[38;5;241;43m*\u001b[39;49m\u001b[43mkwargs\u001b[49m\u001b[43m,\u001b[49m\n\u001b[0;32m  12411\u001b[0m \u001b[43m    \u001b[49m\u001b[43m)\u001b[49m\n",
      "File \u001b[1;32m~\\AppData\\Roaming\\Python\\Python311\\site-packages\\pandas\\core\\generic.py:12377\u001b[0m, in \u001b[0;36mNDFrame._stat_function\u001b[1;34m(self, name, func, axis, skipna, numeric_only, **kwargs)\u001b[0m\n\u001b[0;32m  12373\u001b[0m nv\u001b[38;5;241m.\u001b[39mvalidate_func(name, (), kwargs)\n\u001b[0;32m  12375\u001b[0m validate_bool_kwarg(skipna, \u001b[38;5;124m\"\u001b[39m\u001b[38;5;124mskipna\u001b[39m\u001b[38;5;124m\"\u001b[39m, none_allowed\u001b[38;5;241m=\u001b[39m\u001b[38;5;28;01mFalse\u001b[39;00m)\n\u001b[1;32m> 12377\u001b[0m \u001b[38;5;28;01mreturn\u001b[39;00m \u001b[38;5;28;43mself\u001b[39;49m\u001b[38;5;241;43m.\u001b[39;49m\u001b[43m_reduce\u001b[49m\u001b[43m(\u001b[49m\n\u001b[0;32m  12378\u001b[0m \u001b[43m    \u001b[49m\u001b[43mfunc\u001b[49m\u001b[43m,\u001b[49m\u001b[43m \u001b[49m\u001b[43mname\u001b[49m\u001b[38;5;241;43m=\u001b[39;49m\u001b[43mname\u001b[49m\u001b[43m,\u001b[49m\u001b[43m \u001b[49m\u001b[43maxis\u001b[49m\u001b[38;5;241;43m=\u001b[39;49m\u001b[43maxis\u001b[49m\u001b[43m,\u001b[49m\u001b[43m \u001b[49m\u001b[43mskipna\u001b[49m\u001b[38;5;241;43m=\u001b[39;49m\u001b[43mskipna\u001b[49m\u001b[43m,\u001b[49m\u001b[43m \u001b[49m\u001b[43mnumeric_only\u001b[49m\u001b[38;5;241;43m=\u001b[39;49m\u001b[43mnumeric_only\u001b[49m\n\u001b[0;32m  12379\u001b[0m \u001b[43m\u001b[49m\u001b[43m)\u001b[49m\n",
      "File \u001b[1;32m~\\AppData\\Roaming\\Python\\Python311\\site-packages\\pandas\\core\\frame.py:11562\u001b[0m, in \u001b[0;36mDataFrame._reduce\u001b[1;34m(self, op, name, axis, skipna, numeric_only, filter_type, **kwds)\u001b[0m\n\u001b[0;32m  11558\u001b[0m     df \u001b[38;5;241m=\u001b[39m df\u001b[38;5;241m.\u001b[39mT\n\u001b[0;32m  11560\u001b[0m \u001b[38;5;66;03m# After possibly _get_data and transposing, we are now in the\u001b[39;00m\n\u001b[0;32m  11561\u001b[0m \u001b[38;5;66;03m#  simple case where we can use BlockManager.reduce\u001b[39;00m\n\u001b[1;32m> 11562\u001b[0m res \u001b[38;5;241m=\u001b[39m \u001b[43mdf\u001b[49m\u001b[38;5;241;43m.\u001b[39;49m\u001b[43m_mgr\u001b[49m\u001b[38;5;241;43m.\u001b[39;49m\u001b[43mreduce\u001b[49m\u001b[43m(\u001b[49m\u001b[43mblk_func\u001b[49m\u001b[43m)\u001b[49m\n\u001b[0;32m  11563\u001b[0m out \u001b[38;5;241m=\u001b[39m df\u001b[38;5;241m.\u001b[39m_constructor_from_mgr(res, axes\u001b[38;5;241m=\u001b[39mres\u001b[38;5;241m.\u001b[39maxes)\u001b[38;5;241m.\u001b[39miloc[\u001b[38;5;241m0\u001b[39m]\n\u001b[0;32m  11564\u001b[0m \u001b[38;5;28;01mif\u001b[39;00m out_dtype \u001b[38;5;129;01mis\u001b[39;00m \u001b[38;5;129;01mnot\u001b[39;00m \u001b[38;5;28;01mNone\u001b[39;00m \u001b[38;5;129;01mand\u001b[39;00m out\u001b[38;5;241m.\u001b[39mdtype \u001b[38;5;241m!=\u001b[39m \u001b[38;5;124m\"\u001b[39m\u001b[38;5;124mboolean\u001b[39m\u001b[38;5;124m\"\u001b[39m:\n",
      "File \u001b[1;32m~\\AppData\\Roaming\\Python\\Python311\\site-packages\\pandas\\core\\internals\\managers.py:1500\u001b[0m, in \u001b[0;36mBlockManager.reduce\u001b[1;34m(self, func)\u001b[0m\n\u001b[0;32m   1498\u001b[0m res_blocks: \u001b[38;5;28mlist\u001b[39m[Block] \u001b[38;5;241m=\u001b[39m []\n\u001b[0;32m   1499\u001b[0m \u001b[38;5;28;01mfor\u001b[39;00m blk \u001b[38;5;129;01min\u001b[39;00m \u001b[38;5;28mself\u001b[39m\u001b[38;5;241m.\u001b[39mblocks:\n\u001b[1;32m-> 1500\u001b[0m     nbs \u001b[38;5;241m=\u001b[39m \u001b[43mblk\u001b[49m\u001b[38;5;241;43m.\u001b[39;49m\u001b[43mreduce\u001b[49m\u001b[43m(\u001b[49m\u001b[43mfunc\u001b[49m\u001b[43m)\u001b[49m\n\u001b[0;32m   1501\u001b[0m     res_blocks\u001b[38;5;241m.\u001b[39mextend(nbs)\n\u001b[0;32m   1503\u001b[0m index \u001b[38;5;241m=\u001b[39m Index([\u001b[38;5;28;01mNone\u001b[39;00m])  \u001b[38;5;66;03m# placeholder\u001b[39;00m\n",
      "File \u001b[1;32m~\\AppData\\Roaming\\Python\\Python311\\site-packages\\pandas\\core\\internals\\blocks.py:404\u001b[0m, in \u001b[0;36mBlock.reduce\u001b[1;34m(self, func)\u001b[0m\n\u001b[0;32m    398\u001b[0m \u001b[38;5;129m@final\u001b[39m\n\u001b[0;32m    399\u001b[0m \u001b[38;5;28;01mdef\u001b[39;00m \u001b[38;5;21mreduce\u001b[39m(\u001b[38;5;28mself\u001b[39m, func) \u001b[38;5;241m-\u001b[39m\u001b[38;5;241m>\u001b[39m \u001b[38;5;28mlist\u001b[39m[Block]:\n\u001b[0;32m    400\u001b[0m     \u001b[38;5;66;03m# We will apply the function and reshape the result into a single-row\u001b[39;00m\n\u001b[0;32m    401\u001b[0m     \u001b[38;5;66;03m#  Block with the same mgr_locs; squeezing will be done at a higher level\u001b[39;00m\n\u001b[0;32m    402\u001b[0m     \u001b[38;5;28;01massert\u001b[39;00m \u001b[38;5;28mself\u001b[39m\u001b[38;5;241m.\u001b[39mndim \u001b[38;5;241m==\u001b[39m \u001b[38;5;241m2\u001b[39m\n\u001b[1;32m--> 404\u001b[0m     result \u001b[38;5;241m=\u001b[39m \u001b[43mfunc\u001b[49m\u001b[43m(\u001b[49m\u001b[38;5;28;43mself\u001b[39;49m\u001b[38;5;241;43m.\u001b[39;49m\u001b[43mvalues\u001b[49m\u001b[43m)\u001b[49m\n\u001b[0;32m    406\u001b[0m     \u001b[38;5;28;01mif\u001b[39;00m \u001b[38;5;28mself\u001b[39m\u001b[38;5;241m.\u001b[39mvalues\u001b[38;5;241m.\u001b[39mndim \u001b[38;5;241m==\u001b[39m \u001b[38;5;241m1\u001b[39m:\n\u001b[0;32m    407\u001b[0m         res_values \u001b[38;5;241m=\u001b[39m result\n",
      "File \u001b[1;32m~\\AppData\\Roaming\\Python\\Python311\\site-packages\\pandas\\core\\frame.py:11481\u001b[0m, in \u001b[0;36mDataFrame._reduce.<locals>.blk_func\u001b[1;34m(values, axis)\u001b[0m\n\u001b[0;32m  11479\u001b[0m         \u001b[38;5;28;01mreturn\u001b[39;00m np\u001b[38;5;241m.\u001b[39marray([result])\n\u001b[0;32m  11480\u001b[0m \u001b[38;5;28;01melse\u001b[39;00m:\n\u001b[1;32m> 11481\u001b[0m     \u001b[38;5;28;01mreturn\u001b[39;00m \u001b[43mop\u001b[49m\u001b[43m(\u001b[49m\u001b[43mvalues\u001b[49m\u001b[43m,\u001b[49m\u001b[43m \u001b[49m\u001b[43maxis\u001b[49m\u001b[38;5;241;43m=\u001b[39;49m\u001b[43maxis\u001b[49m\u001b[43m,\u001b[49m\u001b[43m \u001b[49m\u001b[43mskipna\u001b[49m\u001b[38;5;241;43m=\u001b[39;49m\u001b[43mskipna\u001b[49m\u001b[43m,\u001b[49m\u001b[43m \u001b[49m\u001b[38;5;241;43m*\u001b[39;49m\u001b[38;5;241;43m*\u001b[39;49m\u001b[43mkwds\u001b[49m\u001b[43m)\u001b[49m\n",
      "File \u001b[1;32m~\\AppData\\Roaming\\Python\\Python311\\site-packages\\pandas\\core\\nanops.py:147\u001b[0m, in \u001b[0;36mbottleneck_switch.__call__.<locals>.f\u001b[1;34m(values, axis, skipna, **kwds)\u001b[0m\n\u001b[0;32m    145\u001b[0m         result \u001b[38;5;241m=\u001b[39m alt(values, axis\u001b[38;5;241m=\u001b[39maxis, skipna\u001b[38;5;241m=\u001b[39mskipna, \u001b[38;5;241m*\u001b[39m\u001b[38;5;241m*\u001b[39mkwds)\n\u001b[0;32m    146\u001b[0m \u001b[38;5;28;01melse\u001b[39;00m:\n\u001b[1;32m--> 147\u001b[0m     result \u001b[38;5;241m=\u001b[39m \u001b[43malt\u001b[49m\u001b[43m(\u001b[49m\u001b[43mvalues\u001b[49m\u001b[43m,\u001b[49m\u001b[43m \u001b[49m\u001b[43maxis\u001b[49m\u001b[38;5;241;43m=\u001b[39;49m\u001b[43maxis\u001b[49m\u001b[43m,\u001b[49m\u001b[43m \u001b[49m\u001b[43mskipna\u001b[49m\u001b[38;5;241;43m=\u001b[39;49m\u001b[43mskipna\u001b[49m\u001b[43m,\u001b[49m\u001b[43m \u001b[49m\u001b[38;5;241;43m*\u001b[39;49m\u001b[38;5;241;43m*\u001b[39;49m\u001b[43mkwds\u001b[49m\u001b[43m)\u001b[49m\n\u001b[0;32m    149\u001b[0m \u001b[38;5;28;01mreturn\u001b[39;00m result\n",
      "File \u001b[1;32m~\\AppData\\Roaming\\Python\\Python311\\site-packages\\pandas\\core\\nanops.py:404\u001b[0m, in \u001b[0;36m_datetimelike_compat.<locals>.new_func\u001b[1;34m(values, axis, skipna, mask, **kwargs)\u001b[0m\n\u001b[0;32m    401\u001b[0m \u001b[38;5;28;01mif\u001b[39;00m datetimelike \u001b[38;5;129;01mand\u001b[39;00m mask \u001b[38;5;129;01mis\u001b[39;00m \u001b[38;5;28;01mNone\u001b[39;00m:\n\u001b[0;32m    402\u001b[0m     mask \u001b[38;5;241m=\u001b[39m isna(values)\n\u001b[1;32m--> 404\u001b[0m result \u001b[38;5;241m=\u001b[39m \u001b[43mfunc\u001b[49m\u001b[43m(\u001b[49m\u001b[43mvalues\u001b[49m\u001b[43m,\u001b[49m\u001b[43m \u001b[49m\u001b[43maxis\u001b[49m\u001b[38;5;241;43m=\u001b[39;49m\u001b[43maxis\u001b[49m\u001b[43m,\u001b[49m\u001b[43m \u001b[49m\u001b[43mskipna\u001b[49m\u001b[38;5;241;43m=\u001b[39;49m\u001b[43mskipna\u001b[49m\u001b[43m,\u001b[49m\u001b[43m \u001b[49m\u001b[43mmask\u001b[49m\u001b[38;5;241;43m=\u001b[39;49m\u001b[43mmask\u001b[49m\u001b[43m,\u001b[49m\u001b[43m \u001b[49m\u001b[38;5;241;43m*\u001b[39;49m\u001b[38;5;241;43m*\u001b[39;49m\u001b[43mkwargs\u001b[49m\u001b[43m)\u001b[49m\n\u001b[0;32m    406\u001b[0m \u001b[38;5;28;01mif\u001b[39;00m datetimelike:\n\u001b[0;32m    407\u001b[0m     result \u001b[38;5;241m=\u001b[39m _wrap_results(result, orig_values\u001b[38;5;241m.\u001b[39mdtype, fill_value\u001b[38;5;241m=\u001b[39miNaT)\n",
      "File \u001b[1;32m~\\AppData\\Roaming\\Python\\Python311\\site-packages\\pandas\\core\\nanops.py:1098\u001b[0m, in \u001b[0;36m_nanminmax.<locals>.reduction\u001b[1;34m(values, axis, skipna, mask)\u001b[0m\n\u001b[0;32m   1093\u001b[0m     \u001b[38;5;28;01mreturn\u001b[39;00m _na_for_min_count(values, axis)\n\u001b[0;32m   1095\u001b[0m values, mask \u001b[38;5;241m=\u001b[39m _get_values(\n\u001b[0;32m   1096\u001b[0m     values, skipna, fill_value_typ\u001b[38;5;241m=\u001b[39mfill_value_typ, mask\u001b[38;5;241m=\u001b[39mmask\n\u001b[0;32m   1097\u001b[0m )\n\u001b[1;32m-> 1098\u001b[0m result \u001b[38;5;241m=\u001b[39m \u001b[38;5;28;43mgetattr\u001b[39;49m\u001b[43m(\u001b[49m\u001b[43mvalues\u001b[49m\u001b[43m,\u001b[49m\u001b[43m \u001b[49m\u001b[43mmeth\u001b[49m\u001b[43m)\u001b[49m\u001b[43m(\u001b[49m\u001b[43maxis\u001b[49m\u001b[43m)\u001b[49m\n\u001b[0;32m   1099\u001b[0m result \u001b[38;5;241m=\u001b[39m _maybe_null_out(result, axis, mask, values\u001b[38;5;241m.\u001b[39mshape)\n\u001b[0;32m   1100\u001b[0m \u001b[38;5;28;01mreturn\u001b[39;00m result\n",
      "File \u001b[1;32m~\\AppData\\Roaming\\Python\\Python311\\site-packages\\numpy\\core\\_methods.py:41\u001b[0m, in \u001b[0;36m_amax\u001b[1;34m(a, axis, out, keepdims, initial, where)\u001b[0m\n\u001b[0;32m     39\u001b[0m \u001b[38;5;28;01mdef\u001b[39;00m \u001b[38;5;21m_amax\u001b[39m(a, axis\u001b[38;5;241m=\u001b[39m\u001b[38;5;28;01mNone\u001b[39;00m, out\u001b[38;5;241m=\u001b[39m\u001b[38;5;28;01mNone\u001b[39;00m, keepdims\u001b[38;5;241m=\u001b[39m\u001b[38;5;28;01mFalse\u001b[39;00m,\n\u001b[0;32m     40\u001b[0m           initial\u001b[38;5;241m=\u001b[39m_NoValue, where\u001b[38;5;241m=\u001b[39m\u001b[38;5;28;01mTrue\u001b[39;00m):\n\u001b[1;32m---> 41\u001b[0m     \u001b[38;5;28;01mreturn\u001b[39;00m umr_maximum(a, axis, \u001b[38;5;28;01mNone\u001b[39;00m, out, keepdims, initial, where)\n",
      "\u001b[1;31mTypeError\u001b[0m: '>=' not supported between instances of 'str' and 'float'"
     ]
    }
   ],
   "source": [
    "# Check for extremely large values\n",
    "print(df.max())\n"
   ]
  },
  {
   "cell_type": "code",
   "execution_count": null,
   "id": "cfcfa964",
   "metadata": {},
   "outputs": [
    {
     "name": "stdout",
     "output_type": "stream",
     "text": [
      "Collecting scikit-learn\n",
      "  Downloading scikit_learn-1.6.0-cp311-cp311-win_amd64.whl.metadata (15 kB)\n",
      "Requirement already satisfied: numpy>=1.19.5 in c:\\users\\laptop\\appdata\\roaming\\python\\python311\\site-packages (from scikit-learn) (1.26.4)\n",
      "Collecting scipy>=1.6.0 (from scikit-learn)\n",
      "  Downloading scipy-1.14.1-cp311-cp311-win_amd64.whl.metadata (60 kB)\n",
      "Collecting joblib>=1.2.0 (from scikit-learn)\n",
      "  Using cached joblib-1.4.2-py3-none-any.whl.metadata (5.4 kB)\n",
      "Collecting threadpoolctl>=3.1.0 (from scikit-learn)\n",
      "  Using cached threadpoolctl-3.5.0-py3-none-any.whl.metadata (13 kB)\n",
      "Downloading scikit_learn-1.6.0-cp311-cp311-win_amd64.whl (11.1 MB)\n",
      "   ---------------------------------------- 0.0/11.1 MB ? eta -:--:--\n",
      "   ---------------------------------------- 0.0/11.1 MB ? eta -:--:--\n",
      "    --------------------------------------- 0.3/11.1 MB ? eta -:--:--\n",
      "   - -------------------------------------- 0.5/11.1 MB 1.3 MB/s eta 0:00:09\n",
      "   --- ------------------------------------ 1.0/11.1 MB 1.3 MB/s eta 0:00:08\n",
      "   ---- ----------------------------------- 1.3/11.1 MB 1.3 MB/s eta 0:00:08\n",
      "   ----- ---------------------------------- 1.6/11.1 MB 1.3 MB/s eta 0:00:08\n",
      "   ------ --------------------------------- 1.8/11.1 MB 1.3 MB/s eta 0:00:08\n",
      "   ------- -------------------------------- 2.1/11.1 MB 1.3 MB/s eta 0:00:07\n",
      "   -------- ------------------------------- 2.4/11.1 MB 1.3 MB/s eta 0:00:07\n",
      "   --------- ------------------------------ 2.6/11.1 MB 1.3 MB/s eta 0:00:07\n",
      "   ---------- ----------------------------- 2.9/11.1 MB 1.3 MB/s eta 0:00:07\n",
      "   ------------ --------------------------- 3.4/11.1 MB 1.4 MB/s eta 0:00:06\n",
      "   ------------- -------------------------- 3.7/11.1 MB 1.4 MB/s eta 0:00:06\n",
      "   -------------- ------------------------- 3.9/11.1 MB 1.4 MB/s eta 0:00:06\n",
      "   --------------- ------------------------ 4.2/11.1 MB 1.4 MB/s eta 0:00:06\n",
      "   ---------------- ----------------------- 4.7/11.1 MB 1.4 MB/s eta 0:00:05\n",
      "   ----------------- ---------------------- 5.0/11.1 MB 1.4 MB/s eta 0:00:05\n",
      "   ------------------ --------------------- 5.2/11.1 MB 1.4 MB/s eta 0:00:05\n",
      "   ------------------- -------------------- 5.5/11.1 MB 1.4 MB/s eta 0:00:04\n",
      "   -------------------- ------------------- 5.8/11.1 MB 1.3 MB/s eta 0:00:04\n",
      "   -------------------- ------------------- 5.8/11.1 MB 1.3 MB/s eta 0:00:04\n",
      "   --------------------- ------------------ 6.0/11.1 MB 1.3 MB/s eta 0:00:04\n",
      "   --------------------- ------------------ 6.0/11.1 MB 1.3 MB/s eta 0:00:04\n",
      "   --------------------- ------------------ 6.0/11.1 MB 1.3 MB/s eta 0:00:04\n",
      "   ---------------------- ----------------- 6.3/11.1 MB 1.2 MB/s eta 0:00:05\n",
      "   ---------------------- ----------------- 6.3/11.1 MB 1.2 MB/s eta 0:00:05\n",
      "   ----------------------- ---------------- 6.6/11.1 MB 1.1 MB/s eta 0:00:04\n",
      "   ----------------------- ---------------- 6.6/11.1 MB 1.1 MB/s eta 0:00:04\n",
      "   ----------------------- ---------------- 6.6/11.1 MB 1.1 MB/s eta 0:00:04\n",
      "   ----------------------- ---------------- 6.6/11.1 MB 1.1 MB/s eta 0:00:04\n",
      "   ----------------------- ---------------- 6.6/11.1 MB 1.1 MB/s eta 0:00:04\n",
      "   ------------------------ --------------- 6.8/11.1 MB 996.3 kB/s eta 0:00:05\n",
      "   ------------------------ --------------- 6.8/11.1 MB 996.3 kB/s eta 0:00:05\n",
      "   ------------------------ --------------- 6.8/11.1 MB 996.3 kB/s eta 0:00:05\n",
      "   ------------------------- -------------- 7.1/11.1 MB 938.0 kB/s eta 0:00:05\n",
      "   ------------------------- -------------- 7.1/11.1 MB 938.0 kB/s eta 0:00:05\n",
      "   ------------------------- -------------- 7.1/11.1 MB 938.0 kB/s eta 0:00:05\n",
      "   -------------------------- ------------- 7.3/11.1 MB 905.9 kB/s eta 0:00:05\n",
      "   -------------------------- ------------- 7.3/11.1 MB 905.9 kB/s eta 0:00:05\n",
      "   --------------------------- ------------ 7.6/11.1 MB 886.3 kB/s eta 0:00:04\n",
      "   --------------------------- ------------ 7.6/11.1 MB 886.3 kB/s eta 0:00:04\n",
      "   ---------------------------- ----------- 7.9/11.1 MB 873.5 kB/s eta 0:00:04\n",
      "   ---------------------------- ----------- 7.9/11.1 MB 873.5 kB/s eta 0:00:04\n",
      "   ----------------------------- ---------- 8.1/11.1 MB 845.9 kB/s eta 0:00:04\n",
      "   ----------------------------- ---------- 8.1/11.1 MB 845.9 kB/s eta 0:00:04\n",
      "   ----------------------------- ---------- 8.1/11.1 MB 845.9 kB/s eta 0:00:04\n",
      "   ------------------------------ --------- 8.4/11.1 MB 821.6 kB/s eta 0:00:04\n",
      "   ------------------------------ --------- 8.4/11.1 MB 821.6 kB/s eta 0:00:04\n",
      "   ------------------------------ --------- 8.4/11.1 MB 821.6 kB/s eta 0:00:04\n",
      "   ------------------------------- -------- 8.7/11.1 MB 797.7 kB/s eta 0:00:04\n",
      "   ------------------------------- -------- 8.7/11.1 MB 797.7 kB/s eta 0:00:04\n",
      "   ------------------------------- -------- 8.7/11.1 MB 797.7 kB/s eta 0:00:04\n",
      "   -------------------------------- ------- 8.9/11.1 MB 776.5 kB/s eta 0:00:03\n",
      "   -------------------------------- ------- 8.9/11.1 MB 776.5 kB/s eta 0:00:03\n",
      "   -------------------------------- ------- 8.9/11.1 MB 776.5 kB/s eta 0:00:03\n",
      "   -------------------------------- ------- 9.2/11.1 MB 757.5 kB/s eta 0:00:03\n",
      "   -------------------------------- ------- 9.2/11.1 MB 757.5 kB/s eta 0:00:03\n",
      "   -------------------------------- ------- 9.2/11.1 MB 757.5 kB/s eta 0:00:03\n",
      "   --------------------------------- ------ 9.4/11.1 MB 740.5 kB/s eta 0:00:03\n",
      "   --------------------------------- ------ 9.4/11.1 MB 740.5 kB/s eta 0:00:03\n",
      "   ---------------------------------- ----- 9.7/11.1 MB 725.9 kB/s eta 0:00:02\n",
      "   ---------------------------------- ----- 9.7/11.1 MB 725.9 kB/s eta 0:00:02\n",
      "   ---------------------------------- ----- 9.7/11.1 MB 725.9 kB/s eta 0:00:02\n",
      "   ----------------------------------- ---- 10.0/11.1 MB 711.9 kB/s eta 0:00:02\n",
      "   ----------------------------------- ---- 10.0/11.1 MB 711.9 kB/s eta 0:00:02\n",
      "   ----------------------------------- ---- 10.0/11.1 MB 711.9 kB/s eta 0:00:02\n",
      "   ------------------------------------ --- 10.2/11.1 MB 699.0 kB/s eta 0:00:02\n",
      "   ------------------------------------ --- 10.2/11.1 MB 699.0 kB/s eta 0:00:02\n",
      "   ------------------------------------ --- 10.2/11.1 MB 699.0 kB/s eta 0:00:02\n",
      "   ------------------------------------- -- 10.5/11.1 MB 681.6 kB/s eta 0:00:01\n",
      "   ------------------------------------- -- 10.5/11.1 MB 681.6 kB/s eta 0:00:01\n",
      "   ------------------------------------- -- 10.5/11.1 MB 681.6 kB/s eta 0:00:01\n",
      "   -------------------------------------- - 10.7/11.1 MB 669.7 kB/s eta 0:00:01\n",
      "   -------------------------------------- - 10.7/11.1 MB 669.7 kB/s eta 0:00:01\n",
      "   -------------------------------------- - 10.7/11.1 MB 669.7 kB/s eta 0:00:01\n",
      "   ---------------------------------------  11.0/11.1 MB 660.8 kB/s eta 0:00:01\n",
      "   ---------------------------------------  11.0/11.1 MB 660.8 kB/s eta 0:00:01\n",
      "   ---------------------------------------  11.0/11.1 MB 660.8 kB/s eta 0:00:01\n",
      "   ---------------------------------------- 11.1/11.1 MB 647.2 kB/s eta 0:00:00\n",
      "Using cached joblib-1.4.2-py3-none-any.whl (301 kB)\n",
      "Downloading scipy-1.14.1-cp311-cp311-win_amd64.whl (44.8 MB)\n",
      "   ---------------------------------------- 0.0/44.8 MB ? eta -:--:--\n",
      "   ---------------------------------------- 0.0/44.8 MB ? eta -:--:--\n",
      "   ---------------------------------------- 0.0/44.8 MB ? eta -:--:--\n",
      "   ---------------------------------------- 0.0/44.8 MB ? eta -:--:--\n",
      "   ---------------------------------------- 0.3/44.8 MB ? eta -:--:--\n",
      "   ---------------------------------------- 0.3/44.8 MB ? eta -:--:--\n",
      "   ---------------------------------------- 0.3/44.8 MB ? eta -:--:--\n",
      "   ---------------------------------------- 0.5/44.8 MB 381.6 kB/s eta 0:01:56\n",
      "   ---------------------------------------- 0.5/44.8 MB 381.6 kB/s eta 0:01:56\n",
      "    --------------------------------------- 0.8/44.8 MB 409.3 kB/s eta 0:01:48\n",
      "    --------------------------------------- 0.8/44.8 MB 409.3 kB/s eta 0:01:48\n",
      "    --------------------------------------- 0.8/44.8 MB 409.3 kB/s eta 0:01:48\n",
      "    --------------------------------------- 0.8/44.8 MB 409.3 kB/s eta 0:01:48\n",
      "    --------------------------------------- 1.0/44.8 MB 399.6 kB/s eta 0:01:50\n",
      "    --------------------------------------- 1.0/44.8 MB 399.6 kB/s eta 0:01:50\n",
      "    --------------------------------------- 1.0/44.8 MB 399.6 kB/s eta 0:01:50\n",
      "   - -------------------------------------- 1.3/44.8 MB 399.5 kB/s eta 0:01:49\n",
      "   - -------------------------------------- 1.3/44.8 MB 399.5 kB/s eta 0:01:49\n",
      "   - -------------------------------------- 1.6/44.8 MB 405.3 kB/s eta 0:01:47\n",
      "   - -------------------------------------- 1.6/44.8 MB 405.3 kB/s eta 0:01:47\n",
      "   - -------------------------------------- 1.6/44.8 MB 405.3 kB/s eta 0:01:47\n",
      "   - -------------------------------------- 1.6/44.8 MB 405.3 kB/s eta 0:01:47\n",
      "   - -------------------------------------- 1.8/44.8 MB 401.1 kB/s eta 0:01:48\n",
      "   - -------------------------------------- 1.8/44.8 MB 401.1 kB/s eta 0:01:48\n",
      "   - -------------------------------------- 2.1/44.8 MB 403.7 kB/s eta 0:01:46\n",
      "   - -------------------------------------- 2.1/44.8 MB 403.7 kB/s eta 0:01:46\n",
      "   - -------------------------------------- 2.1/44.8 MB 403.7 kB/s eta 0:01:46\n",
      "   - -------------------------------------- 2.1/44.8 MB 403.7 kB/s eta 0:01:46\n",
      "   -- ------------------------------------- 2.4/44.8 MB 400.7 kB/s eta 0:01:46\n",
      "   -- ------------------------------------- 2.4/44.8 MB 400.7 kB/s eta 0:01:46\n",
      "   -- ------------------------------------- 2.4/44.8 MB 400.7 kB/s eta 0:01:46\n",
      "   -- ------------------------------------- 2.6/44.8 MB 401.6 kB/s eta 0:01:45\n",
      "   -- ------------------------------------- 2.6/44.8 MB 401.6 kB/s eta 0:01:45\n",
      "   -- ------------------------------------- 2.9/44.8 MB 404.3 kB/s eta 0:01:44\n",
      "   -- ------------------------------------- 2.9/44.8 MB 404.3 kB/s eta 0:01:44\n",
      "   -- ------------------------------------- 2.9/44.8 MB 404.3 kB/s eta 0:01:44\n",
      "   -- ------------------------------------- 3.1/44.8 MB 405.6 kB/s eta 0:01:43\n",
      "   -- ------------------------------------- 3.1/44.8 MB 405.6 kB/s eta 0:01:43\n",
      "   -- ------------------------------------- 3.1/44.8 MB 405.6 kB/s eta 0:01:43\n",
      "   --- ------------------------------------ 3.4/44.8 MB 405.1 kB/s eta 0:01:43\n",
      "   --- ------------------------------------ 3.4/44.8 MB 405.1 kB/s eta 0:01:43\n",
      "   --- ------------------------------------ 3.4/44.8 MB 405.1 kB/s eta 0:01:43\n",
      "   --- ------------------------------------ 3.7/44.8 MB 406.2 kB/s eta 0:01:42\n",
      "   --- ------------------------------------ 3.7/44.8 MB 406.2 kB/s eta 0:01:42\n",
      "   --- ------------------------------------ 3.7/44.8 MB 406.2 kB/s eta 0:01:42\n",
      "   --- ------------------------------------ 3.9/44.8 MB 407.8 kB/s eta 0:01:41\n",
      "   --- ------------------------------------ 3.9/44.8 MB 407.8 kB/s eta 0:01:41\n",
      "   --- ------------------------------------ 3.9/44.8 MB 407.8 kB/s eta 0:01:41\n",
      "   --- ------------------------------------ 4.2/44.8 MB 407.9 kB/s eta 0:01:40\n",
      "   --- ------------------------------------ 4.2/44.8 MB 407.9 kB/s eta 0:01:40\n",
      "   --- ------------------------------------ 4.2/44.8 MB 407.9 kB/s eta 0:01:40\n",
      "   --- ------------------------------------ 4.5/44.8 MB 408.6 kB/s eta 0:01:39\n",
      "   --- ------------------------------------ 4.5/44.8 MB 408.6 kB/s eta 0:01:39\n",
      "   --- ------------------------------------ 4.5/44.8 MB 408.6 kB/s eta 0:01:39\n",
      "   ---- ----------------------------------- 4.7/44.8 MB 409.2 kB/s eta 0:01:38\n",
      "   ---- ----------------------------------- 4.7/44.8 MB 409.2 kB/s eta 0:01:38\n",
      "   ---- ----------------------------------- 4.7/44.8 MB 409.2 kB/s eta 0:01:38\n",
      "   ---- ----------------------------------- 5.0/44.8 MB 409.2 kB/s eta 0:01:38\n",
      "   ---- ----------------------------------- 5.0/44.8 MB 409.2 kB/s eta 0:01:38\n",
      "   ---- ----------------------------------- 5.2/44.8 MB 414.5 kB/s eta 0:01:36\n",
      "   ---- ----------------------------------- 5.2/44.8 MB 414.5 kB/s eta 0:01:36\n",
      "   ---- ----------------------------------- 5.5/44.8 MB 419.4 kB/s eta 0:01:34\n",
      "   ---- ----------------------------------- 5.5/44.8 MB 419.4 kB/s eta 0:01:34\n",
      "   ---- ----------------------------------- 5.5/44.8 MB 419.4 kB/s eta 0:01:34\n",
      "   ----- ---------------------------------- 5.8/44.8 MB 422.5 kB/s eta 0:01:33\n",
      "   ----- ---------------------------------- 5.8/44.8 MB 422.5 kB/s eta 0:01:33\n",
      "   ----- ---------------------------------- 6.0/44.8 MB 427.7 kB/s eta 0:01:31\n",
      "   ----- ---------------------------------- 6.0/44.8 MB 427.7 kB/s eta 0:01:31\n",
      "   ----- ---------------------------------- 6.3/44.8 MB 432.6 kB/s eta 0:01:29\n",
      "   ----- ---------------------------------- 6.3/44.8 MB 432.6 kB/s eta 0:01:29\n",
      "   ----- ---------------------------------- 6.6/44.8 MB 436.3 kB/s eta 0:01:28\n",
      "   ----- ---------------------------------- 6.6/44.8 MB 436.3 kB/s eta 0:01:28\n",
      "   ------ --------------------------------- 6.8/44.8 MB 439.7 kB/s eta 0:01:27\n",
      "   ------ --------------------------------- 6.8/44.8 MB 439.7 kB/s eta 0:01:27\n",
      "   ------ --------------------------------- 7.1/44.8 MB 442.9 kB/s eta 0:01:26\n",
      "   ------ --------------------------------- 7.1/44.8 MB 442.9 kB/s eta 0:01:26\n",
      "   ------ --------------------------------- 7.1/44.8 MB 442.9 kB/s eta 0:01:26\n",
      "   ------ --------------------------------- 7.3/44.8 MB 446.3 kB/s eta 0:01:24\n",
      "   ------ --------------------------------- 7.3/44.8 MB 446.3 kB/s eta 0:01:24\n",
      "   ------ --------------------------------- 7.6/44.8 MB 448.7 kB/s eta 0:01:23\n",
      "   ------ --------------------------------- 7.6/44.8 MB 448.7 kB/s eta 0:01:23\n",
      "   ------- -------------------------------- 7.9/44.8 MB 451.8 kB/s eta 0:01:22\n",
      "   ------- -------------------------------- 7.9/44.8 MB 451.8 kB/s eta 0:01:22\n",
      "   ------- -------------------------------- 7.9/44.8 MB 451.8 kB/s eta 0:01:22\n",
      "   ------- -------------------------------- 8.1/44.8 MB 453.5 kB/s eta 0:01:21\n",
      "   ------- -------------------------------- 8.1/44.8 MB 453.5 kB/s eta 0:01:21\n",
      "   ------- -------------------------------- 8.4/44.8 MB 456.6 kB/s eta 0:01:20\n",
      "   ------- -------------------------------- 8.4/44.8 MB 456.6 kB/s eta 0:01:20\n",
      "   ------- -------------------------------- 8.7/44.8 MB 458.5 kB/s eta 0:01:19\n",
      "   ------- -------------------------------- 8.7/44.8 MB 458.5 kB/s eta 0:01:19\n",
      "   ------- -------------------------------- 8.9/44.8 MB 461.0 kB/s eta 0:01:18\n",
      "   ------- -------------------------------- 8.9/44.8 MB 461.0 kB/s eta 0:01:18\n",
      "   ------- -------------------------------- 8.9/44.8 MB 461.0 kB/s eta 0:01:18\n",
      "   -------- ------------------------------- 9.2/44.8 MB 459.3 kB/s eta 0:01:18\n",
      "   -------- ------------------------------- 9.2/44.8 MB 459.3 kB/s eta 0:01:18\n",
      "   -------- ------------------------------- 9.4/44.8 MB 462.4 kB/s eta 0:01:17\n",
      "   -------- ------------------------------- 9.4/44.8 MB 462.4 kB/s eta 0:01:17\n",
      "   -------- ------------------------------- 9.7/44.8 MB 464.2 kB/s eta 0:01:16\n",
      "   -------- ------------------------------- 9.7/44.8 MB 464.2 kB/s eta 0:01:16\n",
      "   -------- ------------------------------- 9.7/44.8 MB 464.2 kB/s eta 0:01:16\n",
      "   -------- ------------------------------- 10.0/44.8 MB 466.0 kB/s eta 0:01:15\n",
      "   -------- ------------------------------- 10.0/44.8 MB 466.0 kB/s eta 0:01:15\n",
      "   --------- ------------------------------ 10.2/44.8 MB 467.8 kB/s eta 0:01:14\n",
      "   --------- ------------------------------ 10.2/44.8 MB 467.8 kB/s eta 0:01:14\n",
      "   --------- ------------------------------ 10.5/44.8 MB 469.7 kB/s eta 0:01:14\n",
      "   --------- ------------------------------ 10.5/44.8 MB 469.7 kB/s eta 0:01:14\n",
      "   --------- ------------------------------ 10.7/44.8 MB 471.3 kB/s eta 0:01:13\n",
      "   --------- ------------------------------ 10.7/44.8 MB 471.3 kB/s eta 0:01:13\n",
      "   --------- ------------------------------ 10.7/44.8 MB 471.3 kB/s eta 0:01:13\n",
      "   --------- ------------------------------ 11.0/44.8 MB 469.5 kB/s eta 0:01:12\n",
      "   --------- ------------------------------ 11.0/44.8 MB 469.5 kB/s eta 0:01:12\n",
      "   ---------- ----------------------------- 11.3/44.8 MB 473.9 kB/s eta 0:01:11\n",
      "   ---------- ----------------------------- 11.3/44.8 MB 473.9 kB/s eta 0:01:11\n",
      "   ---------- ----------------------------- 11.5/44.8 MB 475.3 kB/s eta 0:01:10\n",
      "   ---------- ----------------------------- 11.5/44.8 MB 475.3 kB/s eta 0:01:10\n",
      "   ---------- ----------------------------- 11.8/44.8 MB 476.6 kB/s eta 0:01:10\n",
      "   ---------- ----------------------------- 11.8/44.8 MB 476.6 kB/s eta 0:01:10\n",
      "   ---------- ----------------------------- 11.8/44.8 MB 476.6 kB/s eta 0:01:10\n",
      "   ---------- ----------------------------- 12.1/44.8 MB 476.9 kB/s eta 0:01:09\n",
      "   ---------- ----------------------------- 12.1/44.8 MB 476.9 kB/s eta 0:01:09\n",
      "   ----------- ---------------------------- 12.3/44.8 MB 477.0 kB/s eta 0:01:09\n",
      "   ----------- ---------------------------- 12.3/44.8 MB 477.0 kB/s eta 0:01:09\n",
      "   ----------- ---------------------------- 12.6/44.8 MB 478.2 kB/s eta 0:01:08\n",
      "   ----------- ---------------------------- 12.6/44.8 MB 478.2 kB/s eta 0:01:08\n",
      "   ----------- ---------------------------- 12.6/44.8 MB 478.2 kB/s eta 0:01:08\n",
      "   ----------- ---------------------------- 12.8/44.8 MB 479.3 kB/s eta 0:01:07\n",
      "   ----------- ---------------------------- 12.8/44.8 MB 479.3 kB/s eta 0:01:07\n",
      "   ----------- ---------------------------- 13.1/44.8 MB 480.8 kB/s eta 0:01:06\n",
      "   ----------- ---------------------------- 13.1/44.8 MB 480.8 kB/s eta 0:01:06\n",
      "   ----------- ---------------------------- 13.4/44.8 MB 482.1 kB/s eta 0:01:06\n",
      "   ----------- ---------------------------- 13.4/44.8 MB 482.1 kB/s eta 0:01:06\n",
      "   ------------ --------------------------- 13.6/44.8 MB 483.2 kB/s eta 0:01:05\n",
      "   ------------ --------------------------- 13.6/44.8 MB 483.2 kB/s eta 0:01:05\n",
      "   ------------ --------------------------- 13.9/44.8 MB 483.9 kB/s eta 0:01:04\n",
      "   ------------ --------------------------- 13.9/44.8 MB 483.9 kB/s eta 0:01:04\n",
      "   ------------ --------------------------- 13.9/44.8 MB 483.9 kB/s eta 0:01:04\n",
      "   ------------ --------------------------- 14.2/44.8 MB 485.1 kB/s eta 0:01:04\n",
      "   ------------ --------------------------- 14.2/44.8 MB 485.1 kB/s eta 0:01:04\n",
      "   ------------ --------------------------- 14.4/44.8 MB 486.0 kB/s eta 0:01:03\n",
      "   ------------ --------------------------- 14.4/44.8 MB 486.0 kB/s eta 0:01:03\n",
      "   ------------- -------------------------- 14.7/44.8 MB 486.9 kB/s eta 0:01:02\n",
      "   ------------- -------------------------- 14.7/44.8 MB 486.9 kB/s eta 0:01:02\n",
      "   ------------- -------------------------- 14.9/44.8 MB 490.0 kB/s eta 0:01:01\n",
      "   ------------- -------------------------- 14.9/44.8 MB 490.0 kB/s eta 0:01:01\n",
      "   ------------- -------------------------- 14.9/44.8 MB 490.0 kB/s eta 0:01:01\n",
      "   ------------- -------------------------- 15.2/44.8 MB 491.4 kB/s eta 0:01:01\n",
      "   ------------- -------------------------- 15.2/44.8 MB 491.4 kB/s eta 0:01:01\n",
      "   ------------- -------------------------- 15.5/44.8 MB 493.2 kB/s eta 0:01:00\n",
      "   ------------- -------------------------- 15.5/44.8 MB 493.2 kB/s eta 0:01:00\n",
      "   -------------- ------------------------- 15.7/44.8 MB 496.6 kB/s eta 0:00:59\n",
      "   -------------- ------------------------- 15.7/44.8 MB 496.6 kB/s eta 0:00:59\n",
      "   -------------- ------------------------- 16.0/44.8 MB 499.7 kB/s eta 0:00:58\n",
      "   -------------- ------------------------- 16.0/44.8 MB 499.7 kB/s eta 0:00:58\n",
      "   -------------- ------------------------- 16.3/44.8 MB 500.2 kB/s eta 0:00:58\n",
      "   -------------- ------------------------- 16.3/44.8 MB 500.2 kB/s eta 0:00:58\n",
      "   -------------- ------------------------- 16.3/44.8 MB 500.2 kB/s eta 0:00:58\n",
      "   -------------- ------------------------- 16.5/44.8 MB 502.5 kB/s eta 0:00:57\n",
      "   -------------- ------------------------- 16.5/44.8 MB 502.5 kB/s eta 0:00:57\n",
      "   -------------- ------------------------- 16.8/44.8 MB 505.7 kB/s eta 0:00:56\n",
      "   -------------- ------------------------- 16.8/44.8 MB 505.7 kB/s eta 0:00:56\n",
      "   --------------- ------------------------ 17.0/44.8 MB 508.4 kB/s eta 0:00:55\n",
      "   --------------- ------------------------ 17.0/44.8 MB 508.4 kB/s eta 0:00:55\n",
      "   --------------- ------------------------ 17.3/44.8 MB 509.2 kB/s eta 0:00:54\n",
      "   --------------- ------------------------ 17.3/44.8 MB 509.2 kB/s eta 0:00:54\n",
      "   --------------- ------------------------ 17.3/44.8 MB 509.2 kB/s eta 0:00:54\n",
      "   --------------- ------------------------ 17.6/44.8 MB 512.4 kB/s eta 0:00:54\n",
      "   --------------- ------------------------ 17.6/44.8 MB 512.4 kB/s eta 0:00:54\n",
      "   --------------- ------------------------ 17.8/44.8 MB 515.1 kB/s eta 0:00:53\n",
      "   --------------- ------------------------ 17.8/44.8 MB 515.1 kB/s eta 0:00:53\n",
      "   ---------------- ----------------------- 18.1/44.8 MB 517.0 kB/s eta 0:00:52\n",
      "   ---------------- ----------------------- 18.1/44.8 MB 517.0 kB/s eta 0:00:52\n",
      "   ---------------- ----------------------- 18.4/44.8 MB 517.7 kB/s eta 0:00:52\n",
      "   ---------------- ----------------------- 18.4/44.8 MB 517.7 kB/s eta 0:00:52\n",
      "   ---------------- ----------------------- 18.4/44.8 MB 517.7 kB/s eta 0:00:52\n",
      "   ---------------- ----------------------- 18.6/44.8 MB 520.2 kB/s eta 0:00:51\n",
      "   ---------------- ----------------------- 18.6/44.8 MB 520.2 kB/s eta 0:00:51\n",
      "   ---------------- ----------------------- 18.9/44.8 MB 523.5 kB/s eta 0:00:50\n",
      "   ---------------- ----------------------- 18.9/44.8 MB 523.5 kB/s eta 0:00:50\n",
      "   ----------------- ---------------------- 19.1/44.8 MB 525.7 kB/s eta 0:00:49\n",
      "   ----------------- ---------------------- 19.1/44.8 MB 525.7 kB/s eta 0:00:49\n",
      "   ----------------- ---------------------- 19.4/44.8 MB 526.2 kB/s eta 0:00:49\n",
      "   ----------------- ---------------------- 19.4/44.8 MB 526.2 kB/s eta 0:00:49\n",
      "   ----------------- ---------------------- 19.4/44.8 MB 526.2 kB/s eta 0:00:49\n",
      "   ----------------- ---------------------- 19.7/44.8 MB 527.9 kB/s eta 0:00:48\n",
      "   ----------------- ---------------------- 19.7/44.8 MB 527.9 kB/s eta 0:00:48\n",
      "   ----------------- ---------------------- 19.9/44.8 MB 531.8 kB/s eta 0:00:47\n",
      "   ----------------- ---------------------- 19.9/44.8 MB 531.8 kB/s eta 0:00:47\n",
      "   ------------------ --------------------- 20.2/44.8 MB 534.6 kB/s eta 0:00:47\n",
      "   ------------------ --------------------- 20.2/44.8 MB 534.6 kB/s eta 0:00:47\n",
      "   ------------------ --------------------- 20.4/44.8 MB 536.4 kB/s eta 0:00:46\n",
      "   ------------------ --------------------- 20.7/44.8 MB 541.5 kB/s eta 0:00:45\n",
      "   ------------------ --------------------- 20.7/44.8 MB 541.5 kB/s eta 0:00:45\n",
      "   ------------------ --------------------- 21.0/44.8 MB 543.2 kB/s eta 0:00:44\n",
      "   ------------------ --------------------- 21.0/44.8 MB 543.2 kB/s eta 0:00:44\n",
      "   ------------------ --------------------- 21.2/44.8 MB 548.3 kB/s eta 0:00:43\n",
      "   ------------------- -------------------- 21.5/44.8 MB 550.1 kB/s eta 0:00:43\n",
      "   ------------------- -------------------- 21.5/44.8 MB 550.1 kB/s eta 0:00:43\n",
      "   ------------------- -------------------- 21.8/44.8 MB 552.5 kB/s eta 0:00:42\n",
      "   ------------------- -------------------- 21.8/44.8 MB 552.5 kB/s eta 0:00:42\n",
      "   ------------------- -------------------- 22.0/44.8 MB 554.0 kB/s eta 0:00:42\n",
      "   ------------------- -------------------- 22.3/44.8 MB 557.2 kB/s eta 0:00:41\n",
      "   ------------------- -------------------- 22.3/44.8 MB 557.2 kB/s eta 0:00:41\n",
      "   -------------------- ------------------- 22.5/44.8 MB 559.5 kB/s eta 0:00:40\n",
      "   -------------------- ------------------- 22.5/44.8 MB 559.5 kB/s eta 0:00:40\n",
      "   -------------------- ------------------- 22.8/44.8 MB 558.1 kB/s eta 0:00:40\n",
      "   -------------------- ------------------- 22.8/44.8 MB 558.1 kB/s eta 0:00:40\n",
      "   -------------------- ------------------- 23.1/44.8 MB 558.9 kB/s eta 0:00:39\n",
      "   -------------------- ------------------- 23.1/44.8 MB 558.9 kB/s eta 0:00:39\n",
      "   -------------------- ------------------- 23.3/44.8 MB 562.2 kB/s eta 0:00:39\n",
      "   -------------------- ------------------- 23.3/44.8 MB 562.2 kB/s eta 0:00:39\n",
      "   --------------------- ------------------ 23.6/44.8 MB 564.2 kB/s eta 0:00:38\n",
      "   --------------------- ------------------ 23.6/44.8 MB 564.2 kB/s eta 0:00:38\n",
      "   --------------------- ------------------ 23.9/44.8 MB 564.2 kB/s eta 0:00:38\n",
      "   --------------------- ------------------ 24.1/44.8 MB 568.0 kB/s eta 0:00:37\n",
      "   --------------------- ------------------ 24.1/44.8 MB 568.0 kB/s eta 0:00:37\n",
      "   --------------------- ------------------ 24.4/44.8 MB 569.8 kB/s eta 0:00:36\n",
      "   ---------------------- ----------------- 24.6/44.8 MB 572.2 kB/s eta 0:00:36\n",
      "   ---------------------- ----------------- 24.6/44.8 MB 572.2 kB/s eta 0:00:36\n",
      "   ---------------------- ----------------- 24.6/44.8 MB 572.2 kB/s eta 0:00:36\n",
      "   ---------------------- ----------------- 24.9/44.8 MB 570.1 kB/s eta 0:00:35\n",
      "   ---------------------- ----------------- 24.9/44.8 MB 570.1 kB/s eta 0:00:35\n",
      "   ---------------------- ----------------- 25.2/44.8 MB 573.7 kB/s eta 0:00:35\n",
      "   ---------------------- ----------------- 25.2/44.8 MB 573.7 kB/s eta 0:00:35\n",
      "   ---------------------- ----------------- 25.4/44.8 MB 573.0 kB/s eta 0:00:34\n",
      "   ---------------------- ----------------- 25.7/44.8 MB 576.7 kB/s eta 0:00:34\n",
      "   ---------------------- ----------------- 25.7/44.8 MB 576.7 kB/s eta 0:00:34\n",
      "   ----------------------- ---------------- 26.0/44.8 MB 578.5 kB/s eta 0:00:33\n",
      "   ----------------------- ---------------- 26.0/44.8 MB 578.5 kB/s eta 0:00:33\n",
      "   ----------------------- ---------------- 26.2/44.8 MB 580.3 kB/s eta 0:00:32\n",
      "   ----------------------- ---------------- 26.5/44.8 MB 585.6 kB/s eta 0:00:32\n",
      "   ----------------------- ---------------- 26.5/44.8 MB 585.6 kB/s eta 0:00:32\n",
      "   ----------------------- ---------------- 26.5/44.8 MB 585.6 kB/s eta 0:00:32\n",
      "   ----------------------- ---------------- 26.7/44.8 MB 581.9 kB/s eta 0:00:32\n",
      "   ----------------------- ---------------- 26.7/44.8 MB 581.9 kB/s eta 0:00:32\n",
      "   ------------------------ --------------- 27.0/44.8 MB 582.5 kB/s eta 0:00:31\n",
      "   ------------------------ --------------- 27.0/44.8 MB 582.5 kB/s eta 0:00:31\n",
      "   ------------------------ --------------- 27.0/44.8 MB 582.5 kB/s eta 0:00:31\n",
      "   ------------------------ --------------- 27.3/44.8 MB 579.1 kB/s eta 0:00:31\n",
      "   ------------------------ --------------- 27.3/44.8 MB 579.1 kB/s eta 0:00:31\n",
      "   ------------------------ --------------- 27.3/44.8 MB 579.1 kB/s eta 0:00:31\n",
      "   ------------------------ --------------- 27.3/44.8 MB 579.1 kB/s eta 0:00:31\n",
      "   ------------------------ --------------- 27.3/44.8 MB 579.1 kB/s eta 0:00:31\n",
      "   ------------------------ --------------- 27.3/44.8 MB 579.1 kB/s eta 0:00:31\n",
      "   ------------------------ --------------- 27.3/44.8 MB 579.1 kB/s eta 0:00:31\n",
      "   ------------------------ --------------- 27.5/44.8 MB 560.1 kB/s eta 0:00:31\n",
      "   ------------------------ --------------- 27.5/44.8 MB 560.1 kB/s eta 0:00:31\n",
      "   ------------------------ --------------- 27.5/44.8 MB 560.1 kB/s eta 0:00:31\n",
      "   ------------------------ --------------- 27.5/44.8 MB 560.1 kB/s eta 0:00:31\n",
      "   ------------------------ --------------- 27.5/44.8 MB 560.1 kB/s eta 0:00:31\n",
      "   ------------------------ --------------- 27.8/44.8 MB 551.9 kB/s eta 0:00:31\n",
      "   ------------------------ --------------- 27.8/44.8 MB 551.9 kB/s eta 0:00:31\n",
      "   ------------------------ --------------- 27.8/44.8 MB 551.9 kB/s eta 0:00:31\n",
      "   ------------------------ --------------- 27.8/44.8 MB 551.9 kB/s eta 0:00:31\n",
      "   ------------------------ --------------- 27.8/44.8 MB 551.9 kB/s eta 0:00:31\n",
      "   ------------------------- -------------- 28.0/44.8 MB 542.1 kB/s eta 0:00:31\n",
      "   ------------------------- -------------- 28.0/44.8 MB 542.1 kB/s eta 0:00:31\n",
      "   ------------------------- -------------- 28.0/44.8 MB 542.1 kB/s eta 0:00:31\n",
      "   ------------------------- -------------- 28.0/44.8 MB 542.1 kB/s eta 0:00:31\n",
      "   ------------------------- -------------- 28.0/44.8 MB 542.1 kB/s eta 0:00:31\n",
      "   ------------------------- -------------- 28.0/44.8 MB 542.1 kB/s eta 0:00:31\n",
      "   ------------------------- -------------- 28.3/44.8 MB 525.4 kB/s eta 0:00:32\n",
      "   ------------------------- -------------- 28.3/44.8 MB 525.4 kB/s eta 0:00:32\n",
      "   ------------------------- -------------- 28.3/44.8 MB 525.4 kB/s eta 0:00:32\n",
      "   ------------------------- -------------- 28.3/44.8 MB 525.4 kB/s eta 0:00:32\n",
      "   ------------------------- -------------- 28.3/44.8 MB 525.4 kB/s eta 0:00:32\n",
      "   ------------------------- -------------- 28.3/44.8 MB 525.4 kB/s eta 0:00:32\n",
      "   ------------------------- -------------- 28.3/44.8 MB 525.4 kB/s eta 0:00:32\n",
      "   ------------------------- -------------- 28.6/44.8 MB 507.1 kB/s eta 0:00:32\n",
      "   ------------------------- -------------- 28.6/44.8 MB 507.1 kB/s eta 0:00:32\n",
      "   ------------------------- -------------- 28.6/44.8 MB 507.1 kB/s eta 0:00:32\n",
      "   ------------------------- -------------- 28.6/44.8 MB 507.1 kB/s eta 0:00:32\n",
      "   ------------------------- -------------- 28.6/44.8 MB 507.1 kB/s eta 0:00:32\n",
      "   ------------------------- -------------- 28.6/44.8 MB 507.1 kB/s eta 0:00:32\n",
      "   ------------------------- -------------- 28.6/44.8 MB 507.1 kB/s eta 0:00:32\n",
      "   ------------------------- -------------- 28.8/44.8 MB 489.3 kB/s eta 0:00:33\n",
      "   ------------------------- -------------- 28.8/44.8 MB 489.3 kB/s eta 0:00:33\n",
      "   ------------------------- -------------- 28.8/44.8 MB 489.3 kB/s eta 0:00:33\n",
      "   ------------------------- -------------- 28.8/44.8 MB 489.3 kB/s eta 0:00:33\n",
      "   ------------------------- -------------- 28.8/44.8 MB 489.3 kB/s eta 0:00:33\n",
      "   ------------------------- -------------- 28.8/44.8 MB 489.3 kB/s eta 0:00:33\n",
      "   ------------------------- -------------- 28.8/44.8 MB 489.3 kB/s eta 0:00:33\n",
      "   ------------------------- -------------- 29.1/44.8 MB 470.0 kB/s eta 0:00:34\n",
      "   ------------------------- -------------- 29.1/44.8 MB 470.0 kB/s eta 0:00:34\n",
      "   ------------------------- -------------- 29.1/44.8 MB 470.0 kB/s eta 0:00:34\n",
      "   ------------------------- -------------- 29.1/44.8 MB 470.0 kB/s eta 0:00:34\n",
      "   ------------------------- -------------- 29.1/44.8 MB 470.0 kB/s eta 0:00:34\n",
      "   ------------------------- -------------- 29.1/44.8 MB 470.0 kB/s eta 0:00:34\n",
      "   ------------------------- -------------- 29.1/44.8 MB 470.0 kB/s eta 0:00:34\n",
      "   -------------------------- ------------- 29.4/44.8 MB 451.3 kB/s eta 0:00:35\n",
      "   -------------------------- ------------- 29.4/44.8 MB 451.3 kB/s eta 0:00:35\n",
      "   -------------------------- ------------- 29.4/44.8 MB 451.3 kB/s eta 0:00:35\n",
      "   -------------------------- ------------- 29.4/44.8 MB 451.3 kB/s eta 0:00:35\n",
      "   -------------------------- ------------- 29.4/44.8 MB 451.3 kB/s eta 0:00:35\n",
      "   -------------------------- ------------- 29.4/44.8 MB 451.3 kB/s eta 0:00:35\n",
      "   -------------------------- ------------- 29.6/44.8 MB 433.6 kB/s eta 0:00:35\n",
      "   -------------------------- ------------- 29.6/44.8 MB 433.6 kB/s eta 0:00:35\n",
      "   -------------------------- ------------- 29.6/44.8 MB 433.6 kB/s eta 0:00:35\n",
      "   -------------------------- ------------- 29.6/44.8 MB 433.6 kB/s eta 0:00:35\n",
      "   -------------------------- ------------- 29.6/44.8 MB 433.6 kB/s eta 0:00:35\n",
      "   -------------------------- ------------- 29.6/44.8 MB 433.6 kB/s eta 0:00:35\n",
      "   -------------------------- ------------- 29.6/44.8 MB 433.6 kB/s eta 0:00:35\n",
      "   -------------------------- ------------- 29.9/44.8 MB 415.2 kB/s eta 0:00:36\n",
      "   -------------------------- ------------- 29.9/44.8 MB 415.2 kB/s eta 0:00:36\n",
      "   -------------------------- ------------- 29.9/44.8 MB 415.2 kB/s eta 0:00:36\n",
      "   -------------------------- ------------- 29.9/44.8 MB 415.2 kB/s eta 0:00:36\n",
      "   -------------------------- ------------- 29.9/44.8 MB 415.2 kB/s eta 0:00:36\n",
      "   -------------------------- ------------- 29.9/44.8 MB 415.2 kB/s eta 0:00:36\n",
      "   -------------------------- ------------- 29.9/44.8 MB 415.2 kB/s eta 0:00:36\n",
      "   -------------------------- ------------- 30.1/44.8 MB 396.9 kB/s eta 0:00:37\n",
      "   -------------------------- ------------- 30.1/44.8 MB 396.9 kB/s eta 0:00:37\n",
      "   -------------------------- ------------- 30.1/44.8 MB 396.9 kB/s eta 0:00:37\n",
      "   -------------------------- ------------- 30.1/44.8 MB 396.9 kB/s eta 0:00:37\n",
      "   -------------------------- ------------- 30.1/44.8 MB 396.9 kB/s eta 0:00:37\n",
      "   -------------------------- ------------- 30.1/44.8 MB 396.9 kB/s eta 0:00:37\n",
      "   -------------------------- ------------- 30.1/44.8 MB 396.9 kB/s eta 0:00:37\n",
      "   --------------------------- ------------ 30.4/44.8 MB 378.5 kB/s eta 0:00:38\n",
      "   --------------------------- ------------ 30.4/44.8 MB 378.5 kB/s eta 0:00:38\n",
      "   --------------------------- ------------ 30.4/44.8 MB 378.5 kB/s eta 0:00:38\n",
      "   --------------------------- ------------ 30.4/44.8 MB 378.5 kB/s eta 0:00:38\n",
      "   --------------------------- ------------ 30.4/44.8 MB 378.5 kB/s eta 0:00:38\n",
      "   --------------------------- ------------ 30.4/44.8 MB 378.5 kB/s eta 0:00:38\n",
      "   --------------------------- ------------ 30.7/44.8 MB 361.3 kB/s eta 0:00:40\n",
      "   --------------------------- ------------ 30.7/44.8 MB 361.3 kB/s eta 0:00:40\n",
      "   --------------------------- ------------ 30.7/44.8 MB 361.3 kB/s eta 0:00:40\n",
      "   --------------------------- ------------ 30.7/44.8 MB 361.3 kB/s eta 0:00:40\n",
      "   --------------------------- ------------ 30.7/44.8 MB 361.3 kB/s eta 0:00:40\n",
      "   --------------------------- ------------ 30.9/44.8 MB 344.2 kB/s eta 0:00:41\n",
      "   --------------------------- ------------ 30.9/44.8 MB 344.2 kB/s eta 0:00:41\n",
      "   --------------------------- ------------ 30.9/44.8 MB 344.2 kB/s eta 0:00:41\n",
      "   --------------------------- ------------ 30.9/44.8 MB 344.2 kB/s eta 0:00:41\n",
      "   --------------------------- ------------ 30.9/44.8 MB 344.2 kB/s eta 0:00:41\n",
      "   --------------------------- ------------ 31.2/44.8 MB 326.7 kB/s eta 0:00:42\n",
      "   --------------------------- ------------ 31.2/44.8 MB 326.7 kB/s eta 0:00:42\n",
      "   --------------------------- ------------ 31.2/44.8 MB 326.7 kB/s eta 0:00:42\n",
      "   --------------------------- ------------ 31.2/44.8 MB 326.7 kB/s eta 0:00:42\n",
      "   --------------------------- ------------ 31.2/44.8 MB 326.7 kB/s eta 0:00:42\n",
      "   --------------------------- ------------ 31.2/44.8 MB 326.7 kB/s eta 0:00:42\n",
      "   ---------------------------- ----------- 31.5/44.8 MB 308.7 kB/s eta 0:00:44\n",
      "   ---------------------------- ----------- 31.5/44.8 MB 308.7 kB/s eta 0:00:44\n",
      "   ---------------------------- ----------- 31.5/44.8 MB 308.7 kB/s eta 0:00:44\n",
      "   ---------------------------- ----------- 31.5/44.8 MB 308.7 kB/s eta 0:00:44\n",
      "   ---------------------------- ----------- 31.5/44.8 MB 308.7 kB/s eta 0:00:44\n",
      "   ---------------------------- ----------- 31.5/44.8 MB 308.7 kB/s eta 0:00:44\n",
      "   ---------------------------- ----------- 31.7/44.8 MB 290.9 kB/s eta 0:00:45\n",
      "   ---------------------------- ----------- 31.7/44.8 MB 290.9 kB/s eta 0:00:45\n",
      "   ---------------------------- ----------- 31.7/44.8 MB 290.9 kB/s eta 0:00:45\n",
      "   ---------------------------- ----------- 31.7/44.8 MB 290.9 kB/s eta 0:00:45\n",
      "   ---------------------------- ----------- 31.7/44.8 MB 290.9 kB/s eta 0:00:45\n",
      "   ---------------------------- ----------- 32.0/44.8 MB 273.6 kB/s eta 0:00:47\n",
      "   ---------------------------- ----------- 32.0/44.8 MB 273.6 kB/s eta 0:00:47\n",
      "   ---------------------------- ----------- 32.0/44.8 MB 273.6 kB/s eta 0:00:47\n",
      "   ---------------------------- ----------- 32.0/44.8 MB 273.6 kB/s eta 0:00:47\n",
      "   ---------------------------- ----------- 32.0/44.8 MB 273.6 kB/s eta 0:00:47\n",
      "   ---------------------------- ----------- 32.2/44.8 MB 254.9 kB/s eta 0:00:50\n",
      "   ---------------------------- ----------- 32.2/44.8 MB 254.9 kB/s eta 0:00:50\n",
      "   ---------------------------- ----------- 32.2/44.8 MB 254.9 kB/s eta 0:00:50\n",
      "   ---------------------------- ----------- 32.2/44.8 MB 254.9 kB/s eta 0:00:50\n",
      "   ---------------------------- ----------- 32.2/44.8 MB 254.9 kB/s eta 0:00:50\n",
      "   ----------------------------- ---------- 32.5/44.8 MB 244.7 kB/s eta 0:00:51\n",
      "   ----------------------------- ---------- 32.5/44.8 MB 244.7 kB/s eta 0:00:51\n",
      "   ----------------------------- ---------- 32.5/44.8 MB 244.7 kB/s eta 0:00:51\n",
      "   ----------------------------- ---------- 32.5/44.8 MB 244.7 kB/s eta 0:00:51\n",
      "   ----------------------------- ---------- 32.5/44.8 MB 244.7 kB/s eta 0:00:51\n",
      "   ----------------------------- ---------- 32.5/44.8 MB 244.7 kB/s eta 0:00:51\n",
      "   ----------------------------- ---------- 32.8/44.8 MB 220.6 kB/s eta 0:00:55\n",
      "   ----------------------------- ---------- 32.8/44.8 MB 220.6 kB/s eta 0:00:55\n",
      "   ----------------------------- ---------- 32.8/44.8 MB 220.6 kB/s eta 0:00:55\n",
      "   ----------------------------- ---------- 32.8/44.8 MB 220.6 kB/s eta 0:00:55\n",
      "   ----------------------------- ---------- 32.8/44.8 MB 220.6 kB/s eta 0:00:55\n",
      "   ----------------------------- ---------- 33.0/44.8 MB 211.0 kB/s eta 0:00:56\n",
      "   ----------------------------- ---------- 33.0/44.8 MB 211.0 kB/s eta 0:00:56\n",
      "   ----------------------------- ---------- 33.0/44.8 MB 211.0 kB/s eta 0:00:56\n",
      "   ----------------------------- ---------- 33.0/44.8 MB 211.0 kB/s eta 0:00:56\n",
      "   ----------------------------- ---------- 33.0/44.8 MB 211.0 kB/s eta 0:00:56\n",
      "   ----------------------------- ---------- 33.3/44.8 MB 202.0 kB/s eta 0:00:57\n",
      "   ----------------------------- ---------- 33.3/44.8 MB 202.0 kB/s eta 0:00:57\n",
      "   ----------------------------- ---------- 33.3/44.8 MB 202.0 kB/s eta 0:00:57\n",
      "   ----------------------------- ---------- 33.3/44.8 MB 202.0 kB/s eta 0:00:57\n",
      "   ----------------------------- ---------- 33.3/44.8 MB 202.0 kB/s eta 0:00:57\n",
      "   ----------------------------- ---------- 33.6/44.8 MB 204.5 kB/s eta 0:00:55\n",
      "   ----------------------------- ---------- 33.6/44.8 MB 204.5 kB/s eta 0:00:55\n",
      "   ----------------------------- ---------- 33.6/44.8 MB 204.5 kB/s eta 0:00:55\n",
      "   ----------------------------- ---------- 33.6/44.8 MB 204.5 kB/s eta 0:00:55\n",
      "   ----------------------------- ---------- 33.6/44.8 MB 204.5 kB/s eta 0:00:55\n",
      "   ----------------------------- ---------- 33.6/44.8 MB 204.5 kB/s eta 0:00:55\n",
      "   ------------------------------ --------- 33.8/44.8 MB 202.9 kB/s eta 0:00:55\n",
      "   ------------------------------ --------- 33.8/44.8 MB 202.9 kB/s eta 0:00:55\n",
      "   ------------------------------ --------- 33.8/44.8 MB 202.9 kB/s eta 0:00:55\n",
      "   ------------------------------ --------- 33.8/44.8 MB 202.9 kB/s eta 0:00:55\n",
      "   ------------------------------ --------- 33.8/44.8 MB 202.9 kB/s eta 0:00:55\n",
      "   ------------------------------ --------- 34.1/44.8 MB 202.7 kB/s eta 0:00:53\n",
      "   ------------------------------ --------- 34.1/44.8 MB 202.7 kB/s eta 0:00:53\n",
      "   ------------------------------ --------- 34.1/44.8 MB 202.7 kB/s eta 0:00:53\n",
      "   ------------------------------ --------- 34.1/44.8 MB 202.7 kB/s eta 0:00:53\n",
      "   ------------------------------ --------- 34.1/44.8 MB 202.7 kB/s eta 0:00:53\n",
      "   ------------------------------ --------- 34.3/44.8 MB 204.9 kB/s eta 0:00:51\n",
      "   ------------------------------ --------- 34.3/44.8 MB 204.9 kB/s eta 0:00:51\n",
      "   ------------------------------ --------- 34.3/44.8 MB 204.9 kB/s eta 0:00:51\n",
      "   ------------------------------ --------- 34.3/44.8 MB 204.9 kB/s eta 0:00:51\n",
      "   ------------------------------ --------- 34.3/44.8 MB 204.9 kB/s eta 0:00:51\n",
      "   ------------------------------ --------- 34.6/44.8 MB 207.1 kB/s eta 0:00:50\n",
      "   ------------------------------ --------- 34.6/44.8 MB 207.1 kB/s eta 0:00:50\n",
      "   ------------------------------ --------- 34.6/44.8 MB 207.1 kB/s eta 0:00:50\n",
      "   ------------------------------ --------- 34.6/44.8 MB 207.1 kB/s eta 0:00:50\n",
      "   ------------------------------ --------- 34.6/44.8 MB 207.1 kB/s eta 0:00:50\n",
      "   ------------------------------ --------- 34.6/44.8 MB 207.1 kB/s eta 0:00:50\n",
      "   ------------------------------- -------- 34.9/44.8 MB 209.7 kB/s eta 0:00:48\n",
      "   ------------------------------- -------- 34.9/44.8 MB 209.7 kB/s eta 0:00:48\n",
      "   ------------------------------- -------- 34.9/44.8 MB 209.7 kB/s eta 0:00:48\n",
      "   ------------------------------- -------- 34.9/44.8 MB 209.7 kB/s eta 0:00:48\n",
      "   ------------------------------- -------- 35.1/44.8 MB 211.9 kB/s eta 0:00:46\n",
      "   ------------------------------- -------- 35.1/44.8 MB 211.9 kB/s eta 0:00:46\n",
      "   ------------------------------- -------- 35.1/44.8 MB 211.9 kB/s eta 0:00:46\n",
      "   ------------------------------- -------- 35.1/44.8 MB 211.9 kB/s eta 0:00:46\n",
      "   ------------------------------- -------- 35.4/44.8 MB 216.1 kB/s eta 0:00:44\n",
      "   ------------------------------- -------- 35.4/44.8 MB 216.1 kB/s eta 0:00:44\n",
      "   ------------------------------- -------- 35.4/44.8 MB 216.1 kB/s eta 0:00:44\n",
      "   ------------------------------- -------- 35.4/44.8 MB 216.1 kB/s eta 0:00:44\n",
      "   ------------------------------- -------- 35.7/44.8 MB 218.6 kB/s eta 0:00:42\n",
      "   ------------------------------- -------- 35.7/44.8 MB 218.6 kB/s eta 0:00:42\n",
      "   ------------------------------- -------- 35.7/44.8 MB 218.6 kB/s eta 0:00:42\n",
      "   ------------------------------- -------- 35.7/44.8 MB 218.6 kB/s eta 0:00:42\n",
      "   -------------------------------- ------- 35.9/44.8 MB 223.1 kB/s eta 0:00:40\n",
      "   -------------------------------- ------- 35.9/44.8 MB 223.1 kB/s eta 0:00:40\n",
      "   -------------------------------- ------- 35.9/44.8 MB 223.1 kB/s eta 0:00:40\n",
      "   -------------------------------- ------- 35.9/44.8 MB 223.1 kB/s eta 0:00:40\n",
      "   -------------------------------- ------- 36.2/44.8 MB 227.7 kB/s eta 0:00:38\n",
      "   -------------------------------- ------- 36.2/44.8 MB 227.7 kB/s eta 0:00:38\n",
      "   -------------------------------- ------- 36.2/44.8 MB 227.7 kB/s eta 0:00:38\n",
      "   -------------------------------- ------- 36.2/44.8 MB 227.7 kB/s eta 0:00:38\n",
      "   -------------------------------- ------- 36.4/44.8 MB 229.8 kB/s eta 0:00:37\n",
      "   -------------------------------- ------- 36.4/44.8 MB 229.8 kB/s eta 0:00:37\n",
      "   -------------------------------- ------- 36.4/44.8 MB 229.8 kB/s eta 0:00:37\n",
      "   -------------------------------- ------- 36.4/44.8 MB 229.8 kB/s eta 0:00:37\n",
      "   -------------------------------- ------- 36.7/44.8 MB 234.6 kB/s eta 0:00:35\n",
      "   -------------------------------- ------- 36.7/44.8 MB 234.6 kB/s eta 0:00:35\n",
      "   -------------------------------- ------- 36.7/44.8 MB 234.6 kB/s eta 0:00:35\n",
      "   -------------------------------- ------- 36.7/44.8 MB 234.6 kB/s eta 0:00:35\n",
      "   --------------------------------- ------ 37.0/44.8 MB 236.5 kB/s eta 0:00:34\n",
      "   --------------------------------- ------ 37.0/44.8 MB 236.5 kB/s eta 0:00:34\n",
      "   --------------------------------- ------ 37.0/44.8 MB 236.5 kB/s eta 0:00:34\n",
      "   --------------------------------- ------ 37.0/44.8 MB 236.5 kB/s eta 0:00:34\n",
      "   --------------------------------- ------ 37.0/44.8 MB 236.5 kB/s eta 0:00:34\n",
      "   --------------------------------- ------ 37.2/44.8 MB 241.1 kB/s eta 0:00:32\n",
      "   --------------------------------- ------ 37.2/44.8 MB 241.1 kB/s eta 0:00:32\n",
      "   --------------------------------- ------ 37.2/44.8 MB 241.1 kB/s eta 0:00:32\n",
      "   --------------------------------- ------ 37.2/44.8 MB 241.1 kB/s eta 0:00:32\n",
      "   --------------------------------- ------ 37.5/44.8 MB 246.6 kB/s eta 0:00:30\n",
      "   --------------------------------- ------ 37.5/44.8 MB 246.6 kB/s eta 0:00:30\n",
      "   --------------------------------- ------ 37.5/44.8 MB 246.6 kB/s eta 0:00:30\n",
      "   --------------------------------- ------ 37.5/44.8 MB 246.6 kB/s eta 0:00:30\n",
      "   --------------------------------- ------ 37.5/44.8 MB 246.6 kB/s eta 0:00:30\n",
      "   --------------------------------- ------ 37.7/44.8 MB 246.7 kB/s eta 0:00:29\n",
      "   --------------------------------- ------ 37.7/44.8 MB 246.7 kB/s eta 0:00:29\n",
      "   --------------------------------- ------ 37.7/44.8 MB 246.7 kB/s eta 0:00:29\n",
      "   --------------------------------- ------ 37.7/44.8 MB 246.7 kB/s eta 0:00:29\n",
      "   --------------------------------- ------ 38.0/44.8 MB 250.9 kB/s eta 0:00:27\n",
      "   --------------------------------- ------ 38.0/44.8 MB 250.9 kB/s eta 0:00:27\n",
      "   --------------------------------- ------ 38.0/44.8 MB 250.9 kB/s eta 0:00:27\n",
      "   --------------------------------- ------ 38.0/44.8 MB 250.9 kB/s eta 0:00:27\n",
      "   ---------------------------------- ----- 38.3/44.8 MB 252.7 kB/s eta 0:00:26\n",
      "   ---------------------------------- ----- 38.3/44.8 MB 252.7 kB/s eta 0:00:26\n",
      "   ---------------------------------- ----- 38.3/44.8 MB 252.7 kB/s eta 0:00:26\n",
      "   ---------------------------------- ----- 38.3/44.8 MB 252.7 kB/s eta 0:00:26\n",
      "   ---------------------------------- ----- 38.5/44.8 MB 254.2 kB/s eta 0:00:25\n",
      "   ---------------------------------- ----- 38.5/44.8 MB 254.2 kB/s eta 0:00:25\n",
      "   ---------------------------------- ----- 38.5/44.8 MB 254.2 kB/s eta 0:00:25\n",
      "   ---------------------------------- ----- 38.5/44.8 MB 254.2 kB/s eta 0:00:25\n",
      "   ---------------------------------- ----- 38.8/44.8 MB 256.8 kB/s eta 0:00:24\n",
      "   ---------------------------------- ----- 38.8/44.8 MB 256.8 kB/s eta 0:00:24\n",
      "   ---------------------------------- ----- 38.8/44.8 MB 256.8 kB/s eta 0:00:24\n",
      "   ---------------------------------- ----- 38.8/44.8 MB 256.8 kB/s eta 0:00:24\n",
      "   ---------------------------------- ----- 39.1/44.8 MB 258.7 kB/s eta 0:00:23\n",
      "   ---------------------------------- ----- 39.1/44.8 MB 258.7 kB/s eta 0:00:23\n",
      "   ---------------------------------- ----- 39.1/44.8 MB 258.7 kB/s eta 0:00:23\n",
      "   ---------------------------------- ----- 39.1/44.8 MB 258.7 kB/s eta 0:00:23\n",
      "   ----------------------------------- ---- 39.3/44.8 MB 262.6 kB/s eta 0:00:21\n",
      "   ----------------------------------- ---- 39.3/44.8 MB 262.6 kB/s eta 0:00:21\n",
      "   ----------------------------------- ---- 39.3/44.8 MB 262.6 kB/s eta 0:00:21\n",
      "   ----------------------------------- ---- 39.6/44.8 MB 265.9 kB/s eta 0:00:20\n",
      "   ----------------------------------- ---- 39.6/44.8 MB 265.9 kB/s eta 0:00:20\n",
      "   ----------------------------------- ---- 39.6/44.8 MB 265.9 kB/s eta 0:00:20\n",
      "   ----------------------------------- ---- 39.8/44.8 MB 269.9 kB/s eta 0:00:19\n",
      "   ----------------------------------- ---- 39.8/44.8 MB 269.9 kB/s eta 0:00:19\n",
      "   ----------------------------------- ---- 39.8/44.8 MB 269.9 kB/s eta 0:00:19\n",
      "   ----------------------------------- ---- 40.1/44.8 MB 272.7 kB/s eta 0:00:18\n",
      "   ----------------------------------- ---- 40.1/44.8 MB 272.7 kB/s eta 0:00:18\n",
      "   ----------------------------------- ---- 40.1/44.8 MB 272.7 kB/s eta 0:00:18\n",
      "   ------------------------------------ --- 40.4/44.8 MB 276.8 kB/s eta 0:00:16\n",
      "   ------------------------------------ --- 40.4/44.8 MB 276.8 kB/s eta 0:00:16\n",
      "   ------------------------------------ --- 40.4/44.8 MB 276.8 kB/s eta 0:00:16\n",
      "   ------------------------------------ --- 40.6/44.8 MB 280.8 kB/s eta 0:00:15\n",
      "   ------------------------------------ --- 40.6/44.8 MB 280.8 kB/s eta 0:00:15\n",
      "   ------------------------------------ --- 40.6/44.8 MB 280.8 kB/s eta 0:00:15\n",
      "   ------------------------------------ --- 40.9/44.8 MB 283.3 kB/s eta 0:00:14\n",
      "   ------------------------------------ --- 40.9/44.8 MB 283.3 kB/s eta 0:00:14\n",
      "   ------------------------------------ --- 40.9/44.8 MB 283.3 kB/s eta 0:00:14\n",
      "   ------------------------------------ --- 40.9/44.8 MB 283.3 kB/s eta 0:00:14\n",
      "   ------------------------------------ --- 41.2/44.8 MB 288.3 kB/s eta 0:00:13\n",
      "   ------------------------------------ --- 41.2/44.8 MB 288.3 kB/s eta 0:00:13\n",
      "   ------------------------------------ --- 41.2/44.8 MB 288.3 kB/s eta 0:00:13\n",
      "   ------------------------------------ --- 41.4/44.8 MB 290.3 kB/s eta 0:00:12\n",
      "   ------------------------------------ --- 41.4/44.8 MB 290.3 kB/s eta 0:00:12\n",
      "   ------------------------------------ --- 41.4/44.8 MB 290.3 kB/s eta 0:00:12\n",
      "   ------------------------------------- -- 41.7/44.8 MB 294.5 kB/s eta 0:00:11\n",
      "   ------------------------------------- -- 41.7/44.8 MB 294.5 kB/s eta 0:00:11\n",
      "   ------------------------------------- -- 41.7/44.8 MB 294.5 kB/s eta 0:00:11\n",
      "   ------------------------------------- -- 41.9/44.8 MB 297.2 kB/s eta 0:00:10\n",
      "   ------------------------------------- -- 41.9/44.8 MB 297.2 kB/s eta 0:00:10\n",
      "   ------------------------------------- -- 41.9/44.8 MB 297.2 kB/s eta 0:00:10\n",
      "   ------------------------------------- -- 42.2/44.8 MB 301.7 kB/s eta 0:00:09\n",
      "   ------------------------------------- -- 42.2/44.8 MB 301.7 kB/s eta 0:00:09\n",
      "   ------------------------------------- -- 42.2/44.8 MB 301.7 kB/s eta 0:00:09\n",
      "   ------------------------------------- -- 42.5/44.8 MB 306.0 kB/s eta 0:00:08\n",
      "   ------------------------------------- -- 42.5/44.8 MB 306.0 kB/s eta 0:00:08\n",
      "   ------------------------------------- -- 42.5/44.8 MB 306.0 kB/s eta 0:00:08\n",
      "   -------------------------------------- - 42.7/44.8 MB 308.1 kB/s eta 0:00:07\n",
      "   -------------------------------------- - 42.7/44.8 MB 308.1 kB/s eta 0:00:07\n",
      "   -------------------------------------- - 42.7/44.8 MB 308.1 kB/s eta 0:00:07\n",
      "   -------------------------------------- - 43.0/44.8 MB 313.7 kB/s eta 0:00:06\n",
      "   -------------------------------------- - 43.0/44.8 MB 313.7 kB/s eta 0:00:06\n",
      "   -------------------------------------- - 43.0/44.8 MB 313.7 kB/s eta 0:00:06\n",
      "   -------------------------------------- - 43.0/44.8 MB 313.7 kB/s eta 0:00:06\n",
      "   -------------------------------------- - 43.3/44.8 MB 315.4 kB/s eta 0:00:05\n",
      "   -------------------------------------- - 43.3/44.8 MB 315.4 kB/s eta 0:00:05\n",
      "   -------------------------------------- - 43.3/44.8 MB 315.4 kB/s eta 0:00:05\n",
      "   -------------------------------------- - 43.5/44.8 MB 319.9 kB/s eta 0:00:04\n",
      "   -------------------------------------- - 43.5/44.8 MB 319.9 kB/s eta 0:00:04\n",
      "   -------------------------------------- - 43.5/44.8 MB 319.9 kB/s eta 0:00:04\n",
      "   ---------------------------------------  43.8/44.8 MB 324.9 kB/s eta 0:00:04\n",
      "   ---------------------------------------  43.8/44.8 MB 324.9 kB/s eta 0:00:04\n",
      "   ---------------------------------------  43.8/44.8 MB 324.9 kB/s eta 0:00:04\n",
      "   ---------------------------------------  44.0/44.8 MB 326.5 kB/s eta 0:00:03\n",
      "   ---------------------------------------  44.0/44.8 MB 326.5 kB/s eta 0:00:03\n",
      "   ---------------------------------------  44.0/44.8 MB 326.5 kB/s eta 0:00:03\n",
      "   ---------------------------------------  44.3/44.8 MB 332.0 kB/s eta 0:00:02\n",
      "   ---------------------------------------  44.3/44.8 MB 332.0 kB/s eta 0:00:02\n",
      "   ---------------------------------------  44.3/44.8 MB 332.0 kB/s eta 0:00:02\n",
      "   ---------------------------------------  44.6/44.8 MB 332.9 kB/s eta 0:00:01\n",
      "   ---------------------------------------  44.6/44.8 MB 332.9 kB/s eta 0:00:01\n",
      "   ---------------------------------------  44.6/44.8 MB 332.9 kB/s eta 0:00:01\n",
      "   ---------------------------------------  44.6/44.8 MB 332.9 kB/s eta 0:00:01\n",
      "   ---------------------------------------  44.6/44.8 MB 332.9 kB/s eta 0:00:01\n",
      "   ---------------------------------------  44.6/44.8 MB 332.9 kB/s eta 0:00:01\n",
      "   ---------------------------------------- 44.8/44.8 MB 330.5 kB/s eta 0:00:00\n",
      "Using cached threadpoolctl-3.5.0-py3-none-any.whl (18 kB)\n",
      "Installing collected packages: threadpoolctl, scipy, joblib, scikit-learn\n",
      "Successfully installed joblib-1.4.2 scikit-learn-1.6.0 scipy-1.14.1 threadpoolctl-3.5.0\n"
     ]
    }
   ],
   "source": [
    "! pip install scikit-learn\n"
   ]
  },
  {
   "cell_type": "code",
   "execution_count": null,
   "id": "9731576e",
   "metadata": {
    "ExecuteTime": {
     "end_time": "2024-08-10T10:47:23.902482Z",
     "start_time": "2024-08-10T10:47:23.871235Z"
    }
   },
   "outputs": [],
   "source": [
    "from sklearn.linear_model import LinearRegression\n",
    "from sklearn.ensemble import RandomForestRegressor\n",
    "from sklearn.ensemble import GradientBoostingRegressor\n",
    "# from xgboost import xgboostRegressor\n",
    "from sklearn.model_selection import train_test_split\n",
    "from sklearn.metrics import mean_absolute_error,mean_squared_error,r2_score\n"
   ]
  },
  {
   "cell_type": "code",
   "execution_count": null,
   "id": "dfdb53cf",
   "metadata": {
    "ExecuteTime": {
     "end_time": "2024-08-10T10:47:25.740685Z",
     "start_time": "2024-08-10T10:47:25.631321Z"
    }
   },
   "outputs": [
    {
     "ename": "NameError",
     "evalue": "name 'x' is not defined",
     "output_type": "error",
     "traceback": [
      "\u001b[1;31m---------------------------------------------------------------------------\u001b[0m",
      "\u001b[1;31mNameError\u001b[0m                                 Traceback (most recent call last)",
      "Cell \u001b[1;32mIn[15], line 1\u001b[0m\n\u001b[1;32m----> 1\u001b[0m x_train,x_test,y_train,y_test \u001b[38;5;241m=\u001b[39m train_test_split(\u001b[43mx\u001b[49m,y,test_size\u001b[38;5;241m=\u001b[39m\u001b[38;5;241m0.2\u001b[39m)\n\u001b[0;32m      2\u001b[0m LR \u001b[38;5;241m=\u001b[39m LinearRegression()\n\u001b[0;32m      3\u001b[0m LR\u001b[38;5;241m.\u001b[39mfit(x_train,y_train)\n",
      "\u001b[1;31mNameError\u001b[0m: name 'x' is not defined"
     ]
    }
   ],
   "source": [
    "x_train,x_test,y_train,y_test = train_test_split(x,y,test_size=0.2)\n",
    "LR = LinearRegression()\n",
    "LR.fit(x_train,y_train)\n",
    "pred1 = LR.predict(x_test)\n"
   ]
  },
  {
   "cell_type": "code",
   "execution_count": null,
   "id": "d7d706c3",
   "metadata": {
    "ExecuteTime": {
     "end_time": "2024-08-10T10:47:27.830549Z",
     "start_time": "2024-08-10T10:47:27.455513Z"
    }
   },
   "outputs": [
    {
     "ename": "NameError",
     "evalue": "name 'x_train' is not defined",
     "output_type": "error",
     "traceback": [
      "\u001b[1;31m---------------------------------------------------------------------------\u001b[0m",
      "\u001b[1;31mNameError\u001b[0m                                 Traceback (most recent call last)",
      "Cell \u001b[1;32mIn[14], line 2\u001b[0m\n\u001b[0;32m      1\u001b[0m RF \u001b[38;5;241m=\u001b[39mRandomForestRegressor()\n\u001b[1;32m----> 2\u001b[0m RF\u001b[38;5;241m.\u001b[39mfit(\u001b[43mx_train\u001b[49m,y_train)\n\u001b[0;32m      3\u001b[0m pred2\u001b[38;5;241m=\u001b[39m RF\u001b[38;5;241m.\u001b[39mpredict(x_test)\n",
      "\u001b[1;31mNameError\u001b[0m: name 'x_train' is not defined"
     ]
    }
   ],
   "source": [
    "RF =RandomForestRegressor()\n",
    "RF.fit(x_train,y_train)\n",
    "pred2= RF.predict(x_test)\n"
   ]
  },
  {
   "cell_type": "code",
   "execution_count": null,
   "id": "7ffc7460",
   "metadata": {
    "ExecuteTime": {
     "end_time": "2024-08-10T10:47:31.948540Z",
     "start_time": "2024-08-10T10:47:31.822142Z"
    }
   },
   "outputs": [],
   "source": [
    "GBR =GradientBoostingRegressor()\n",
    "GBR.fit(x_train,y_train)\n",
    "pred3 = GBR.predict(x_test)"
   ]
  },
  {
   "cell_type": "markdown",
   "id": "8bc688cd",
   "metadata": {},
   "source": [
    "<h3>Testing the Accuracy of the models</h3>"
   ]
  },
  {
   "cell_type": "code",
   "execution_count": null,
   "id": "ad2038f1",
   "metadata": {
    "ExecuteTime": {
     "end_time": "2024-08-10T10:47:39.514949Z",
     "start_time": "2024-08-10T10:47:39.483723Z"
    }
   },
   "outputs": [
    {
     "name": "stdout",
     "output_type": "stream",
     "text": [
      "LR_mae: 229116.20913242592\n",
      "LR_mse: 157952551141.9435\n"
     ]
    }
   ],
   "source": [
    "# linearRegression model\n",
    "mae = mean_absolute_error(y_test,pred1)\n",
    "print('LR_mae:',mae)\n",
    "mse = mean_squared_error(y_test,pred1)\n",
    "print('LR_mse:',mse)\n"
   ]
  },
  {
   "cell_type": "code",
   "execution_count": null,
   "id": "4a7bd6a9",
   "metadata": {
    "ExecuteTime": {
     "end_time": "2024-08-10T10:47:40.577375Z",
     "start_time": "2024-08-10T10:47:40.546128Z"
    }
   },
   "outputs": [
    {
     "name": "stdout",
     "output_type": "stream",
     "text": [
      "RF_mae: 67399.57841837851\n",
      "RF_mse: 120316413294.55983\n"
     ]
    }
   ],
   "source": [
    "# RandomForestRegressor()\n",
    "mae = mean_absolute_error(y_test,pred2)\n",
    "print('RF_mae:',mae)\n",
    "mse = mean_squared_error(y_test,pred2)\n",
    "print('RF_mse:',mse)\n"
   ]
  },
  {
   "cell_type": "code",
   "execution_count": null,
   "id": "1b2058ba",
   "metadata": {
    "ExecuteTime": {
     "end_time": "2024-08-10T10:47:41.904712Z",
     "start_time": "2024-08-10T10:47:41.889071Z"
    }
   },
   "outputs": [
    {
     "name": "stdout",
     "output_type": "stream",
     "text": [
      "GBR_mae: 81965.84524193812\n",
      "GBR_mse: 134630359742.53455\n"
     ]
    }
   ],
   "source": [
    "# GradientBoostingRegressor()\n",
    "mae = mean_absolute_error(y_test,pred3)\n",
    "print('GBR_mae:',mae)\n",
    "mse = mean_squared_error(y_test,pred3)\n",
    "print('GBR_mse:',mse)\n",
    "\n"
   ]
  },
  {
   "cell_type": "code",
   "execution_count": null,
   "id": "8fcff224",
   "metadata": {
    "ExecuteTime": {
     "end_time": "2024-08-10T10:47:43.170229Z",
     "start_time": "2024-08-10T10:47:43.154603Z"
    }
   },
   "outputs": [],
   "source": [
    "LR_r_score = r2_score(y_test,pred1)\n",
    "RF_r_score = r2_score(y_test,pred2)\n",
    "GBR_r_score = r2_score(y_test,pred3)\n"
   ]
  },
  {
   "cell_type": "code",
   "execution_count": null,
   "id": "b588ad9f",
   "metadata": {
    "ExecuteTime": {
     "end_time": "2024-08-10T10:47:48.081788Z",
     "start_time": "2024-08-10T10:47:48.066164Z"
    }
   },
   "outputs": [
    {
     "name": "stdout",
     "output_type": "stream",
     "text": [
      "LR_r_score: 0.6780315518580096\n",
      "RF_r_score: 0.7547485710462003\n",
      "GBR_r_score: 0.7255712067597543\n"
     ]
    }
   ],
   "source": [
    "print('LR_r_score:',LR_r_score)\n",
    "print('RF_r_score:',RF_r_score)\n",
    "print('GBR_r_score:',GBR_r_score)"
   ]
  },
  {
   "cell_type": "code",
   "execution_count": null,
   "id": "46b0c9bb",
   "metadata": {
    "ExecuteTime": {
     "end_time": "2024-08-10T10:48:21.615292Z",
     "start_time": "2024-08-10T10:48:21.568442Z"
    }
   },
   "outputs": [],
   "source": [
    "# predicting\n",
    "new_data = pd.DataFrame({\"Car Make\":28,\n",
    "                         \"Engine Size (L)\":3,\n",
    "                         \"Horsepower\":379,\n",
    "                         \"Torque\":331,\n",
    "                         \"Time\":4,\n",
    "                         \"Age\":2},index=[0])\n",
    "pred_LR = LR.predict(new_data)\n",
    "pred_RF = RF.predict(new_data)\n",
    "pred_GBR =GBR.predict(new_data)\n"
   ]
  },
  {
   "cell_type": "code",
   "execution_count": null,
   "id": "f1159f70",
   "metadata": {
    "ExecuteTime": {
     "end_time": "2024-08-10T10:48:22.537124Z",
     "start_time": "2024-08-10T10:48:22.505865Z"
    }
   },
   "outputs": [
    {
     "name": "stdout",
     "output_type": "stream",
     "text": [
      "[-9028.39329588]\n",
      "[88626.68333333]\n",
      "[66828.36384732]\n"
     ]
    }
   ],
   "source": [
    "print(pred_LR)\n",
    "print(pred_RF)\n",
    "print(pred_GBR)"
   ]
  },
  {
   "cell_type": "code",
   "execution_count": null,
   "id": "63d07420",
   "metadata": {
    "ExecuteTime": {
     "end_time": "2024-08-10T10:48:29.580715Z",
     "start_time": "2024-08-10T10:48:29.565095Z"
    }
   },
   "outputs": [],
   "source": [
    "final_data = pd.DataFrame({\"models\":['LR','RF','GBR'],\n",
    "                          \"R2_Score\":[LR_r_score,RF_r_score,GBR_r_score]})"
   ]
  },
  {
   "cell_type": "code",
   "execution_count": null,
   "id": "9fc4ec51",
   "metadata": {
    "ExecuteTime": {
     "end_time": "2024-08-10T10:48:33.049388Z",
     "start_time": "2024-08-10T10:48:33.025309Z"
    }
   },
   "outputs": [
    {
     "data": {
      "text/html": [
       "<div>\n",
       "<style scoped>\n",
       "    .dataframe tbody tr th:only-of-type {\n",
       "        vertical-align: middle;\n",
       "    }\n",
       "\n",
       "    .dataframe tbody tr th {\n",
       "        vertical-align: top;\n",
       "    }\n",
       "\n",
       "    .dataframe thead th {\n",
       "        text-align: right;\n",
       "    }\n",
       "</style>\n",
       "<table border=\"1\" class=\"dataframe\">\n",
       "  <thead>\n",
       "    <tr style=\"text-align: right;\">\n",
       "      <th></th>\n",
       "      <th>models</th>\n",
       "      <th>R2_Score</th>\n",
       "    </tr>\n",
       "  </thead>\n",
       "  <tbody>\n",
       "    <tr>\n",
       "      <th>0</th>\n",
       "      <td>LR</td>\n",
       "      <td>0.678032</td>\n",
       "    </tr>\n",
       "    <tr>\n",
       "      <th>1</th>\n",
       "      <td>RF</td>\n",
       "      <td>0.754749</td>\n",
       "    </tr>\n",
       "    <tr>\n",
       "      <th>2</th>\n",
       "      <td>GBR</td>\n",
       "      <td>0.725571</td>\n",
       "    </tr>\n",
       "  </tbody>\n",
       "</table>\n",
       "</div>"
      ],
      "text/plain": [
       "  models  R2_Score\n",
       "0     LR  0.678032\n",
       "1     RF  0.754749\n",
       "2    GBR  0.725571"
      ]
     },
     "execution_count": 679,
     "metadata": {},
     "output_type": "execute_result"
    }
   ],
   "source": [
    "final_data"
   ]
  },
  {
   "cell_type": "code",
   "execution_count": null,
   "id": "2b77aa19",
   "metadata": {
    "ExecuteTime": {
     "end_time": "2024-08-10T10:48:44.649604Z",
     "start_time": "2024-08-10T10:48:44.382450Z"
    }
   },
   "outputs": [
    {
     "name": "stderr",
     "output_type": "stream",
     "text": [
      "C:\\Users\\LAPTOP\\anaconda\\lib\\site-packages\\seaborn\\_decorators.py:36: FutureWarning: Pass the following variables as keyword args: x, y. From version 0.12, the only valid positional argument will be `data`, and passing other arguments without an explicit keyword will result in an error or misinterpretation.\n",
      "  warnings.warn(\n"
     ]
    },
    {
     "data": {
      "text/plain": [
       "<AxesSubplot:xlabel='models', ylabel='R2_Score'>"
      ]
     },
     "execution_count": 680,
     "metadata": {},
     "output_type": "execute_result"
    },
    {
     "data": {
      "image/png": "[encoded data removed]",
      "text/plain": [
       "<Figure size 640x480 with 1 Axes>"
      ]
     },
     "metadata": {},
     "output_type": "display_data"
    }
   ],
   "source": [
    "sns.barplot(final_data['models'],final_data['R2_Score'])"
   ]
  },
  {
   "cell_type": "code",
   "execution_count": null,
   "id": "26841b08",
   "metadata": {
    "ExecuteTime": {
     "end_time": "2024-08-10T10:51:34.812340Z",
     "start_time": "2024-08-10T10:51:34.406118Z"
    }
   },
   "outputs": [],
   "source": [
    "# saving the most accurate model\n",
    "RF = RandomForestRegressor()\n",
    "RF_final = RF.fit(x,y)"
   ]
  },
  {
   "cell_type": "code",
   "execution_count": null,
   "id": "80ee1c6f",
   "metadata": {
    "ExecuteTime": {
     "end_time": "2024-08-10T10:51:36.905926Z",
     "start_time": "2024-08-10T10:51:36.890320Z"
    }
   },
   "outputs": [],
   "source": [
    "\n",
    "import joblib"
   ]
  },
  {
   "cell_type": "code",
   "execution_count": null,
   "id": "930e4f0b",
   "metadata": {
    "ExecuteTime": {
     "end_time": "2024-08-10T00:42:07.698855Z",
     "start_time": "2024-08-10T00:42:07.651961Z"
    }
   },
   "outputs": [
    {
     "data": {
      "text/plain": [
       "['sports_car_analysis']"
      ]
     },
     "execution_count": 531,
     "metadata": {},
     "output_type": "execute_result"
    }
   ],
   "source": [
    "# storing the model\n",
    "filename= 'sports_car_analysis'\n",
    "# joblib.dump(model, filename)\n",
    "joblib.dump(GBR_final,filename)"
   ]
  },
  {
   "cell_type": "code",
   "execution_count": null,
   "id": "d2d5eb87",
   "metadata": {
    "ExecuteTime": {
     "end_time": "2024-08-10T00:42:09.558081Z",
     "start_time": "2024-08-10T00:42:09.526832Z"
    }
   },
   "outputs": [],
   "source": [
    "# storing the filename as sports_car_analysis\n",
    "# model_filename = 'Sports car price.pkl'\n",
    "# joblib.dump(model,model_filename)\n",
    "# joblib.dump(GBR_final,model_filename)\n"
   ]
  },
  {
   "cell_type": "code",
   "execution_count": null,
   "id": "3ad11965",
   "metadata": {
    "ExecuteTime": {
     "end_time": "2024-08-10T00:42:11.443834Z",
     "start_time": "2024-08-10T00:42:11.381328Z"
    }
   },
   "outputs": [],
   "source": [
    "# # to load the model (model = joblib.load('model name.joblib')\n",
    "# # model = joblib.load('music_data.joblib'). you can use the file_name you stored\n",
    "model= joblib.load('sports_car_analysis')"
   ]
  },
  {
   "cell_type": "code",
   "execution_count": null,
   "id": "f2e840a4",
   "metadata": {
    "ExecuteTime": {
     "end_time": "2024-08-10T00:42:21.354715Z",
     "start_time": "2024-08-10T00:42:21.323518Z"
    }
   },
   "outputs": [
    {
     "data": {
      "text/plain": [
       "array([58288.57004686])"
      ]
     },
     "execution_count": 536,
     "metadata": {},
     "output_type": "execute_result"
    }
   ],
   "source": [
    "model.predict(new_data)"
   ]
  },
  {
   "cell_type": "markdown",
   "id": "16e5b900",
   "metadata": {},
   "source": [
    "<h3>Designing a GUI for the model</h3>"
   ]
  },
  {
   "cell_type": "code",
   "execution_count": null,
   "id": "d936693a",
   "metadata": {
    "ExecuteTime": {
     "end_time": "2024-08-10T00:44:54.225613Z",
     "start_time": "2024-08-10T00:42:29.519363Z"
    },
    "jupyter": {
     "source_hidden": true
    }
   },
   "outputs": [
    {
     "ename": "ModuleNotFoundError",
     "evalue": "No module named 'joblib'",
     "output_type": "error",
     "traceback": [
      "\u001b[1;31m---------------------------------------------------------------------------\u001b[0m",
      "\u001b[1;31mModuleNotFoundError\u001b[0m                       Traceback (most recent call last)",
      "Cell \u001b[1;32mIn[3], line 2\u001b[0m\n\u001b[0;32m      1\u001b[0m \u001b[38;5;28;01mfrom\u001b[39;00m \u001b[38;5;21;01mtkinter\u001b[39;00m \u001b[38;5;28;01mimport\u001b[39;00m \u001b[38;5;241m*\u001b[39m\n\u001b[1;32m----> 2\u001b[0m \u001b[38;5;28;01mimport\u001b[39;00m \u001b[38;5;21;01mjoblib\u001b[39;00m\n\u001b[0;32m      3\u001b[0m \u001b[38;5;28;01mdef\u001b[39;00m \u001b[38;5;21mshow_entry_fields\u001b[39m():\n\u001b[0;32m      4\u001b[0m     p1\u001b[38;5;241m=\u001b[39m \u001b[38;5;28mfloat\u001b[39m(Car_Make_entry\u001b[38;5;241m.\u001b[39mget())\n",
      "\u001b[1;31mModuleNotFoundError\u001b[0m: No module named 'joblib'"
     ]
    }
   ],
   "source": [
    "from tkinter import *\n",
    "import joblib\n",
    "def show_entry_fields():\n",
    "    p1= float(Car_Make_entry.get())\n",
    "    P2 =float(Car_Model_entry.get())\n",
    "    p3= float(Engine_Size_entry.get())\n",
    "    p4= float(Horsepower_entry.get())\n",
    "    p5= float(Torque_entry.get())\n",
    "    p6= float(Time_entry.get())\n",
    "    p7= float(Age_entry.get())\n",
    "  \n",
    "    \n",
    "    model = joblib.load('Sports car price.joblib')\n",
    "    data_New = pd.DataFrame({'Car Make':p1,\n",
    "                             'Car Model':p2,\n",
    "                         'Engine Size (L)':p3,\n",
    "                         'Horsepower':p4,\n",
    "                         'Torque':p5,\n",
    "                         'Time':p6,\n",
    "                         'Age':p7},index=[0])    \n",
    "        \n",
    "        \n",
    "    \n",
    "    result = model.predict(data_New)\n",
    "    Label(master,text =\"car purchase amount\").grid(row=9)\n",
    "    Label(master,text = result).grid(row=12)\n",
    "    print(\"car purchase amount\",result[0])\n",
    "    \n",
    "master=Tk()\n",
    "master.title(\"car price prediction using machine learning\")\n",
    "label=Label(master,text=\"car price prediction\",\n",
    "            bg=\"black\",fg=\"white\").grid(row=0,columnspan=2)\n",
    "\n",
    "\n",
    "Label(master,text=\"Car Make\").grid(row=1)\n",
    "Label(master,text=\"Car Model\").grid(row=2)\n",
    "Label(master,text=\"Engine Size\").grid(row=3)\n",
    "Label(master,text=\"Horsepower\").grid(row=4)\n",
    "Label(master,text=\"Torque\").grid(row=5)\n",
    "Label(master,text=\"Time\").grid(row=6)\n",
    "Label(master,text=\"Age\").grid(row=7)\n",
    "\n",
    "Car_Make_entry = Entry(master).grid(row=1,column=1)\n",
    "Car_Model_entry = Entry(master).grid(row=2,column=1)\n",
    "Engine_Size_entry = Entry(master).grid(row=3,column=1)\n",
    "Horsepower_entry = Entry(master).grid(row=4,column=1)\n",
    "Torque_entry = Entry(master).grid(row=5,column=1)\n",
    "Time_entry = Entry(master).grid(row=6,column=1)\n",
    "Age_entry = Entry(master).grid(row=7,column=1)\n",
    "\n",
    "\n",
    "Button(master,text=\"Predict\",command=show_entry_fields).grid(row=12)\n",
    "master.mainloop()\n",
    "\n",
    "           "
   ]
  },
  {
   "cell_type": "code",
   "execution_count": null,
   "id": "a4b8add7",
   "metadata": {},
   "outputs": [],
   "source": []
  },
  {
   "cell_type": "code",
   "execution_count": null,
   "id": "773d91f6",
   "metadata": {},
   "outputs": [],
   "source": []
  },
  {
   "cell_type": "code",
   "execution_count": null,
   "id": "b6090da1",
   "metadata": {},
   "outputs": [],
   "source": []
  }
 ],
 "metadata": {
  "kernelspec": {
   "display_name": "Python 3",
   "language": "python",
   "name": "python3"
  },
  "language_info": {
   "codemirror_mode": {
    "name": "ipython",
    "version": 3
   },
   "file_extension": ".py",
   "mimetype": "text/x-python",
   "name": "python",
   "nbconvert_exporter": "python",
   "pygments_lexer": "ipython3",
   "version": "3.11.4"
  },
  "toc": {
   "base_numbering": 1,
   "nav_menu": {},
   "number_sections": true,
   "sideBar": true,
   "skip_h1_title": false,
   "title_cell": "Table of Contents",
   "title_sidebar": "Contents",
   "toc_cell": false,
   "toc_position": {},
   "toc_section_display": true,
   "toc_window_display": false
  }
 },
 "nbformat": 4,
 "nbformat_minor": 5
}
